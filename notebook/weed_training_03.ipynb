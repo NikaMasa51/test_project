{
  "nbformat": 4,
  "nbformat_minor": 0,
  "metadata": {
    "colab": {
      "name": "weed_training_03",
      "provenance": [],
      "collapsed_sections": [],
      "toc_visible": true
    },
    "kernelspec": {
      "name": "python3",
      "display_name": "Python 3"
    },
    "accelerator": "GPU"
  },
  "cells": [
    {
      "cell_type": "markdown",
      "metadata": {
        "id": "op_4dXNe5oEV",
        "colab_type": "text"
      },
      "source": [
        "# 雑草の生育期間を区別して分類器を作る（生育済み）"
      ]
    },
    {
      "cell_type": "markdown",
      "metadata": {
        "id": "7rHfn1CefGi0",
        "colab_type": "text"
      },
      "source": [
        "■グーグルドライブをマウント"
      ]
    },
    {
      "cell_type": "code",
      "metadata": {
        "id": "-d7Gaw6p5kLX",
        "colab_type": "code",
        "outputId": "7825bf04-97e8-4404-ea9e-98afebd0b906",
        "colab": {
          "base_uri": "https://localhost:8080/",
          "height": 126
        }
      },
      "source": [
        "from google.colab import drive\n",
        "drive.mount('/content/drive')"
      ],
      "execution_count": 1,
      "outputs": [
        {
          "output_type": "stream",
          "text": [
            "Go to this URL in a browser: https://accounts.google.com/o/oauth2/auth?client_id=947318989803-6bn6qk8qdgf4n4g3pfee6491hc0brc4i.apps.googleusercontent.com&redirect_uri=urn%3aietf%3awg%3aoauth%3a2.0%3aoob&response_type=code&scope=email%20https%3a%2f%2fwww.googleapis.com%2fauth%2fdocs.test%20https%3a%2f%2fwww.googleapis.com%2fauth%2fdrive%20https%3a%2f%2fwww.googleapis.com%2fauth%2fdrive.photos.readonly%20https%3a%2f%2fwww.googleapis.com%2fauth%2fpeopleapi.readonly\n",
            "\n",
            "Enter your authorization code:\n",
            "··········\n",
            "Mounted at /content/drive\n"
          ],
          "name": "stdout"
        }
      ]
    },
    {
      "cell_type": "markdown",
      "metadata": {
        "id": "QPNIv32VCCBI",
        "colab_type": "text"
      },
      "source": [
        "■clusterディレクトリをカレントにコピー\n",
        "※driveのデータを直接変更しないようにあらかじめコピーしておく"
      ]
    },
    {
      "cell_type": "code",
      "metadata": {
        "id": "1lvh2h6YBLf0",
        "colab_type": "code",
        "colab": {}
      },
      "source": [
        "%cp -r ./drive/My\\ Drive/cluster ./"
      ],
      "execution_count": 0,
      "outputs": []
    },
    {
      "cell_type": "markdown",
      "metadata": {
        "id": "PzF0mQNICl6x",
        "colab_type": "text"
      },
      "source": [
        "■ディレクトリを作成"
      ]
    },
    {
      "cell_type": "code",
      "metadata": {
        "id": "3zsW_yV4blgv",
        "colab_type": "code",
        "colab": {}
      },
      "source": [
        "import os, shutil\n",
        "\n",
        "# The directory where we will\n",
        "# store our smaller dataset\n",
        "base_dir = \"./CLS\"\n",
        "if \"CLS\" not in os.listdir(\"./\"):\n",
        "  os.mkdir(base_dir)\n",
        "else:\n",
        "  print(base_dir, \"は既に存在します\")\n",
        "\n",
        "train_index = \"train\"\n",
        "train_dir = os.path.join(base_dir, train_index)\n",
        "if train_index not in os.listdir(base_dir):\n",
        "  os.mkdir(train_dir)\n",
        "else:\n",
        "  print(train_dir + \"は既に存在します\")\n",
        "\n",
        "validation_index = \"validation\"\n",
        "validation_dir = os.path.join(base_dir, validation_index)\n",
        "if validation_index not in os.listdir(base_dir):\n",
        "  os.mkdir(validation_dir)\n",
        "else:\n",
        "  print(validation_dir + \"は既に存在します\")\n",
        "\n",
        "prediction_index = \"prediction\"\n",
        "prediction_dir = os.path.join(base_dir, prediction_index)\n",
        "if prediction_index not in os.listdir(base_dir):\n",
        "  os.mkdir(prediction_dir)\n",
        "else:\n",
        "  print(prediction_dir + \"は既に存在します\")\n",
        "\n",
        "#10分類のclassを入力\n",
        "classes=[\"hakidamegiku\",\"hosoaogeitou\",\"ichibi\",\n",
        "         \"inubie\",\"kosendangusa\",\"mameasagao\",\n",
        "         \"mehishiba\",\"ohishiba\",\"oinutade\",\"shiroza\",]\n",
        "dirs = os.listdir(base_dir)\n",
        "for dir in dirs:\n",
        "  for cls in classes:\n",
        "    # Directory with our training pictures\n",
        "    class_dir = os.path.join(base_dir, dir, cls)\n",
        "    if cls not in os.listdir(base_dir + \"/\" + dir):\n",
        "      os.mkdir(class_dir)\n",
        "    else:\n",
        "      print(class_dir, \"は既に存在します\")\n"
      ],
      "execution_count": 0,
      "outputs": []
    },
    {
      "cell_type": "markdown",
      "metadata": {
        "id": "8CPwpwvHcAOZ",
        "colab_type": "text"
      },
      "source": [
        "■ディレクトリに画像をランダムに振り分け"
      ]
    },
    {
      "cell_type": "code",
      "metadata": {
        "colab_type": "code",
        "id": "06Htjh2XbM50",
        "colab": {}
      },
      "source": [
        "from os.path import join\n",
        "import random\n",
        "\n",
        "clsdir = \"./cluster\"\n",
        "base_dir = \"./CLS\"\n",
        "dirs = os.listdir(base_dir)\n",
        "# weed_typeを生育済みのみに設定\n",
        "weed_types = [\"grown\"]\n",
        "weed_names = os.listdir(clsdir)\n",
        "# ファイル（クラスごとに分かれている）を順番に読み取り\n",
        "# train, validationデータを作成\n",
        "for weed_name in weed_names:\n",
        "  for weed_type in weed_types: \n",
        "    print(weed_name, \"/\",weed_type)\n",
        "    file_names = os.listdir(os.path.join(clsdir, weed_name, weed_type))\n",
        "    files100 = random.sample(file_names, int(100))\n",
        "    num1 = 0\n",
        "    num2 = 0\n",
        "    for file_name in file_names:\n",
        "      if  file_name in files100:\n",
        "        if num1 >= 90:\n",
        "          continue\n",
        "        # 移動元のファイル\n",
        "        path1 = os.path.join(clsdir, weed_name, weed_type, file_name)\n",
        "        # 移動先のファイル\n",
        "        path2= os.path.join(base_dir, \"train\", weed_name, file_name)\n",
        "        # ファイルを移動\n",
        "        new_path = shutil.move(path1, path2)\n",
        "        # ファイルの存在確認\n",
        "        print(os.path.exists(path2))\n",
        "        num1 = num1 + 1\n",
        "      else:\n",
        "        if num2 >= 90:\n",
        "          continue \n",
        "        # 移動元のファイル\n",
        "        path1 = os.path.join(clsdir, weed_name, weed_type, file_name)\n",
        "        # 移動先のファイル\n",
        "        path2= os.path.join(base_dir, \"validation\", weed_name, file_name)\n",
        "        # ファイルを移動\n",
        "        new_path = shutil.move(path1, path2)\n",
        "        # ファイルの存在確認\n",
        "        print(os.path.exists(path2))\n",
        "        num2 = num2 + 1\n",
        "\n",
        "# predictionデータを作成\n",
        "for weed_name in weed_names:\n",
        "  for weed_type in weed_types:\n",
        "    print(weed_name, \"/\",weed_type)\n",
        "    file_names = os.listdir(os.path.join(clsdir, weed_name, weed_type))\n",
        "    for file_name in file_names:      \n",
        "      # 移動元のファイル\n",
        "      path1 = os.path.join(clsdir, weed_name, weed_type, file_name)\n",
        "      # 移動先のファイル\n",
        "      path2= os.path.join(base_dir, \"prediction\", weed_name, file_name)\n",
        "      # ファイルを移動\n",
        "      new_path = shutil.move(path1, path2)\n",
        "      # ファイルの存在確認\n",
        "      print(os.path.exists(path2))\n"
      ],
      "execution_count": 0,
      "outputs": []
    },
    {
      "cell_type": "markdown",
      "metadata": {
        "id": "89zSPJPufnsz",
        "colab_type": "text"
      },
      "source": [
        "■解凍したファイルをそれぞれ訓練データと検証用のデータに分けます"
      ]
    },
    {
      "cell_type": "code",
      "metadata": {
        "colab_type": "code",
        "outputId": "885094de-53b6-4063-eb61-3b781130b54f",
        "id": "ork4z7VlHv5T",
        "colab": {
          "base_uri": "https://localhost:8080/",
          "height": 88
        }
      },
      "source": [
        "import os \n",
        "import numpy as np\n",
        "from keras.preprocessing.image import ImageDataGenerator\n",
        "import keras.preprocessing.image as Image\n",
        "\n",
        "input_size = 224\n",
        "\n",
        "train_dir = \"./CLS/train\"\n",
        "validation_dir = \"./CLS/validation\"\n",
        "prediction_dir = \"./CLS/prediction\"\n",
        "\n",
        "\n",
        "train_datagen = Image.ImageDataGenerator(\n",
        "            featurewise_center = False,\n",
        "            samplewise_center = False,\n",
        "            featurewise_std_normalization = False,\n",
        "            samplewise_std_normalization = False,\n",
        "            zca_whitening = False,\n",
        "            rotation_range = 90,\n",
        "            width_shift_range = 0.3,\n",
        "            height_shift_range = 0.3,\n",
        "            horizontal_flip = True,\n",
        "            vertical_flip = False,\n",
        "            rescale=1./255\n",
        "        )\n",
        "\n",
        "val_datagen = Image.ImageDataGenerator(rescale=1./255)\n",
        "\n",
        "\n",
        "\n",
        "train_generator = train_datagen.flow_from_directory(\n",
        "            train_dir,\n",
        "            target_size=(input_size,input_size),\n",
        "            batch_size=10,\n",
        "            class_mode='categorical'\n",
        "        )\n",
        "\n",
        "validation_generator = val_datagen.flow_from_directory(\n",
        "            validation_dir,\n",
        "            target_size=(input_size,input_size),\n",
        "            batch_size=10,\n",
        "            class_mode='categorical'\n",
        "        )\n",
        "\n",
        "\n",
        "prediction_generator = val_datagen.flow_from_directory(\n",
        "            prediction_dir,\n",
        "            target_size=(input_size,input_size),\n",
        "            batch_size=10,\n",
        "            class_mode='categorical'\n",
        "        )\n"
      ],
      "execution_count": 5,
      "outputs": [
        {
          "output_type": "stream",
          "text": [
            "Using TensorFlow backend.\n"
          ],
          "name": "stderr"
        },
        {
          "output_type": "stream",
          "text": [
            "Found 900 images belonging to 10 classes.\n",
            "Found 900 images belonging to 10 classes.\n",
            "Found 200 images belonging to 10 classes.\n"
          ],
          "name": "stdout"
        }
      ]
    },
    {
      "cell_type": "markdown",
      "metadata": {
        "id": "SnbD3y_Zh7Pg",
        "colab_type": "text"
      },
      "source": [
        "■学習開始"
      ]
    },
    {
      "cell_type": "code",
      "metadata": {
        "id": "5dq94WdxULw9",
        "colab_type": "code",
        "colab": {}
      },
      "source": [
        "\n",
        "#ファインチューニング+VGG+水増し。ここから実行してOK（VGG16をダウンロード）\n",
        "from keras import models\n",
        "from keras import layers\n",
        "from keras.optimizers import Adam\n",
        "from keras.layers import Dense, Dropout, Activation, Flatten\n",
        "from keras.applications import VGG16\n",
        "import tensorflow as tf\n",
        "import tensorflow.keras.backend as K\n",
        "from tensorflow.keras.callbacks import History, Callback\n",
        "from keras.objectives import categorical_crossentropy\n",
        "import numpy as np\n",
        "from sklearn.metrics import confusion_matrix, accuracy_score\n",
        "from keras.utils import to_categorical\n",
        "from scipy.stats import mode\n",
        "import os, pickle\n",
        "\n",
        "\n",
        "def create_cnn():\n",
        "  input_size=224\n",
        "  #input_sizeは224,224までOK。\n",
        "\n",
        "  vgg_conv = VGG16(weights='imagenet', include_top=False, input_shape=(input_size,input_size, 3))\n",
        "  last = vgg_conv.output\n",
        "\n",
        "  vgg_conv.trainable = True\n",
        "\n",
        "  set_trainable = False\n",
        "  for layer in vgg_conv.layers:\n",
        "    if layer.name == 'block5_conv1':\n",
        "      set_trainable = True\n",
        "    if set_trainable:\n",
        "      layer.trainable = True\n",
        "    else:\n",
        "      layer.trainable = False\n",
        "\n",
        "  mod = Flatten()(last)\n",
        "  mod = Dense(256, activation='relu')(mod)\n",
        "  #mod = Dropout(0.5)(mod)\n",
        "  preds = Dense(10, activation='softmax')(mod)\n",
        "\n",
        "  model = models.Model(vgg_conv.input, preds)\n",
        "\n",
        "  return model\n"
      ],
      "execution_count": 0,
      "outputs": []
    },
    {
      "cell_type": "markdown",
      "metadata": {
        "id": "vMCP246j39AB",
        "colab_type": "text"
      },
      "source": [
        "チェックポイントを定義(val lossが一番低い値の時にweightを保存)"
      ]
    },
    {
      "cell_type": "code",
      "metadata": {
        "id": "Sa68Qz4p3_Ov",
        "colab_type": "code",
        "colab": {}
      },
      "source": [
        "class Checkpoint(Callback):\n",
        "    def __init__(self, model, filepath):\n",
        "        self.model = model\n",
        "        self.filepath = filepath\n",
        "        self.best_val_acc = 0.0\n",
        "        self.best_val_loss = 0.1\n",
        "\n",
        "    def on_epoch_end(self, epoch, logs):\n",
        "        # val_accuracyが最大の時ににweightを保存する\n",
        "        # if self.best_val_acc < logs[\"val_accuracy\"]:\n",
        "        #     self.model.save_weights(self.filepath)\n",
        "        #     self.best_val_acc = logs[\"val_accuracy\"]\n",
        "        #     print(\"Weights saved.\", self.best_val_acc)\n",
        "\n",
        "        # val_lossが最小の時ににweightを保存する\n",
        "        if self.best_val_loss > logs[\"val_loss\"]:\n",
        "            self.model.save_weights(self.filepath)\n",
        "            self.best_val_loss = logs[\"val_loss\"]\n",
        "            print(\"Weights saved.\", self.best_val_loss)\n",
        "        # print(epoch + 1)\n",
        "\n",
        "        # epochの最後にweightを保存する\n",
        "        # if epoch == 99:\n",
        "        #   print(\"epoch equals \", epoch)\n",
        "        #   self.model.save_weights(self.filepath)\n",
        "        #   self.best_val_loss = logs[\"val_loss\"]\n",
        "        #   print(\"Weights saved.\", self.best_val_loss)"
      ],
      "execution_count": 0,
      "outputs": []
    },
    {
      "cell_type": "markdown",
      "metadata": {
        "id": "3-DwQxyRfdxG",
        "colab_type": "text"
      },
      "source": [
        "モデルを実行してアンサンブル学習させていきます"
      ]
    },
    {
      "cell_type": "code",
      "metadata": {
        "id": "dLkWD57CZJEX",
        "colab_type": "code",
        "colab": {}
      },
      "source": [
        "def train():\n",
        "    print(\"train starts\")\n",
        "    hist = History()\n",
        "    train_model = create_cnn()\n",
        "    train_model.compile(optimizer=Adam(lr=1e-5),loss='categorical_crossentropy',metrics=['accuracy'])\n",
        "    cp = Checkpoint(train_model, f\"weights.hdf5\")\n",
        "    train_model.fit_generator(train_generator,epochs=100,validation_data=validation_generator,callbacks=[hist, cp])      \n",
        "\n",
        "    return hist.history\n",
        "\n",
        "\n"
      ],
      "execution_count": 0,
      "outputs": []
    },
    {
      "cell_type": "code",
      "metadata": {
        "id": "fqaVKLXZgiEZ",
        "colab_type": "code",
        "outputId": "de20e25b-ea3f-4d6d-df12-ab37b545d2c1",
        "colab": {
          "base_uri": "https://localhost:8080/",
          "height": 1000
        }
      },
      "source": [
        "K.clear_session()\n",
        "hist = train()"
      ],
      "execution_count": 16,
      "outputs": [
        {
          "output_type": "stream",
          "text": [
            "train starts\n",
            "Epoch 1/100\n",
            "90/90 [==============================] - 31s 339ms/step - loss: 1.9738 - accuracy: 0.3111 - val_loss: 1.1353 - val_accuracy: 0.5744\n",
            "Epoch 2/100\n",
            "90/90 [==============================] - 29s 320ms/step - loss: 1.1188 - accuracy: 0.6311 - val_loss: 0.9569 - val_accuracy: 0.7278\n",
            "Epoch 3/100\n",
            "90/90 [==============================] - 28s 317ms/step - loss: 0.7383 - accuracy: 0.7544 - val_loss: 0.2557 - val_accuracy: 0.7978\n",
            "Epoch 4/100\n",
            "90/90 [==============================] - 29s 319ms/step - loss: 0.5559 - accuracy: 0.8244 - val_loss: 0.2054 - val_accuracy: 0.8689\n",
            "Epoch 5/100\n",
            "90/90 [==============================] - 29s 319ms/step - loss: 0.4743 - accuracy: 0.8433 - val_loss: 0.4346 - val_accuracy: 0.8533\n",
            "Epoch 6/100\n",
            "90/90 [==============================] - 29s 319ms/step - loss: 0.3656 - accuracy: 0.8867 - val_loss: 0.4286 - val_accuracy: 0.9000\n",
            "Epoch 7/100\n",
            "90/90 [==============================] - 29s 322ms/step - loss: 0.3536 - accuracy: 0.8789 - val_loss: 0.5487 - val_accuracy: 0.9067\n",
            "Epoch 8/100\n",
            "90/90 [==============================] - 29s 326ms/step - loss: 0.3186 - accuracy: 0.9056 - val_loss: 0.1419 - val_accuracy: 0.9200\n",
            "Epoch 9/100\n",
            "90/90 [==============================] - 29s 325ms/step - loss: 0.2598 - accuracy: 0.9156 - val_loss: 0.4347 - val_accuracy: 0.9233\n",
            "Epoch 10/100\n",
            "90/90 [==============================] - 29s 324ms/step - loss: 0.2392 - accuracy: 0.9144 - val_loss: 0.8054 - val_accuracy: 0.9311\n",
            "Epoch 11/100\n",
            "90/90 [==============================] - 29s 324ms/step - loss: 0.2202 - accuracy: 0.9278 - val_loss: 0.7299 - val_accuracy: 0.9411\n",
            "Epoch 12/100\n",
            "90/90 [==============================] - 29s 325ms/step - loss: 0.2013 - accuracy: 0.9333 - val_loss: 0.0468 - val_accuracy: 0.9267\n",
            "Weights saved. 0.04683876410126686\n",
            "Epoch 13/100\n",
            "90/90 [==============================] - 29s 325ms/step - loss: 0.1841 - accuracy: 0.9311 - val_loss: 0.0159 - val_accuracy: 0.9533\n",
            "Weights saved. 0.01594758965075016\n",
            "Epoch 14/100\n",
            "90/90 [==============================] - 29s 323ms/step - loss: 0.1508 - accuracy: 0.9500 - val_loss: 0.0035 - val_accuracy: 0.9556\n",
            "Weights saved. 0.0035015400499105453\n",
            "Epoch 15/100\n",
            "90/90 [==============================] - 29s 324ms/step - loss: 0.1435 - accuracy: 0.9478 - val_loss: 0.0035 - val_accuracy: 0.9367\n",
            "Weights saved. 0.003500149352476001\n",
            "Epoch 16/100\n",
            "90/90 [==============================] - 30s 328ms/step - loss: 0.1822 - accuracy: 0.9367 - val_loss: 0.0459 - val_accuracy: 0.9589\n",
            "Epoch 17/100\n",
            "90/90 [==============================] - 30s 330ms/step - loss: 0.1354 - accuracy: 0.9533 - val_loss: 0.8782 - val_accuracy: 0.9222\n",
            "Epoch 18/100\n",
            "90/90 [==============================] - 29s 326ms/step - loss: 0.1634 - accuracy: 0.9400 - val_loss: 0.0261 - val_accuracy: 0.9500\n",
            "Epoch 19/100\n",
            "90/90 [==============================] - 29s 326ms/step - loss: 0.1243 - accuracy: 0.9533 - val_loss: 0.0076 - val_accuracy: 0.9656\n",
            "Epoch 20/100\n",
            "90/90 [==============================] - 29s 322ms/step - loss: 0.1201 - accuracy: 0.9567 - val_loss: 0.2302 - val_accuracy: 0.9644\n",
            "Epoch 21/100\n",
            "90/90 [==============================] - 29s 325ms/step - loss: 0.1354 - accuracy: 0.9522 - val_loss: 0.4943 - val_accuracy: 0.9522\n",
            "Epoch 22/100\n",
            "90/90 [==============================] - 29s 326ms/step - loss: 0.1040 - accuracy: 0.9656 - val_loss: 0.3102 - val_accuracy: 0.9656\n",
            "Epoch 23/100\n",
            "90/90 [==============================] - 29s 322ms/step - loss: 0.1276 - accuracy: 0.9533 - val_loss: 0.0511 - val_accuracy: 0.9689\n",
            "Epoch 24/100\n",
            "90/90 [==============================] - 29s 321ms/step - loss: 0.0904 - accuracy: 0.9667 - val_loss: 8.9431e-04 - val_accuracy: 0.9344\n",
            "Weights saved. 0.0008943133871071041\n",
            "Epoch 25/100\n",
            "90/90 [==============================] - 29s 322ms/step - loss: 0.1003 - accuracy: 0.9600 - val_loss: 0.1361 - val_accuracy: 0.9567\n",
            "Epoch 26/100\n",
            "90/90 [==============================] - 29s 322ms/step - loss: 0.0814 - accuracy: 0.9733 - val_loss: 0.0163 - val_accuracy: 0.9644\n",
            "Epoch 27/100\n",
            "90/90 [==============================] - 29s 322ms/step - loss: 0.0967 - accuracy: 0.9667 - val_loss: 0.0162 - val_accuracy: 0.9578\n",
            "Epoch 28/100\n",
            "90/90 [==============================] - 29s 323ms/step - loss: 0.0642 - accuracy: 0.9756 - val_loss: 0.0390 - val_accuracy: 0.9689\n",
            "Epoch 29/100\n",
            "90/90 [==============================] - 29s 325ms/step - loss: 0.0836 - accuracy: 0.9644 - val_loss: 0.0751 - val_accuracy: 0.9633\n",
            "Epoch 30/100\n",
            "90/90 [==============================] - 29s 324ms/step - loss: 0.0814 - accuracy: 0.9733 - val_loss: 0.0033 - val_accuracy: 0.9633\n",
            "Epoch 31/100\n",
            "90/90 [==============================] - 29s 324ms/step - loss: 0.0801 - accuracy: 0.9733 - val_loss: 0.1861 - val_accuracy: 0.9667\n",
            "Epoch 32/100\n",
            "90/90 [==============================] - 29s 323ms/step - loss: 0.0624 - accuracy: 0.9811 - val_loss: 0.1381 - val_accuracy: 0.9622\n",
            "Epoch 33/100\n",
            "90/90 [==============================] - 29s 323ms/step - loss: 0.0587 - accuracy: 0.9822 - val_loss: 0.0124 - val_accuracy: 0.9678\n",
            "Epoch 34/100\n",
            "90/90 [==============================] - 29s 326ms/step - loss: 0.0714 - accuracy: 0.9722 - val_loss: 0.0140 - val_accuracy: 0.9644\n",
            "Epoch 35/100\n",
            "90/90 [==============================] - 29s 328ms/step - loss: 0.0609 - accuracy: 0.9811 - val_loss: 0.1803 - val_accuracy: 0.9622\n",
            "Epoch 36/100\n",
            "90/90 [==============================] - 29s 325ms/step - loss: 0.0550 - accuracy: 0.9822 - val_loss: 0.0152 - val_accuracy: 0.9633\n",
            "Epoch 37/100\n",
            "90/90 [==============================] - 29s 324ms/step - loss: 0.0922 - accuracy: 0.9633 - val_loss: 0.0291 - val_accuracy: 0.9678\n",
            "Epoch 38/100\n",
            "90/90 [==============================] - 29s 328ms/step - loss: 0.0421 - accuracy: 0.9878 - val_loss: 0.0015 - val_accuracy: 0.9700\n",
            "Epoch 39/100\n",
            "90/90 [==============================] - 30s 333ms/step - loss: 0.0759 - accuracy: 0.9711 - val_loss: 0.1253 - val_accuracy: 0.9644\n",
            "Epoch 40/100\n",
            "90/90 [==============================] - 30s 334ms/step - loss: 0.0581 - accuracy: 0.9800 - val_loss: 1.0424e-04 - val_accuracy: 0.9656\n",
            "Weights saved. 0.00010424250649521127\n",
            "Epoch 41/100\n",
            "90/90 [==============================] - 30s 334ms/step - loss: 0.0385 - accuracy: 0.9900 - val_loss: 0.1362 - val_accuracy: 0.9633\n",
            "Epoch 42/100\n",
            "90/90 [==============================] - 30s 334ms/step - loss: 0.0533 - accuracy: 0.9833 - val_loss: 0.0139 - val_accuracy: 0.9600\n",
            "Epoch 43/100\n",
            "90/90 [==============================] - 30s 333ms/step - loss: 0.0393 - accuracy: 0.9856 - val_loss: 3.7192e-04 - val_accuracy: 0.9778\n",
            "Epoch 44/100\n",
            "90/90 [==============================] - 30s 334ms/step - loss: 0.0292 - accuracy: 0.9922 - val_loss: 0.3825 - val_accuracy: 0.9722\n",
            "Epoch 45/100\n",
            "90/90 [==============================] - 30s 333ms/step - loss: 0.0624 - accuracy: 0.9778 - val_loss: 0.0036 - val_accuracy: 0.9744\n",
            "Epoch 46/100\n",
            "90/90 [==============================] - 30s 333ms/step - loss: 0.0404 - accuracy: 0.9867 - val_loss: 0.0499 - val_accuracy: 0.9689\n",
            "Epoch 47/100\n",
            "90/90 [==============================] - 30s 333ms/step - loss: 0.0415 - accuracy: 0.9867 - val_loss: 0.0152 - val_accuracy: 0.9400\n",
            "Epoch 48/100\n",
            "90/90 [==============================] - 30s 333ms/step - loss: 0.0479 - accuracy: 0.9844 - val_loss: 2.6538e-04 - val_accuracy: 0.9656\n",
            "Epoch 49/100\n",
            "90/90 [==============================] - 30s 333ms/step - loss: 0.0295 - accuracy: 0.9922 - val_loss: 2.6903e-04 - val_accuracy: 0.9622\n",
            "Epoch 50/100\n",
            "90/90 [==============================] - 30s 336ms/step - loss: 0.0433 - accuracy: 0.9811 - val_loss: 0.2147 - val_accuracy: 0.9722\n",
            "Epoch 51/100\n",
            "90/90 [==============================] - 30s 333ms/step - loss: 0.0328 - accuracy: 0.9878 - val_loss: 0.2163 - val_accuracy: 0.9500\n",
            "Epoch 52/100\n",
            "90/90 [==============================] - 30s 334ms/step - loss: 0.0374 - accuracy: 0.9922 - val_loss: 0.0281 - val_accuracy: 0.9767\n",
            "Epoch 53/100\n",
            "90/90 [==============================] - 30s 332ms/step - loss: 0.0500 - accuracy: 0.9800 - val_loss: 0.0021 - val_accuracy: 0.9122\n",
            "Epoch 54/100\n",
            "90/90 [==============================] - 30s 334ms/step - loss: 0.0380 - accuracy: 0.9856 - val_loss: 8.8076e-04 - val_accuracy: 0.9800\n",
            "Epoch 55/100\n",
            "90/90 [==============================] - 30s 334ms/step - loss: 0.0241 - accuracy: 0.9922 - val_loss: 2.1017e-04 - val_accuracy: 0.9656\n",
            "Epoch 56/100\n",
            "90/90 [==============================] - 30s 333ms/step - loss: 0.0343 - accuracy: 0.9878 - val_loss: 0.0011 - val_accuracy: 0.9722\n",
            "Epoch 57/100\n",
            "90/90 [==============================] - 30s 332ms/step - loss: 0.0383 - accuracy: 0.9889 - val_loss: 5.0308e-04 - val_accuracy: 0.9744\n",
            "Epoch 58/100\n",
            "90/90 [==============================] - 30s 334ms/step - loss: 0.0198 - accuracy: 0.9933 - val_loss: 8.6137e-04 - val_accuracy: 0.9756\n",
            "Epoch 59/100\n",
            "90/90 [==============================] - 30s 332ms/step - loss: 0.0115 - accuracy: 0.9978 - val_loss: 0.0078 - val_accuracy: 0.9711\n",
            "Epoch 60/100\n",
            "90/90 [==============================] - 30s 336ms/step - loss: 0.0260 - accuracy: 0.9900 - val_loss: 3.3214e-04 - val_accuracy: 0.9678\n",
            "Epoch 61/100\n",
            "90/90 [==============================] - 30s 332ms/step - loss: 0.0370 - accuracy: 0.9878 - val_loss: 0.0029 - val_accuracy: 0.9611\n",
            "Epoch 62/100\n",
            "90/90 [==============================] - 30s 333ms/step - loss: 0.0426 - accuracy: 0.9856 - val_loss: 8.6252e-04 - val_accuracy: 0.9733\n",
            "Epoch 63/100\n",
            "90/90 [==============================] - 30s 332ms/step - loss: 0.0278 - accuracy: 0.9900 - val_loss: 4.1942e-05 - val_accuracy: 0.9622\n",
            "Weights saved. 4.194229404674843e-05\n",
            "Epoch 64/100\n",
            "90/90 [==============================] - 30s 335ms/step - loss: 0.0269 - accuracy: 0.9933 - val_loss: 0.0013 - val_accuracy: 0.9789\n",
            "Epoch 65/100\n",
            "90/90 [==============================] - 30s 333ms/step - loss: 0.0343 - accuracy: 0.9900 - val_loss: 0.0018 - val_accuracy: 0.9589\n",
            "Epoch 66/100\n",
            "90/90 [==============================] - 30s 333ms/step - loss: 0.0175 - accuracy: 0.9944 - val_loss: 0.0119 - val_accuracy: 0.9700\n",
            "Epoch 67/100\n",
            "90/90 [==============================] - 30s 333ms/step - loss: 0.0299 - accuracy: 0.9889 - val_loss: 0.0033 - val_accuracy: 0.9800\n",
            "Epoch 68/100\n",
            "90/90 [==============================] - 30s 332ms/step - loss: 0.0557 - accuracy: 0.9822 - val_loss: 0.0969 - val_accuracy: 0.9722\n",
            "Epoch 69/100\n",
            "90/90 [==============================] - 30s 333ms/step - loss: 0.0281 - accuracy: 0.9911 - val_loss: 0.0854 - val_accuracy: 0.9778\n",
            "Epoch 70/100\n",
            "90/90 [==============================] - 30s 330ms/step - loss: 0.0315 - accuracy: 0.9878 - val_loss: 0.0413 - val_accuracy: 0.9756\n",
            "Epoch 71/100\n",
            "90/90 [==============================] - 29s 327ms/step - loss: 0.0181 - accuracy: 0.9944 - val_loss: 0.0034 - val_accuracy: 0.9711\n",
            "Epoch 72/100\n",
            "90/90 [==============================] - 30s 329ms/step - loss: 0.0380 - accuracy: 0.9911 - val_loss: 0.0016 - val_accuracy: 0.9689\n",
            "Epoch 73/100\n",
            "90/90 [==============================] - 30s 330ms/step - loss: 0.0233 - accuracy: 0.9933 - val_loss: 1.4158e-04 - val_accuracy: 0.9722\n",
            "Epoch 74/100\n",
            "90/90 [==============================] - 30s 330ms/step - loss: 0.0274 - accuracy: 0.9900 - val_loss: 0.1587 - val_accuracy: 0.9789\n",
            "Epoch 75/100\n",
            "90/90 [==============================] - 30s 329ms/step - loss: 0.0089 - accuracy: 0.9989 - val_loss: 2.4438e-06 - val_accuracy: 0.9767\n",
            "Weights saved. 2.4437663341814186e-06\n",
            "Epoch 76/100\n",
            "90/90 [==============================] - 29s 327ms/step - loss: 0.0109 - accuracy: 0.9956 - val_loss: 0.0064 - val_accuracy: 0.9778\n",
            "Epoch 77/100\n",
            "90/90 [==============================] - 29s 327ms/step - loss: 0.0156 - accuracy: 0.9978 - val_loss: 0.0322 - val_accuracy: 0.9778\n",
            "Epoch 78/100\n",
            "90/90 [==============================] - 29s 328ms/step - loss: 0.0220 - accuracy: 0.9922 - val_loss: 0.0011 - val_accuracy: 0.9778\n",
            "Epoch 79/100\n",
            "90/90 [==============================] - 30s 328ms/step - loss: 0.0397 - accuracy: 0.9844 - val_loss: 0.0014 - val_accuracy: 0.9800\n",
            "Epoch 80/100\n",
            "90/90 [==============================] - 30s 329ms/step - loss: 0.0108 - accuracy: 0.9967 - val_loss: 0.2385 - val_accuracy: 0.9833\n",
            "Epoch 81/100\n",
            "90/90 [==============================] - 30s 333ms/step - loss: 0.0098 - accuracy: 0.9989 - val_loss: 5.3285e-05 - val_accuracy: 0.9678\n",
            "Epoch 82/100\n",
            "90/90 [==============================] - 30s 330ms/step - loss: 0.0164 - accuracy: 0.9967 - val_loss: 0.0021 - val_accuracy: 0.9778\n",
            "Epoch 83/100\n",
            "90/90 [==============================] - 30s 331ms/step - loss: 0.0390 - accuracy: 0.9822 - val_loss: 0.0041 - val_accuracy: 0.9744\n",
            "Epoch 84/100\n",
            "90/90 [==============================] - 30s 330ms/step - loss: 0.0259 - accuracy: 0.9922 - val_loss: 2.8559e-04 - val_accuracy: 0.9722\n",
            "Epoch 85/100\n",
            "90/90 [==============================] - 30s 328ms/step - loss: 0.0315 - accuracy: 0.9889 - val_loss: 0.0050 - val_accuracy: 0.9711\n",
            "Epoch 86/100\n",
            "90/90 [==============================] - 30s 329ms/step - loss: 0.0081 - accuracy: 1.0000 - val_loss: 0.0017 - val_accuracy: 0.9733\n",
            "Epoch 87/100\n",
            "90/90 [==============================] - 30s 329ms/step - loss: 0.0178 - accuracy: 0.9967 - val_loss: 0.1429 - val_accuracy: 0.9733\n",
            "Epoch 88/100\n",
            "90/90 [==============================] - 29s 321ms/step - loss: 0.0189 - accuracy: 0.9944 - val_loss: 9.4069e-04 - val_accuracy: 0.9733\n",
            "Epoch 89/100\n",
            "90/90 [==============================] - 29s 319ms/step - loss: 0.0166 - accuracy: 0.9933 - val_loss: 0.0509 - val_accuracy: 0.9822\n",
            "Epoch 90/100\n",
            "90/90 [==============================] - 29s 321ms/step - loss: 0.0073 - accuracy: 0.9989 - val_loss: 7.2265e-04 - val_accuracy: 0.9756\n",
            "Epoch 91/100\n",
            "90/90 [==============================] - 29s 321ms/step - loss: 0.0326 - accuracy: 0.9900 - val_loss: 0.0179 - val_accuracy: 0.9456\n",
            "Epoch 92/100\n",
            "90/90 [==============================] - 29s 323ms/step - loss: 0.0469 - accuracy: 0.9856 - val_loss: 2.3518e-05 - val_accuracy: 0.9689\n",
            "Epoch 93/100\n",
            "90/90 [==============================] - 30s 328ms/step - loss: 0.0251 - accuracy: 0.9933 - val_loss: 0.0351 - val_accuracy: 0.9722\n",
            "Epoch 94/100\n",
            "90/90 [==============================] - 30s 329ms/step - loss: 0.0064 - accuracy: 1.0000 - val_loss: 1.5149e-04 - val_accuracy: 0.9767\n",
            "Epoch 95/100\n",
            "90/90 [==============================] - 30s 330ms/step - loss: 0.0046 - accuracy: 0.9989 - val_loss: 5.0497e-04 - val_accuracy: 0.9722\n",
            "Epoch 96/100\n",
            "90/90 [==============================] - 30s 329ms/step - loss: 0.0155 - accuracy: 0.9933 - val_loss: 0.0127 - val_accuracy: 0.9689\n",
            "Epoch 97/100\n",
            "90/90 [==============================] - 30s 329ms/step - loss: 0.0090 - accuracy: 0.9978 - val_loss: 1.6331e-05 - val_accuracy: 0.9689\n",
            "Epoch 98/100\n",
            "90/90 [==============================] - 29s 327ms/step - loss: 0.0109 - accuracy: 0.9978 - val_loss: 0.0056 - val_accuracy: 0.9756\n",
            "Epoch 99/100\n",
            "90/90 [==============================] - 30s 329ms/step - loss: 0.0161 - accuracy: 0.9956 - val_loss: 1.1992e-05 - val_accuracy: 0.9733\n",
            "Epoch 100/100\n",
            "90/90 [==============================] - 29s 328ms/step - loss: 0.0100 - accuracy: 0.9967 - val_loss: 6.3879e-04 - val_accuracy: 0.9700\n"
          ],
          "name": "stdout"
        }
      ]
    },
    {
      "cell_type": "markdown",
      "metadata": {
        "id": "HXMQMfNufvlL",
        "colab_type": "text"
      },
      "source": [
        "■正解率と損失率をグラフ化"
      ]
    },
    {
      "cell_type": "code",
      "metadata": {
        "id": "Tik0x-QsZKtC",
        "colab_type": "code",
        "outputId": "8c23eddd-8097-460f-d12f-356776c82c3c",
        "colab": {
          "base_uri": "https://localhost:8080/",
          "height": 545
        }
      },
      "source": [
        "import matplotlib.pyplot as plt\n",
        "\n",
        "history = hist\n",
        "\n",
        "acc=history['accuracy']\n",
        "val_acc=history['val_accuracy']\n",
        "loss=history['loss']\n",
        "val_loss=history['val_loss']\n",
        "\n",
        "epochs=range(1,len(acc)+1)\n",
        "\n",
        "#正解率plot\n",
        "plt.plot(epochs,acc,'bo',label='Training acc')\n",
        "plt.plot(epochs,val_acc,'b',label='Validation acc')\n",
        "plt.title('Training and validation accuracy')\n",
        "plt.legend()\n",
        "\n",
        "plt.figure()\n",
        "\n",
        "\n",
        "#損失値をplot\n",
        "plt.plot(epochs,loss,'bo',label='Training loss')\n",
        "plt.plot(epochs,val_loss,'b',label='Validation loss')\n",
        "plt.title('Training and validation loss')\n",
        "plt.legend()\n",
        "\n",
        "plt.show()\n"
      ],
      "execution_count": 17,
      "outputs": [
        {
          "output_type": "display_data",
          "data": {
            "image/png": "[encoded data removed]",
            "text/plain": [
              "<Figure size 432x288 with 1 Axes>"
            ]
          },
          "metadata": {
            "tags": [],
            "needs_background": "light"
          }
        },
        {
          "output_type": "display_data",
          "data": {
            "image/png": "[encoded data removed]",
            "text/plain": [
              "<Figure size 432x288 with 1 Axes>"
            ]
          },
          "metadata": {
            "tags": [],
            "needs_background": "light"
          }
        }
      ]
    },
    {
      "cell_type": "markdown",
      "metadata": {
        "id": "8KRPYAVR_9Zn",
        "colab_type": "text"
      },
      "source": [
        "■学習した分類器を単体で検証"
      ]
    },
    {
      "cell_type": "markdown",
      "metadata": {
        "id": "HVEpU5mMEEOi",
        "colab_type": "text"
      },
      "source": [
        "weightをロードして単体で検証します"
      ]
    },
    {
      "cell_type": "code",
      "metadata": {
        "id": "-Ry5e6uAo9Hw",
        "colab_type": "code",
        "colab": {}
      },
      "source": [
        "def sin_predict():\n",
        "  \n",
        "    train_model = create_cnn()\n",
        "    train_model.compile(optimizer=Adam(lr=1e-5),loss='categorical_crossentropy',metrics=['accuracy'])\n",
        "\n",
        "    # 最良のモデルの読み込み\n",
        "    train_model.load_weights(f\"weights.hdf5\")\n",
        "    for layer in train_model.layers:\n",
        "        layer.trainable = False\n",
        "\n",
        "    # 単体の推論\n",
        "    single_preds = np.argmax(train_model.predict_generator(prediction_generator), axis=-1)\n",
        "\n",
        "    # 推論のスコア\n",
        "    test_acc = accuracy_score(prediction_generator.classes[prediction_generator.index_array], single_preds)\n",
        "\n",
        "    print(\"Test Accuracy : \", test_acc)\n"
      ],
      "execution_count": 0,
      "outputs": []
    },
    {
      "cell_type": "code",
      "metadata": {
        "id": "5pMpwvF7qMTt",
        "colab_type": "code",
        "outputId": "f884b06c-3514-4d6b-d429-e629c14c9155",
        "colab": {
          "base_uri": "https://localhost:8080/",
          "height": 35
        }
      },
      "source": [
        "# 単体の推論\n",
        "sin_predict()"
      ],
      "execution_count": 25,
      "outputs": [
        {
          "output_type": "stream",
          "text": [
            "Test Accuracy :  0.095\n"
          ],
          "name": "stdout"
        }
      ]
    }
  ]
}
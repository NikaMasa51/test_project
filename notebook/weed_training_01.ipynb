{
  "nbformat": 4,
  "nbformat_minor": 0,
  "metadata": {
    "colab": {
      "name": "weed_training_01",
      "provenance": [],
      "collapsed_sections": []
    },
    "kernelspec": {
      "name": "python3",
      "display_name": "Python 3"
    },
    "accelerator": "GPU"
  },
  "cells": [
    {
      "cell_type": "markdown",
      "metadata": {
        "id": "op_4dXNe5oEV",
        "colab_type": "text"
      },
      "source": [
        "# 雑草の生育期間を区別せずに分類器を作る（10種類）\n",
        "　雑草の生育期間（芽生え・生育済み）を区別せずに分類器を作成します。 育成した雑草の種類はハキダメギク、ホソアオゲイトウ、イチビ、イヌビエ、コセンダングサ、マメアサガオ、メヒシバ、オヒシバ、オイヌタデ、シロザの10種類です"
      ]
    },
    {
      "cell_type": "markdown",
      "metadata": {
        "id": "NCQh_T0zLntu",
        "colab_type": "text"
      },
      "source": [
        "### ■データのダウンロード"
      ]
    },
    {
      "cell_type": "markdown",
      "metadata": {
        "id": "0jdbMuOmSpjy",
        "colab_type": "text"
      },
      "source": [
        "・cluster.zipをダウンロードします。"
      ]
    },
    {
      "cell_type": "code",
      "metadata": {
        "id": "dkXy31etIQpT",
        "colab_type": "code",
        "colab": {}
      },
      "source": [
        "#グーグルドライブからファイルをダウンロードする方法\n",
        "#ファイル限定\n",
        "\n",
        "import requests\n",
        "\n",
        "def download_file_from_google_drive(id, destination):\n",
        "\n",
        "    URL = \"https://docs.google.com/uc?export=download\"\n",
        "\n",
        "    session = requests.Session()\n",
        "\n",
        "    response = session.get(URL, params = { 'id' : id }, stream = True)\n",
        "\n",
        "    token = get_confirm_token(response)\n",
        "\n",
        "    if token:\n",
        "\n",
        "        params = { 'id' : id, 'confirm' : token }\n",
        "\n",
        "        response = session.get(URL, params = params, stream = True)\n",
        "\n",
        "    save_response_content(response, destination)    \n",
        "\n",
        "def get_confirm_token(response):\n",
        "\n",
        "    for key, value in response.cookies.items():\n",
        "\n",
        "        if key.startswith('download_warning'):\n",
        "\n",
        "            return value\n",
        "\n",
        "    return None\n",
        "\n",
        "def save_response_content(response, destination):\n",
        "\n",
        "    CHUNK_SIZE = 32768\n",
        "\n",
        "    with open(destination, \"wb\") as f:\n",
        "\n",
        "        for chunk in response.iter_content(CHUNK_SIZE):\n",
        "\n",
        "            if chunk: # filter out keep-alive new chunks\n",
        "\n",
        "                f.write(chunk)\n",
        "\n",
        "#取得されるトークン\n",
        "file_id = '1XillhpofzGUFJwQ_CvXpsWDuWT0lp2-w'\n",
        "\n",
        "#欲しいフォルダ名\n",
        "destination = 'cluster.zip'\n",
        "\n",
        "download_file_from_google_drive(file_id, destination)\n",
        "\n"
      ],
      "execution_count": 0,
      "outputs": []
    },
    {
      "cell_type": "markdown",
      "metadata": {
        "id": "fKmeWPABPKpp",
        "colab_type": "text"
      },
      "source": [
        "・cluster.zipを解凍します。"
      ]
    },
    {
      "cell_type": "code",
      "metadata": {
        "id": "CAC7SLKpJqEl",
        "colab_type": "code",
        "colab": {}
      },
      "source": [
        "!unzip cluster\n",
        "print(\"clusterファイルの解凍が完了しました。\")"
      ],
      "execution_count": 0,
      "outputs": []
    },
    {
      "cell_type": "markdown",
      "metadata": {
        "id": "PzF0mQNICl6x",
        "colab_type": "text"
      },
      "source": [
        "### ■データセットの作成"
      ]
    },
    {
      "cell_type": "markdown",
      "metadata": {
        "id": "13kgHJHOTLy9",
        "colab_type": "text"
      },
      "source": [
        "・train、validation、prediction用のディレクトリを作成し、class用のディレクトリを追加します"
      ]
    },
    {
      "cell_type": "code",
      "metadata": {
        "id": "3zsW_yV4blgv",
        "colab_type": "code",
        "colab": {
          "base_uri": "https://localhost:8080/",
          "height": 34
        },
        "outputId": "ebdd8bb4-1525-45be-be7c-1918a210fc25"
      },
      "source": [
        "import os, shutil\n",
        "\n",
        "# CLSディレクトリを作成します\n",
        "base_dir = \"./CLS\"\n",
        "if \"CLS\" not in os.listdir(\"./\"):\n",
        "  os.mkdir(base_dir)\n",
        "else:\n",
        "  print(base_dir, \"は既に存在します\")\n",
        "\n",
        "# train用ディレクトリを作成します\n",
        "train_index = \"train\"\n",
        "train_dir = os.path.join(base_dir, train_index)\n",
        "if train_index not in os.listdir(base_dir):\n",
        "  os.mkdir(train_dir)\n",
        "else:\n",
        "  print(train_dir + \"は既に存在します\")\n",
        "\n",
        "# validation用ディレクトリを作成します\n",
        "validation_index = \"validation\"\n",
        "validation_dir = os.path.join(base_dir, validation_index)\n",
        "if validation_index not in os.listdir(base_dir):\n",
        "  os.mkdir(validation_dir)\n",
        "else:\n",
        "  print(validation_dir + \"は既に存在します\")\n",
        "\n",
        "# prediction用ディレクトリを作成します\n",
        "prediction_index = \"prediction\"\n",
        "prediction_dir = os.path.join(base_dir, prediction_index)\n",
        "if prediction_index not in os.listdir(base_dir):\n",
        "  os.mkdir(prediction_dir)\n",
        "else:\n",
        "  print(prediction_dir + \"は既に存在します\")\n",
        "\n",
        "#class用ディレクトリを作成します\n",
        "classes=[\"hakidamegiku\",\"hosoaogeitou\",\"ichibi\",\n",
        "         \"inubie\",\"kosendangusa\",\"mameasagao\",\n",
        "         \"mehishiba\",\"ohishiba\",\"oinutade\",\"shiroza\",]\n",
        "dirs = os.listdir(base_dir)\n",
        "for dir in dirs:\n",
        "  for cls in classes:\n",
        "    # Directory with our training pictures\n",
        "    class_dir = os.path.join(base_dir, dir, cls)\n",
        "    if cls not in os.listdir(base_dir + \"/\" + dir):\n",
        "      os.mkdir(class_dir)\n",
        "    else:\n",
        "      print(class_dir, \"は既に存在します\")\n",
        "\n",
        "print(\"作成完了！\")"
      ],
      "execution_count": 3,
      "outputs": [
        {
          "output_type": "stream",
          "text": [
            "作成完了！\n"
          ],
          "name": "stdout"
        }
      ]
    },
    {
      "cell_type": "markdown",
      "metadata": {
        "id": "8CPwpwvHcAOZ",
        "colab_type": "text"
      },
      "source": [
        "・画像をディレクトリに振り分けます。"
      ]
    },
    {
      "cell_type": "code",
      "metadata": {
        "colab_type": "code",
        "id": "06Htjh2XbM50",
        "colab": {}
      },
      "source": [
        "from os.path import join\n",
        "import random\n",
        "\n",
        "clsdir = \"./cluster\"\n",
        "base_dir = \"./CLS\"\n",
        "dirs = os.listdir(base_dir)\n",
        "weed_types = [\"sprout\",\"grown\"]\n",
        "weed_names = os.listdir(clsdir)\n",
        "# ファイル（クラスごとに分かれている）を順番に読み取り\n",
        "# train, validationデータを作成\n",
        "for weed_name in weed_names:\n",
        "  for weed_type in weed_types: \n",
        "    print(weed_name, \"/\",weed_type)\n",
        "    # 画像をランダムに抽出\n",
        "    file_names = os.listdir(os.path.join(clsdir, weed_name, weed_type))\n",
        "    files100 = random.sample(file_names, int(100))\n",
        "    num1 = 0\n",
        "    num2 = 0\n",
        "    for file_name in file_names:\n",
        "      if  file_name in files100:\n",
        "        if num1 >= 90:\n",
        "          continue\n",
        "        # 移動元のファイル\n",
        "        path1 = os.path.join(clsdir, weed_name, weed_type, file_name)\n",
        "        # 移動先のファイル\n",
        "        path2= os.path.join(base_dir, \"train\", weed_name, file_name)\n",
        "        # ファイルを移動\n",
        "        new_path = shutil.move(path1, path2)\n",
        "        # ファイルの存在確認\n",
        "        print(os.path.exists(path2))\n",
        "        num1 = num1 + 1\n",
        "      else:\n",
        "        if num2 >= 90:\n",
        "          continue \n",
        "        # 移動元のファイル\n",
        "        path1 = os.path.join(clsdir, weed_name, weed_type, file_name)\n",
        "        # 移動先のファイル\n",
        "        path2= os.path.join(base_dir, \"validation\", weed_name, file_name)\n",
        "        # ファイルを移動\n",
        "        new_path = shutil.move(path1, path2)\n",
        "        # ファイルの存在確認\n",
        "        print(os.path.exists(path2))\n",
        "        num2 = num2 + 1\n",
        "\n",
        "# predictionデータを作成\n",
        "for weed_name in weed_names:\n",
        "  for weed_type in weed_types:\n",
        "    print(weed_name, \"/\",weed_type)\n",
        "    file_names = os.listdir(os.path.join(clsdir, weed_name, weed_type))\n",
        "    for file_name in file_names:      \n",
        "      # 移動元のファイル\n",
        "      path1 = os.path.join(clsdir, weed_name, weed_type, file_name)\n",
        "      # 移動先のファイル\n",
        "      path2= os.path.join(base_dir, \"prediction\", weed_name, file_name)\n",
        "      # ファイルを移動\n",
        "      new_path = shutil.move(path1, path2)\n",
        "      # ファイルの存在確認\n",
        "      print(os.path.exists(path2))\n"
      ],
      "execution_count": 0,
      "outputs": []
    },
    {
      "cell_type": "markdown",
      "metadata": {
        "id": "89zSPJPufnsz",
        "colab_type": "text"
      },
      "source": [
        "・trainデータ、validationデータ、predictionデータのgeneratorを作成します"
      ]
    },
    {
      "cell_type": "code",
      "metadata": {
        "colab_type": "code",
        "outputId": "4b74bae0-c5a9-4fcc-b2c7-614ee36df023",
        "id": "ork4z7VlHv5T",
        "colab": {
          "base_uri": "https://localhost:8080/",
          "height": 102
        }
      },
      "source": [
        "import os \n",
        "import numpy as np\n",
        "from keras.preprocessing.image import ImageDataGenerator\n",
        "import keras.preprocessing.image as Image\n",
        "\n",
        "input_size = 224\n",
        "\n",
        "train_dir = \"./CLS/train\"\n",
        "validation_dir = \"./CLS/validation\"\n",
        "prediction_dir = \"./CLS/prediction\"\n",
        "\n",
        "\n",
        "train_datagen = Image.ImageDataGenerator(\n",
        "            featurewise_center = False,\n",
        "            samplewise_center = False,\n",
        "            featurewise_std_normalization = False,\n",
        "            samplewise_std_normalization = False,\n",
        "            zca_whitening = False,\n",
        "            rotation_range = 90,\n",
        "            width_shift_range = 0.3,\n",
        "            height_shift_range = 0.3,\n",
        "            horizontal_flip = True,\n",
        "            vertical_flip = False,\n",
        "            rescale=1./255\n",
        "        )\n",
        "\n",
        "val_datagen = Image.ImageDataGenerator(rescale=1./255)\n",
        "\n",
        "\n",
        "\n",
        "train_generator = train_datagen.flow_from_directory(\n",
        "            train_dir,\n",
        "            target_size=(input_size,input_size),\n",
        "            batch_size=10,\n",
        "            class_mode='categorical'\n",
        "        )\n",
        "\n",
        "validation_generator = val_datagen.flow_from_directory(\n",
        "            validation_dir,\n",
        "            target_size=(input_size,input_size),\n",
        "            batch_size=10,\n",
        "            class_mode='categorical'\n",
        "        )\n",
        "print(\"データセット作成完了！\")"
      ],
      "execution_count": 5,
      "outputs": [
        {
          "output_type": "stream",
          "text": [
            "Using TensorFlow backend.\n"
          ],
          "name": "stderr"
        },
        {
          "output_type": "stream",
          "text": [
            "Found 1800 images belonging to 10 classes.\n",
            "Found 1800 images belonging to 10 classes.\n",
            "Found 400 images belonging to 10 classes.\n",
            "データセット作成が完了しました\n"
          ],
          "name": "stdout"
        }
      ]
    },
    {
      "cell_type": "markdown",
      "metadata": {
        "id": "SnbD3y_Zh7Pg",
        "colab_type": "text"
      },
      "source": [
        "### ■トレーニングの実行"
      ]
    },
    {
      "cell_type": "markdown",
      "metadata": {
        "id": "cR5MXYEeWvGq",
        "colab_type": "text"
      },
      "source": [
        "・モデルのレイヤー構成を定義します"
      ]
    },
    {
      "cell_type": "code",
      "metadata": {
        "id": "5dq94WdxULw9",
        "colab_type": "code",
        "colab": {}
      },
      "source": [
        "\n",
        "#ファインチューニング+VGG+水増し。ここから実行してOK（VGG16をダウンロード）\n",
        "from keras import models\n",
        "from keras import layers\n",
        "from keras.optimizers import Adam\n",
        "from keras.layers import Dense, Dropout, Activation, Flatten\n",
        "from keras.applications import VGG16\n",
        "import tensorflow as tf\n",
        "import tensorflow.keras.backend as K\n",
        "from tensorflow.keras.callbacks import History, Callback\n",
        "from keras.objectives import categorical_crossentropy\n",
        "import numpy as np\n",
        "from sklearn.metrics import confusion_matrix, accuracy_score\n",
        "from keras.utils import to_categorical\n",
        "from scipy.stats import mode\n",
        "import os, pickle\n",
        "\n",
        "\n",
        "def create_cnn():\n",
        "  input_size=224\n",
        "  #input_sizeは224,224までOK。\n",
        "\n",
        "  vgg_conv = VGG16(weights='imagenet', include_top=False, input_shape=(input_size,input_size, 3))\n",
        "  last = vgg_conv.output\n",
        "\n",
        "  vgg_conv.trainable = True\n",
        "\n",
        "  set_trainable = False\n",
        "  for layer in vgg_conv.layers:\n",
        "    if layer.name == 'block5_conv1':\n",
        "      set_trainable = True\n",
        "    if set_trainable:\n",
        "      layer.trainable = True\n",
        "    else:\n",
        "      layer.trainable = False\n",
        "\n",
        "  mod = Flatten()(last)\n",
        "  mod = Dense(256, activation='relu')(mod)\n",
        "  #mod = Dropout(0.5)(mod)\n",
        "  preds = Dense(10, activation='softmax')(mod)\n",
        "\n",
        "  model = models.Model(vgg_conv.input, preds)\n",
        "\n",
        "  return model\n"
      ],
      "execution_count": 0,
      "outputs": []
    },
    {
      "cell_type": "markdown",
      "metadata": {
        "id": "vMCP246j39AB",
        "colab_type": "text"
      },
      "source": [
        "・チェックポイントを定義します(val lossが一番低い値の時にweightファイルを保存)"
      ]
    },
    {
      "cell_type": "code",
      "metadata": {
        "id": "Sa68Qz4p3_Ov",
        "colab_type": "code",
        "colab": {}
      },
      "source": [
        "class Checkpoint(Callback):\n",
        "    def __init__(self, model, filepath):\n",
        "        self.model = model\n",
        "        self.filepath = filepath\n",
        "        self.best_val_acc = 0.0\n",
        "        self.best_val_loss = 0.5\n",
        "\n",
        "    def on_epoch_end(self, epoch, logs):\n",
        "        # val_lossが最小の時ににweightを保存する\n",
        "        if self.best_val_loss > logs[\"val_loss\"]:\n",
        "            self.model.save_weights(self.filepath)\n",
        "            self.best_val_loss = logs[\"val_loss\"]\n",
        "            print(\"Weights saved.\", self.best_val_loss)"
      ],
      "execution_count": 0,
      "outputs": []
    },
    {
      "cell_type": "markdown",
      "metadata": {
        "id": "3-DwQxyRfdxG",
        "colab_type": "text"
      },
      "source": [
        "・学習の実行手順を定義します"
      ]
    },
    {
      "cell_type": "code",
      "metadata": {
        "id": "dLkWD57CZJEX",
        "colab_type": "code",
        "colab": {}
      },
      "source": [
        "def train():\n",
        "    print(\"学習を開始します\")\n",
        "    hist = History()\n",
        "    train_model = create_cnn()\n",
        "    train_model.compile(optimizer=Adam(lr=1e-5),loss='categorical_crossentropy',metrics=['accuracy'])\n",
        "    cp = Checkpoint(train_model, f\"weights.hdf5\")\n",
        "    train_model.fit_generator(train_generator,epochs=10,validation_data=validation_generator,callbacks=[hist, cp])      \n",
        "    print(\"学習が完了しました\")\n",
        "    return hist.history\n"
      ],
      "execution_count": 0,
      "outputs": []
    },
    {
      "cell_type": "markdown",
      "metadata": {
        "id": "MjCJKxdZXbbK",
        "colab_type": "text"
      },
      "source": [
        "・学習を開始します"
      ]
    },
    {
      "cell_type": "code",
      "metadata": {
        "id": "fqaVKLXZgiEZ",
        "colab_type": "code",
        "outputId": "3186b571-6ee0-4773-d99d-c027d4515581",
        "colab": {
          "base_uri": "https://localhost:8080/",
          "height": 477
        }
      },
      "source": [
        "K.clear_session()\n",
        "hist = train()"
      ],
      "execution_count": 9,
      "outputs": [
        {
          "output_type": "stream",
          "text": [
            "学習を開始します\n",
            "Downloading data from https://github.com/fchollet/deep-learning-models/releases/download/v0.1/vgg16_weights_tf_dim_ordering_tf_kernels_notop.h5\n",
            "58892288/58889256 [==============================] - 2s 0us/step\n",
            "Epoch 1/10\n",
            "180/180 [==============================] - 37s 208ms/step - loss: 1.9062 - accuracy: 0.3067 - val_loss: 1.5826 - val_accuracy: 0.5317\n",
            "Epoch 2/10\n",
            "180/180 [==============================] - 31s 171ms/step - loss: 1.2243 - accuracy: 0.5506 - val_loss: 0.8083 - val_accuracy: 0.6528\n",
            "Epoch 3/10\n",
            "180/180 [==============================] - 30s 169ms/step - loss: 0.9145 - accuracy: 0.6828 - val_loss: 1.3033 - val_accuracy: 0.7483\n",
            "Epoch 4/10\n",
            "180/180 [==============================] - 31s 170ms/step - loss: 0.7369 - accuracy: 0.7344 - val_loss: 0.4952 - val_accuracy: 0.7700\n",
            "Weights saved. 0.4952421188354492\n",
            "Epoch 5/10\n",
            "180/180 [==============================] - 31s 170ms/step - loss: 0.6364 - accuracy: 0.7689 - val_loss: 0.3327 - val_accuracy: 0.8261\n",
            "Weights saved. 0.3327353596687317\n",
            "Epoch 6/10\n",
            "180/180 [==============================] - 31s 171ms/step - loss: 0.5702 - accuracy: 0.7867 - val_loss: 0.4533 - val_accuracy: 0.8228\n",
            "Epoch 7/10\n",
            "180/180 [==============================] - 30s 169ms/step - loss: 0.5114 - accuracy: 0.8144 - val_loss: 0.3998 - val_accuracy: 0.8450\n",
            "Epoch 8/10\n",
            "180/180 [==============================] - 31s 171ms/step - loss: 0.4748 - accuracy: 0.8322 - val_loss: 0.5275 - val_accuracy: 0.7928\n",
            "Epoch 9/10\n",
            "180/180 [==============================] - 31s 174ms/step - loss: 0.4013 - accuracy: 0.8639 - val_loss: 0.1443 - val_accuracy: 0.8611\n",
            "Weights saved. 0.144332617521286\n",
            "Epoch 10/10\n",
            "180/180 [==============================] - 31s 172ms/step - loss: 0.3955 - accuracy: 0.8583 - val_loss: 0.8319 - val_accuracy: 0.8711\n",
            "学習が完了しました\n"
          ],
          "name": "stdout"
        }
      ]
    },
    {
      "cell_type": "markdown",
      "metadata": {
        "id": "HXMQMfNufvlL",
        "colab_type": "text"
      },
      "source": [
        "### ■正解率と損失率をグラフ化"
      ]
    },
    {
      "cell_type": "markdown",
      "metadata": {
        "id": "oP7_j_XPZY6m",
        "colab_type": "text"
      },
      "source": [
        "・trainの正解率と損失率、validationの正解率と損失率をグラフ化します"
      ]
    },
    {
      "cell_type": "code",
      "metadata": {
        "id": "Tik0x-QsZKtC",
        "colab_type": "code",
        "outputId": "79c1dd87-4b4b-440b-aba6-8f23457a1327",
        "colab": {
          "base_uri": "https://localhost:8080/",
          "height": 545
        }
      },
      "source": [
        "import matplotlib.pyplot as plt\n",
        "\n",
        "history = hist\n",
        "\n",
        "acc=history['accuracy']\n",
        "val_acc=history['val_accuracy']\n",
        "loss=history['loss']\n",
        "val_loss=history['val_loss']\n",
        "\n",
        "epochs=range(1,len(acc)+1)\n",
        "\n",
        "#正解率plot\n",
        "plt.plot(epochs,acc,'bo',label='Training acc')\n",
        "plt.plot(epochs,val_acc,'b',label='Validation acc')\n",
        "plt.title('Training and validation accuracy')\n",
        "plt.legend()\n",
        "\n",
        "plt.figure()\n",
        "\n",
        "\n",
        "#損失値をplot\n",
        "plt.plot(epochs,loss,'bo',label='Training loss')\n",
        "plt.plot(epochs,val_loss,'b',label='Validation loss')\n",
        "plt.title('Training and validation loss')\n",
        "plt.legend()\n",
        "\n",
        "plt.show()\n"
      ],
      "execution_count": 10,
      "outputs": [
        {
          "output_type": "display_data",
          "data": {
            "image/png": "[encoded data removed]",
            "text/plain": [
              "<Figure size 432x288 with 1 Axes>"
            ]
          },
          "metadata": {
            "tags": [],
            "needs_background": "light"
          }
        },
        {
          "output_type": "display_data",
          "data": {
            "image/png": "[encoded data removed]",
            "text/plain": [
              "<Figure size 432x288 with 1 Axes>"
            ]
          },
          "metadata": {
            "tags": [],
            "needs_background": "light"
          }
        }
      ]
    },
    {
      "cell_type": "markdown",
      "metadata": {
        "id": "8KRPYAVR_9Zn",
        "colab_type": "text"
      },
      "source": [
        "### ■推論"
      ]
    },
    {
      "cell_type": "markdown",
      "metadata": {
        "id": "ts0ZYstl6x4y",
        "colab_type": "text"
      },
      "source": [
        "・prediction用のデータセットを作成します"
      ]
    },
    {
      "cell_type": "code",
      "metadata": {
        "id": "VNZBgLlClER7",
        "colab_type": "code",
        "colab": {}
      },
      "source": [
        "from PIL import Image\n",
        "import os, glob\n",
        "import numpy as np\n",
        "from PIL import ImageFile\n",
        "\n",
        "ImageFile.LOAD_TRUNCATED_IMAGES =True\n",
        "\n",
        "prediction_dir = \"./CLS/prediction\"\n",
        "prediction_classes = [\"hakidamegiku\",\"hosoaogeitou\",\"ichibi\",\"inubie\",\"kosendangusa\",\"mameasagao\",\"mehishiba\",\"ohishiba\",\"oinutade\",\"shiroza\"]\n",
        "\n",
        "# prediction_classes = os.listdir(prediction_dir)\n",
        "image_size = 224\n",
        "print(prediction_classes)\n",
        "X_test = []\n",
        "y_test = []\n",
        "for index, classlabel in enumerate(prediction_classes):\n",
        "    photos_dir = os.path.join(prediction_dir, classlabel)\n",
        "    files = glob.glob(photos_dir + \"/*.JPG\")\n",
        "    print(files)\n",
        "    for i, file in enumerate(files):\n",
        "        image = Image.open(file)\n",
        "        image = image.convert(\"RGB\")\n",
        "        image = image.resize((image_size, image_size))\n",
        "        data = np.asarray(image)\n",
        "        if i == 0:\n",
        "          print(data.shape)\n",
        "        X_test.append(data)\n",
        "        y_test.append(index)\n",
        "\n",
        "X_test1 = np.array(X_test)\n",
        "y_test1 = np.array(y_test)"
      ],
      "execution_count": 0,
      "outputs": []
    },
    {
      "cell_type": "markdown",
      "metadata": {
        "id": "HVEpU5mMEEOi",
        "colab_type": "text"
      },
      "source": [
        "・保存したweightファイルをロードしてpredictionを行います"
      ]
    },
    {
      "cell_type": "code",
      "metadata": {
        "id": "-Ry5e6uAo9Hw",
        "colab_type": "code",
        "colab": {}
      },
      "source": [
        "def sin_predict():\n",
        "    \n",
        "    X_test, y_test = X_test1, y_test1\n",
        "    X_test = X_test / 255.0\n",
        "    y_test_label = np.ravel(y_test)\n",
        "    y_test = to_categorical(y_test)\n",
        "\n",
        "    train_model = create_cnn()\n",
        "    train_model.compile(optimizer=Adam(lr=1e-5),loss='categorical_crossentropy',metrics=['accuracy'])\n",
        "\n",
        "    # 最良のモデルの読み込み\n",
        "    train_model.load_weights(f\"weights.hdf5\")\n",
        "    for layer in train_model.layers:\n",
        "        layer.trainable = False\n",
        "\n",
        "    # 単体の推論\n",
        "    single_preds = np.argmax(train_model.predict(X_test), axis=-1)\n",
        "\n",
        "    # 推論のスコア\n",
        "    test_acc = accuracy_score(y_test, to_categorical(single_preds))\n",
        "    \n",
        "\n",
        "    print(\"推論の結果は\", test_acc, \"です\")\n"
      ],
      "execution_count": 0,
      "outputs": []
    },
    {
      "cell_type": "markdown",
      "metadata": {
        "id": "PkJ-M4D1ZJ4a",
        "colab_type": "text"
      },
      "source": [
        "・推論を実行します"
      ]
    },
    {
      "cell_type": "code",
      "metadata": {
        "id": "5pMpwvF7qMTt",
        "colab_type": "code",
        "outputId": "51cc98de-4dda-4fd3-d7f3-f847bd0472c6",
        "colab": {
          "base_uri": "https://localhost:8080/",
          "height": 34
        }
      },
      "source": [
        "# 推論\n",
        "sin_predict()"
      ],
      "execution_count": 42,
      "outputs": [
        {
          "output_type": "stream",
          "text": [
            "推論の結果は 0.855 です\n"
          ],
          "name": "stdout"
        }
      ]
    },
    {
      "cell_type": "markdown",
      "metadata": {
        "id": "b340YPV35B--",
        "colab_type": "text"
      },
      "source": [
        "### ■任意の写真を推論します"
      ]
    },
    {
      "cell_type": "markdown",
      "metadata": {
        "id": "343MbhcH5lUv",
        "colab_type": "text"
      },
      "source": [
        "・1枚の画像を推論する関数を定義します"
      ]
    },
    {
      "cell_type": "code",
      "metadata": {
        "colab_type": "code",
        "id": "YTKPufr6xSGa",
        "colab": {}
      },
      "source": [
        "def result_predict(path):\n",
        "    prediction_classes = [\"hakidamegiku\",\"hosoaogeitou\",\"ichibi\",\"inubie\",\"kosendangusa\",\"mameasagao\",\"mehishiba\",\"ohishiba\",\"oinutade\",\"shiroza\"]\n",
        "\n",
        "    train_model = create_cnn()\n",
        "    train_model.compile(optimizer=Adam(lr=1e-5),loss='categorical_crossentropy',metrics=['accuracy'])\n",
        "\n",
        "    # 最良のモデルの読み込み\n",
        "    train_model.load_weights(f\"weights.hdf5\")\n",
        "    for layer in train_model.layers:\n",
        "        layer.trainable = False  \n",
        "    \n",
        "    X_test = []\n",
        "    image_size = 224\n",
        "    image = Image.open(path)\n",
        "    image = image.convert(\"RGB\")\n",
        "    image = image.resize((image_size, image_size))\n",
        "    data = np.asarray(image)\n",
        "    X_test.append(data)\n",
        "    X_test = np.array(X_test)\n",
        "    result = np.argmax(train_model.predict(X_test), axis=-1)\n",
        "    print(\"雑草の種類は\", prediction_classes[result[0]], \"です\")\n"
      ],
      "execution_count": 0,
      "outputs": []
    },
    {
      "cell_type": "markdown",
      "metadata": {
        "id": "4gLtWRQr5Z_m",
        "colab_type": "text"
      },
      "source": [
        "任意の写真のpathを設定します"
      ]
    },
    {
      "cell_type": "code",
      "metadata": {
        "id": "xMTohBSJyDMc",
        "colab_type": "code",
        "colab": {
          "base_uri": "https://localhost:8080/",
          "height": 34
        },
        "outputId": "9d1a9fd6-f53b-4a8b-f16e-6200bdcb1e59"
      },
      "source": [
        "_dir = \"./CLS/prediction/ichibi/ichibi_IMG_4164_1.JPG\"\n",
        "result_predict(_dir)"
      ],
      "execution_count": 107,
      "outputs": [
        {
          "output_type": "stream",
          "text": [
            "雑草の種類は ichibi です\n"
          ],
          "name": "stdout"
        }
      ]
    }
  ]
}
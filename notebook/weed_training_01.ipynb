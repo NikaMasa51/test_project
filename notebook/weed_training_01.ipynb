{
  "nbformat": 4,
  "nbformat_minor": 0,
  "metadata": {
    "colab": {
      "name": "weed_training_01",
      "provenance": [],
      "collapsed_sections": [],
      "toc_visible": true
    },
    "kernelspec": {
      "name": "python3",
      "display_name": "Python 3"
    },
    "accelerator": "GPU"
  },
  "cells": [
    {
      "cell_type": "markdown",
      "metadata": {
        "id": "op_4dXNe5oEV",
        "colab_type": "text"
      },
      "source": [
        "# 雑草の生育期間を分けずに分類器を作る（10種類）"
      ]
    },
    {
      "cell_type": "markdown",
      "metadata": {
        "id": "7rHfn1CefGi0",
        "colab_type": "text"
      },
      "source": [
        "■グーグルドライブをマウント"
      ]
    },
    {
      "cell_type": "code",
      "metadata": {
        "id": "-d7Gaw6p5kLX",
        "colab_type": "code",
        "outputId": "c97e3798-bbd3-434e-f9c9-bc7fbd242b5f",
        "colab": {
          "base_uri": "https://localhost:8080/",
          "height": 126
        }
      },
      "source": [
        "from google.colab import drive\n",
        "drive.mount('/content/drive')"
      ],
      "execution_count": 1,
      "outputs": [
        {
          "output_type": "stream",
          "text": [
            "Go to this URL in a browser: https://accounts.google.com/o/oauth2/auth?client_id=947318989803-6bn6qk8qdgf4n4g3pfee6491hc0brc4i.apps.googleusercontent.com&redirect_uri=urn%3aietf%3awg%3aoauth%3a2.0%3aoob&response_type=code&scope=email%20https%3a%2f%2fwww.googleapis.com%2fauth%2fdocs.test%20https%3a%2f%2fwww.googleapis.com%2fauth%2fdrive%20https%3a%2f%2fwww.googleapis.com%2fauth%2fdrive.photos.readonly%20https%3a%2f%2fwww.googleapis.com%2fauth%2fpeopleapi.readonly\n",
            "\n",
            "Enter your authorization code:\n",
            "··········\n",
            "Mounted at /content/drive\n"
          ],
          "name": "stdout"
        }
      ]
    },
    {
      "cell_type": "markdown",
      "metadata": {
        "id": "QPNIv32VCCBI",
        "colab_type": "text"
      },
      "source": [
        "■clusterディレクトリをカレントにコピー\n",
        "※driveのデータを変更しないようにあらかじめコピーしておく"
      ]
    },
    {
      "cell_type": "code",
      "metadata": {
        "id": "1lvh2h6YBLf0",
        "colab_type": "code",
        "colab": {}
      },
      "source": [
        "%cp -r ./drive/My\\ Drive/cluster09 ./"
      ],
      "execution_count": 0,
      "outputs": []
    },
    {
      "cell_type": "markdown",
      "metadata": {
        "colab_type": "text",
        "id": "j3rQlqRzHv5L"
      },
      "source": [
        "■解凍したファイルをそれぞれ訓練データと検証用のデータに分けます"
      ]
    },
    {
      "cell_type": "markdown",
      "metadata": {
        "id": "PzF0mQNICl6x",
        "colab_type": "text"
      },
      "source": [
        "ディレクトリを作成"
      ]
    },
    {
      "cell_type": "code",
      "metadata": {
        "id": "3zsW_yV4blgv",
        "colab_type": "code",
        "colab": {}
      },
      "source": [
        "import os, shutil\n",
        "\n",
        "# The directory where we will\n",
        "# store our smaller dataset\n",
        "base_dir = \"./CLS\"\n",
        "if \"CLS\" not in os.listdir(\"./\"):\n",
        "  os.mkdir(base_dir)\n",
        "else:\n",
        "  print(base_dir, \"は既に存在します\")\n",
        "\n",
        "train_index = \"train\"\n",
        "train_dir = os.path.join(base_dir, train_index)\n",
        "if train_index not in os.listdir(base_dir):\n",
        "  os.mkdir(train_dir)\n",
        "else:\n",
        "  print(train_dir + \"は既に存在します\")\n",
        "\n",
        "validation_index = \"validation\"\n",
        "validation_dir = os.path.join(base_dir, validation_index)\n",
        "if validation_index not in os.listdir(base_dir):\n",
        "  os.mkdir(validation_dir)\n",
        "else:\n",
        "  print(validation_dir + \"は既に存在します\")\n",
        "\n",
        "prediction_index = \"prediction\"\n",
        "prediction_dir = os.path.join(base_dir, prediction_index)\n",
        "if prediction_index not in os.listdir(base_dir):\n",
        "  os.mkdir(prediction_dir)\n",
        "else:\n",
        "  print(prediction_dir + \"は既に存在します\")\n",
        "\n",
        "#10分類のclassを入力\n",
        "classes=[\"hakidamegiku\",\"hosoaogeitou\",\"ichibi\",\n",
        "         \"inubie\",\"kosendangusa\",\"mameasagao\",\n",
        "         \"mehishiba\",\"ohishiba\",\"oinutade\",\"shiroza\",]\n",
        "dirs = os.listdir(base_dir)\n",
        "for dir in dirs:\n",
        "  for cls in classes:\n",
        "    # Directory with our training pictures\n",
        "    class_dir = os.path.join(base_dir, dir, cls)\n",
        "    if cls not in os.listdir(base_dir + \"/\" + dir):\n",
        "      os.mkdir(class_dir)\n",
        "    else:\n",
        "      print(class_dir, \"は既に存在します\")\n"
      ],
      "execution_count": 0,
      "outputs": []
    },
    {
      "cell_type": "markdown",
      "metadata": {
        "id": "8Dll-T83Cv_n",
        "colab_type": "text"
      },
      "source": [
        "クラス作成のために品種の名前を定義"
      ]
    },
    {
      "cell_type": "code",
      "metadata": {
        "id": "qkRvbi6cd6tj",
        "colab_type": "code",
        "colab": {}
      },
      "source": [
        "# クラス作成用の品種の名前を定義\n",
        "classes = {\"hakidamegiku\":\"broad\",\"hosoaogeitou\":\"broad\",\"ichibi\":\"broad\",\n",
        "         \"inubie\":\"grass\",\"kosendangusa\":\"broad\",\"mameasagao\":\"vine\",\n",
        "         \"mehishiba\":\"grass\",\"ohishiba\":\"grass\",\"oinutade\":\"broad\",\"shiroza\":\"broad\"}\n",
        "\n"
      ],
      "execution_count": 0,
      "outputs": []
    },
    {
      "cell_type": "markdown",
      "metadata": {
        "id": "8CPwpwvHcAOZ",
        "colab_type": "text"
      },
      "source": [
        "■ディレクトリに画像をランダムに振り分け"
      ]
    },
    {
      "cell_type": "code",
      "metadata": {
        "colab_type": "code",
        "id": "06Htjh2XbM50",
        "colab": {}
      },
      "source": [
        "from os.path import join\n",
        "import random\n",
        "\n",
        "clsdir = \"./cluster\"\n",
        "base_dir = \"./CLS\"\n",
        "dirs = os.listdir(base_dir)\n",
        "weed_types = [\"sprout\",\"grown\"]\n",
        "weed_names = os.listdir(clsdir)\n",
        "# ファイル（クラスごとに分かれている）を順番に読み取り\n",
        "# train, validationデータを作成\n",
        "for weed_name in weed_names:\n",
        "  for weed_type in weed_types: \n",
        "    print(weed_name, \"/\",weed_type)\n",
        "    file_names = os.listdir(os.path.join(clsdir, weed_name, weed_type))\n",
        "    files100 = random.sample(file_names, int(100))\n",
        "    num1 = 0\n",
        "    num2 = 0\n",
        "    for file_name in file_names:\n",
        "      if  file_name in files100:\n",
        "        if num1 >= 95:\n",
        "          continue\n",
        "        # 移動元のファイル\n",
        "        path1 = os.path.join(clsdir, weed_name, weed_type, file_name)\n",
        "        # 移動先のファイル\n",
        "        path2= os.path.join(base_dir, \"train\", weed_name, file_name)\n",
        "        # ファイルを移動\n",
        "        new_path = shutil.move(path1, path2)\n",
        "        # ファイルの存在確認\n",
        "        print(os.path.exists(path2))\n",
        "        num1 = num1 + 1\n",
        "      else:\n",
        "        if num2 >= 95:\n",
        "          continue \n",
        "        # 移動元のファイル\n",
        "        path1 = os.path.join(clsdir, weed_name, weed_type, file_name)\n",
        "        # 移動先のファイル\n",
        "        path2= os.path.join(base_dir, \"validation\", weed_name, file_name)\n",
        "        # ファイルを移動\n",
        "        new_path = shutil.move(path1, path2)\n",
        "        # ファイルの存在確認\n",
        "        print(os.path.exists(path2))\n",
        "        num2 = num2 + 1\n",
        "\n",
        "# predictionデータを作成\n",
        "for weed_name in weed_names:\n",
        "  for weed_type in weed_types:\n",
        "    print(weed_name, \"/\",weed_type)\n",
        "    file_names = os.listdir(os.path.join(clsdir, weed_name, weed_type))\n",
        "    for file_name in file_names:      \n",
        "      # 移動元のファイル\n",
        "      path1 = os.path.join(clsdir, weed_name, weed_type, file_name)\n",
        "      # 移動先のファイル\n",
        "      path2= os.path.join(base_dir, \"prediction\", weed_name, file_name)\n",
        "      # ファイルを移動\n",
        "      new_path = shutil.move(path1, path2)\n",
        "      # ファイルの存在確認\n",
        "      print(os.path.exists(path2))\n"
      ],
      "execution_count": 0,
      "outputs": []
    },
    {
      "cell_type": "markdown",
      "metadata": {
        "id": "89zSPJPufnsz",
        "colab_type": "text"
      },
      "source": [
        "■解凍したファイルをそれぞれ訓練データと検証用のデータに分けます"
      ]
    },
    {
      "cell_type": "code",
      "metadata": {
        "colab_type": "code",
        "outputId": "83d8f971-7945-485e-a7f0-aa5398cb79a4",
        "id": "ork4z7VlHv5T",
        "colab": {
          "base_uri": "https://localhost:8080/",
          "height": 88
        }
      },
      "source": [
        "import os \n",
        "import numpy as np\n",
        "from keras.preprocessing.image import ImageDataGenerator\n",
        "import keras.preprocessing.image as Image\n",
        "\n",
        "input_size = 224\n",
        "\n",
        "train_dir = \"./CLS/train\"\n",
        "validation_dir = \"./CLS/validation\"\n",
        "prediction_dir = \"./CLS/prediction\"\n",
        "\n",
        "\n",
        "train_datagen = Image.ImageDataGenerator(\n",
        "            featurewise_center = False,\n",
        "            samplewise_center = False,\n",
        "            featurewise_std_normalization = False,\n",
        "            samplewise_std_normalization = False,\n",
        "            zca_whitening = False,\n",
        "            rotation_range = 90,\n",
        "            width_shift_range = 0.3,\n",
        "            height_shift_range = 0.3,\n",
        "            horizontal_flip = True,\n",
        "            vertical_flip = False,\n",
        "            rescale=1./255\n",
        "        )\n",
        "\n",
        "val_datagen = Image.ImageDataGenerator(rescale=1./255)\n",
        "\n",
        "\n",
        "\n",
        "train_generator = train_datagen.flow_from_directory(\n",
        "            train_dir,\n",
        "            target_size=(input_size,input_size),\n",
        "            batch_size=10,\n",
        "            class_mode='categorical'\n",
        "        )\n",
        "\n",
        "validation_generator = val_datagen.flow_from_directory(\n",
        "            validation_dir,\n",
        "            target_size=(input_size,input_size),\n",
        "            batch_size=10,\n",
        "            class_mode='categorical'\n",
        "        )\n",
        "\n",
        "\n",
        "prediction_generator = val_datagen.flow_from_directory(\n",
        "            prediction_dir,\n",
        "            target_size=(input_size,input_size),\n",
        "            batch_size=10,\n",
        "            class_mode='categorical'\n",
        "        )\n"
      ],
      "execution_count": 0,
      "outputs": [
        {
          "output_type": "stream",
          "text": [
            "Using TensorFlow backend.\n"
          ],
          "name": "stderr"
        },
        {
          "output_type": "stream",
          "text": [
            "Found 1800 images belonging to 10 classes.\n",
            "Found 1800 images belonging to 10 classes.\n",
            "Found 400 images belonging to 10 classes.\n"
          ],
          "name": "stdout"
        }
      ]
    },
    {
      "cell_type": "markdown",
      "metadata": {
        "id": "SnbD3y_Zh7Pg",
        "colab_type": "text"
      },
      "source": [
        "■学習開始"
      ]
    },
    {
      "cell_type": "code",
      "metadata": {
        "id": "5dq94WdxULw9",
        "colab_type": "code",
        "colab": {}
      },
      "source": [
        "\n",
        "#ファインチューニング+VGG+水増し。ここから実行してOK（VGG16をダウンロード）\n",
        "from keras import models\n",
        "from keras import layers\n",
        "from keras.optimizers import Adam\n",
        "from keras.layers import Dense, Dropout, Activation, Flatten\n",
        "from keras.applications import VGG16\n",
        "import tensorflow as tf\n",
        "import tensorflow.keras.backend as K\n",
        "from tensorflow.keras.callbacks import History, Callback\n",
        "from keras.objectives import categorical_crossentropy\n",
        "import numpy as np\n",
        "from sklearn.metrics import confusion_matrix, accuracy_score\n",
        "from keras.utils import to_categorical\n",
        "from scipy.stats import mode\n",
        "import os, pickle\n",
        "\n",
        "\n",
        "def create_cnn():\n",
        "  input_size=224\n",
        "  #input_sizeは224,224までOK。\n",
        "\n",
        "  vgg_conv = VGG16(weights='imagenet', include_top=False, input_shape=(input_size,input_size, 3))\n",
        "  last = vgg_conv.output\n",
        "\n",
        "  vgg_conv.trainable = True\n",
        "\n",
        "  set_trainable = False\n",
        "  for layer in vgg_conv.layers:\n",
        "    if layer.name == 'block5_conv1':\n",
        "      set_trainable = True\n",
        "    if set_trainable:\n",
        "      layer.trainable = True\n",
        "    else:\n",
        "      layer.trainable = False\n",
        "\n",
        "  mod = Flatten()(last)\n",
        "  mod = Dense(256, activation='relu')(mod)\n",
        "  #mod = Dropout(0.5)(mod)\n",
        "  preds = Dense(10, activation='softmax')(mod)\n",
        "\n",
        "  model = models.Model(vgg_conv.input, preds)\n",
        "\n",
        "  return model\n"
      ],
      "execution_count": 0,
      "outputs": []
    },
    {
      "cell_type": "markdown",
      "metadata": {
        "id": "vMCP246j39AB",
        "colab_type": "text"
      },
      "source": [
        "チェックポイントを定義(val lossが一番低い値の時にweightを保存)"
      ]
    },
    {
      "cell_type": "code",
      "metadata": {
        "id": "Sa68Qz4p3_Ov",
        "colab_type": "code",
        "colab": {}
      },
      "source": [
        "class Checkpoint(Callback):\n",
        "    def __init__(self, model, filepath):\n",
        "        self.model = model\n",
        "        self.filepath = filepath\n",
        "        self.best_val_acc = 0.0\n",
        "        self.best_val_loss = 0.1\n",
        "\n",
        "    def on_epoch_end(self, epoch, logs):\n",
        "        # val_accuracyが最大の時ににweightを保存する\n",
        "        # if self.best_val_acc < logs[\"val_accuracy\"]:\n",
        "        #     self.model.save_weights(self.filepath)\n",
        "        #     self.best_val_acc = logs[\"val_accuracy\"]\n",
        "        #     print(\"Weights saved.\", self.best_val_acc)\n",
        "\n",
        "        # val_lossが最小の時ににweightを保存する\n",
        "        if self.best_val_loss > logs[\"val_loss\"]:\n",
        "            self.model.save_weights(self.filepath)\n",
        "            self.best_val_loss = logs[\"val_loss\"]\n",
        "            print(\"Weights saved.\", self.best_val_loss)\n",
        "        # print(epoch + 1)\n",
        "\n",
        "        # epochの最後にweightを保存する\n",
        "        # if epoch == 99:\n",
        "        #   print(\"epoch equals \", epoch)\n",
        "        #   self.model.save_weights(self.filepath)\n",
        "        #   self.best_val_loss = logs[\"val_loss\"]\n",
        "        #   print(\"Weights saved.\", self.best_val_loss)"
      ],
      "execution_count": 0,
      "outputs": []
    },
    {
      "cell_type": "markdown",
      "metadata": {
        "id": "3-DwQxyRfdxG",
        "colab_type": "text"
      },
      "source": [
        "モデルを実行してアンサンブル学習させていきます"
      ]
    },
    {
      "cell_type": "code",
      "metadata": {
        "id": "dLkWD57CZJEX",
        "colab_type": "code",
        "colab": {}
      },
      "source": [
        "def train():\n",
        "    print(\"train starts\")\n",
        "    hist = History()\n",
        "    train_model = create_cnn()\n",
        "    train_model.compile(optimizer=Adam(lr=1e-5),loss='categorical_crossentropy',metrics=['accuracy'])\n",
        "    cp = Checkpoint(train_model, f\"weights.hdf5\")\n",
        "    train_model.fit_generator(train_generator,epochs=10,validation_data=validation_generator,callbacks=[hist, cp])      \n",
        "\n",
        "    return hist.history\n",
        "\n",
        "\n"
      ],
      "execution_count": 0,
      "outputs": []
    },
    {
      "cell_type": "code",
      "metadata": {
        "id": "fqaVKLXZgiEZ",
        "colab_type": "code",
        "outputId": "e36c1ed5-3c7d-4916-961d-c9edd83ff1dc",
        "colab": {
          "base_uri": "https://localhost:8080/",
          "height": 408
        }
      },
      "source": [
        "K.clear_session()\n",
        "hist = train()"
      ],
      "execution_count": 0,
      "outputs": [
        {
          "output_type": "stream",
          "text": [
            "train starts\n",
            "Epoch 1/10\n",
            "180/180 [==============================] - 37s 206ms/step - loss: 1.9025 - accuracy: 0.3267 - val_loss: 1.7604 - val_accuracy: 0.5428\n",
            "Epoch 2/10\n",
            "180/180 [==============================] - 36s 198ms/step - loss: 1.2024 - accuracy: 0.5528 - val_loss: 0.7989 - val_accuracy: 0.6506\n",
            "Epoch 3/10\n",
            "180/180 [==============================] - 36s 201ms/step - loss: 0.9092 - accuracy: 0.6828 - val_loss: 0.4169 - val_accuracy: 0.7178\n",
            "Epoch 4/10\n",
            "180/180 [==============================] - 36s 202ms/step - loss: 0.7439 - accuracy: 0.7411 - val_loss: 0.2143 - val_accuracy: 0.7917\n",
            "Epoch 5/10\n",
            "180/180 [==============================] - 36s 202ms/step - loss: 0.6371 - accuracy: 0.7817 - val_loss: 0.9340 - val_accuracy: 0.8011\n",
            "Epoch 6/10\n",
            "180/180 [==============================] - 36s 202ms/step - loss: 0.5604 - accuracy: 0.7894 - val_loss: 0.5408 - val_accuracy: 0.8194\n",
            "Epoch 7/10\n",
            "180/180 [==============================] - 36s 201ms/step - loss: 0.5056 - accuracy: 0.8183 - val_loss: 0.5434 - val_accuracy: 0.8394\n",
            "Epoch 8/10\n",
            "180/180 [==============================] - 36s 201ms/step - loss: 0.4473 - accuracy: 0.8450 - val_loss: 0.0452 - val_accuracy: 0.8600\n",
            "Weights saved. 0.04524058476090431\n",
            "Epoch 9/10\n",
            "180/180 [==============================] - 36s 201ms/step - loss: 0.4094 - accuracy: 0.8544 - val_loss: 0.0513 - val_accuracy: 0.8611\n",
            "Epoch 10/10\n",
            "180/180 [==============================] - 36s 202ms/step - loss: 0.3763 - accuracy: 0.8739 - val_loss: 0.0498 - val_accuracy: 0.8456\n"
          ],
          "name": "stdout"
        }
      ]
    },
    {
      "cell_type": "markdown",
      "metadata": {
        "id": "HXMQMfNufvlL",
        "colab_type": "text"
      },
      "source": [
        "■正解率と損失率をグラフ化"
      ]
    },
    {
      "cell_type": "code",
      "metadata": {
        "id": "Tik0x-QsZKtC",
        "colab_type": "code",
        "outputId": "7aac8b68-638b-43be-a4b2-698f3502c279",
        "colab": {
          "base_uri": "https://localhost:8080/",
          "height": 545
        }
      },
      "source": [
        "import matplotlib.pyplot as plt\n",
        "\n",
        "history = hist\n",
        "\n",
        "acc=history['accuracy']\n",
        "val_acc=history['val_accuracy']\n",
        "loss=history['loss']\n",
        "val_loss=history['val_loss']\n",
        "\n",
        "epochs=range(1,len(acc)+1)\n",
        "\n",
        "#正解率plot\n",
        "plt.plot(epochs,acc,'bo',label='Training acc')\n",
        "plt.plot(epochs,val_acc,'b',label='Validation acc')\n",
        "plt.title('Training and validation accuracy')\n",
        "plt.legend()\n",
        "\n",
        "plt.figure()\n",
        "\n",
        "\n",
        "#損失値をplot\n",
        "plt.plot(epochs,loss,'bo',label='Training loss')\n",
        "plt.plot(epochs,val_loss,'b',label='Validation loss')\n",
        "plt.title('Training and validation loss')\n",
        "plt.legend()\n",
        "\n",
        "plt.show()\n"
      ],
      "execution_count": 0,
      "outputs": [
        {
          "output_type": "display_data",
          "data": {
            "image/png": "[encoded data removed]",
            "text/plain": [
              "<Figure size 432x288 with 1 Axes>"
            ]
          },
          "metadata": {
            "tags": [],
            "needs_background": "light"
          }
        },
        {
          "output_type": "display_data",
          "data": {
            "image/png": "[encoded data removed]",
            "text/plain": [
              "<Figure size 432x288 with 1 Axes>"
            ]
          },
          "metadata": {
            "tags": [],
            "needs_background": "light"
          }
        }
      ]
    },
    {
      "cell_type": "markdown",
      "metadata": {
        "id": "8KRPYAVR_9Zn",
        "colab_type": "text"
      },
      "source": [
        "■学習した分類器を単体で検証"
      ]
    },
    {
      "cell_type": "markdown",
      "metadata": {
        "id": "HVEpU5mMEEOi",
        "colab_type": "text"
      },
      "source": [
        "weightをロードして単体で検証します"
      ]
    },
    {
      "cell_type": "code",
      "metadata": {
        "id": "-Ry5e6uAo9Hw",
        "colab_type": "code",
        "colab": {}
      },
      "source": [
        "def sin_predict():\n",
        "  \n",
        "    train_model = create_cnn()\n",
        "    train_model.compile(optimizer=Adam(lr=1e-5),loss='categorical_crossentropy',metrics=['accuracy'])\n",
        "\n",
        "    # 最良のモデルの読み込み\n",
        "    train_model.load_weights(f\"weights.hdf5\")\n",
        "    for layer in train_model.layers:\n",
        "        layer.trainable = False\n",
        "\n",
        "    # 単体の推論\n",
        "    single_preds = np.argmax(train_model.predict_generator(prediction_generator), axis=-1)\n",
        "\n",
        "    # 推論のスコア\n",
        "    test_acc = accuracy_score(prediction_generator.classes[prediction_generator.index_array], single_preds)\n",
        "\n",
        "    print(\"Test Accuracy : \", test_acc)\n"
      ],
      "execution_count": 0,
      "outputs": []
    },
    {
      "cell_type": "code",
      "metadata": {
        "id": "5pMpwvF7qMTt",
        "colab_type": "code",
        "outputId": "7d5dec11-7dd9-4115-ce25-e8fff4bbb4c2",
        "colab": {
          "base_uri": "https://localhost:8080/",
          "height": 52
        }
      },
      "source": [
        "# 単体の推論\n",
        "sin_predict()"
      ],
      "execution_count": 0,
      "outputs": [
        {
          "output_type": "stream",
          "text": [
            "Estimator 1 train starts\n",
            "Current Ensemble Test Accuracy :  0.9666666666666667\n"
          ],
          "name": "stdout"
        }
      ]
    }
  ]
}
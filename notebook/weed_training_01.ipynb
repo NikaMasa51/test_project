{
  "nbformat": 4,
  "nbformat_minor": 0,
  "metadata": {
    "colab": {
      "name": "weed_training_01",
      "provenance": [],
      "collapsed_sections": []
    },
    "kernelspec": {
      "name": "python3",
      "display_name": "Python 3"
    },
    "accelerator": "GPU"
  },
  "cells": [
    {
      "cell_type": "markdown",
      "metadata": {
        "id": "op_4dXNe5oEV",
        "colab_type": "text"
      },
      "source": [
        "# 雑草の生育期間を区別せずに分類器を作る（10種類）\n",
        "　雑草の生育期間（芽生え・生育済み）を区別せずに分類器を作成します。 育成した雑草の種類はハキダメギク、ホソアオゲイトウ、イチビ、イヌビエ、コセンダングサ、マメアサガオ、メヒシバ、オヒシバ、オイヌタデ、シロザの10種類です"
      ]
    },
    {
      "cell_type": "markdown",
      "metadata": {
        "id": "NCQh_T0zLntu",
        "colab_type": "text"
      },
      "source": [
        "### ■データのダウンロード"
      ]
    },
    {
      "cell_type": "markdown",
      "metadata": {
        "id": "0jdbMuOmSpjy",
        "colab_type": "text"
      },
      "source": [
        "・cluster.zipをダウンロードします。"
      ]
    },
    {
      "cell_type": "code",
      "metadata": {
        "id": "dkXy31etIQpT",
        "colab_type": "code",
        "colab": {}
      },
      "source": [
        "#グーグルドライブからファイルをダウンロードする方法\n",
        "#ファイル限定\n",
        "\n",
        "import requests\n",
        "\n",
        "def download_file_from_google_drive(id, destination):\n",
        "\n",
        "    URL = \"https://docs.google.com/uc?export=download\"\n",
        "\n",
        "    session = requests.Session()\n",
        "\n",
        "    response = session.get(URL, params = { 'id' : id }, stream = True)\n",
        "\n",
        "    token = get_confirm_token(response)\n",
        "\n",
        "    if token:\n",
        "\n",
        "        params = { 'id' : id, 'confirm' : token }\n",
        "\n",
        "        response = session.get(URL, params = params, stream = True)\n",
        "\n",
        "    save_response_content(response, destination)    \n",
        "\n",
        "def get_confirm_token(response):\n",
        "\n",
        "    for key, value in response.cookies.items():\n",
        "\n",
        "        if key.startswith('download_warning'):\n",
        "\n",
        "            return value\n",
        "\n",
        "    return None\n",
        "\n",
        "def save_response_content(response, destination):\n",
        "\n",
        "    CHUNK_SIZE = 32768\n",
        "\n",
        "    with open(destination, \"wb\") as f:\n",
        "\n",
        "        for chunk in response.iter_content(CHUNK_SIZE):\n",
        "\n",
        "            if chunk: # filter out keep-alive new chunks\n",
        "\n",
        "                f.write(chunk)\n",
        "\n",
        "#取得されるトークン\n",
        "file_id = '1XillhpofzGUFJwQ_CvXpsWDuWT0lp2-w'\n",
        "\n",
        "#欲しいフォルダ名\n",
        "destination = 'cluster.zip'\n",
        "\n",
        "download_file_from_google_drive(file_id, destination)\n",
        "\n"
      ],
      "execution_count": 0,
      "outputs": []
    },
    {
      "cell_type": "markdown",
      "metadata": {
        "id": "fKmeWPABPKpp",
        "colab_type": "text"
      },
      "source": [
        "・cluster.zipを解凍します。"
      ]
    },
    {
      "cell_type": "code",
      "metadata": {
        "id": "CAC7SLKpJqEl",
        "colab_type": "code",
        "colab": {}
      },
      "source": [
        "!unzip cluster\n",
        "print(\"clusterファイルの解凍が完了しました。\")"
      ],
      "execution_count": 0,
      "outputs": []
    },
    {
      "cell_type": "markdown",
      "metadata": {
        "id": "PzF0mQNICl6x",
        "colab_type": "text"
      },
      "source": [
        "### ■データセットの作成"
      ]
    },
    {
      "cell_type": "markdown",
      "metadata": {
        "id": "13kgHJHOTLy9",
        "colab_type": "text"
      },
      "source": [
        "・train、validation、prediction用のディレクトリを作成し、class用のディレクトリを追加します"
      ]
    },
    {
      "cell_type": "code",
      "metadata": {
        "id": "3zsW_yV4blgv",
        "colab_type": "code",
        "outputId": "6ec1d1d7-0063-4787-cc81-e2f48cb70290",
        "colab": {
          "base_uri": "https://localhost:8080/",
          "height": 34
        }
      },
      "source": [
        "import os, shutil\n",
        "\n",
        "# CLSディレクトリを作成します\n",
        "base_dir = \"./CLS\"\n",
        "if \"CLS\" not in os.listdir(\"./\"):\n",
        "  os.mkdir(base_dir)\n",
        "else:\n",
        "  print(base_dir, \"は既に存在します\")\n",
        "\n",
        "# train用ディレクトリを作成します\n",
        "train_index = \"train\"\n",
        "train_dir = os.path.join(base_dir, train_index)\n",
        "if train_index not in os.listdir(base_dir):\n",
        "  os.mkdir(train_dir)\n",
        "else:\n",
        "  print(train_dir + \"は既に存在します\")\n",
        "\n",
        "# validation用ディレクトリを作成します\n",
        "validation_index = \"validation\"\n",
        "validation_dir = os.path.join(base_dir, validation_index)\n",
        "if validation_index not in os.listdir(base_dir):\n",
        "  os.mkdir(validation_dir)\n",
        "else:\n",
        "  print(validation_dir + \"は既に存在します\")\n",
        "\n",
        "# prediction用ディレクトリを作成します\n",
        "prediction_index = \"prediction\"\n",
        "prediction_dir = os.path.join(base_dir, prediction_index)\n",
        "if prediction_index not in os.listdir(base_dir):\n",
        "  os.mkdir(prediction_dir)\n",
        "else:\n",
        "  print(prediction_dir + \"は既に存在します\")\n",
        "\n",
        "#class用ディレクトリを作成します\n",
        "classes=[\"hakidamegiku\",\"hosoaogeitou\",\"ichibi\",\n",
        "         \"inubie\",\"kosendangusa\",\"mameasagao\",\n",
        "         \"mehishiba\",\"ohishiba\",\"oinutade\",\"shiroza\",]\n",
        "dirs = os.listdir(base_dir)\n",
        "for dir in dirs:\n",
        "  for cls in classes:\n",
        "    # Directory with our training pictures\n",
        "    class_dir = os.path.join(base_dir, dir, cls)\n",
        "    if cls not in os.listdir(base_dir + \"/\" + dir):\n",
        "      os.mkdir(class_dir)\n",
        "    else:\n",
        "      print(class_dir, \"は既に存在します\")\n",
        "\n",
        "print(\"作成完了！\")"
      ],
      "execution_count": 3,
      "outputs": [
        {
          "output_type": "stream",
          "text": [
            "作成完了！\n"
          ],
          "name": "stdout"
        }
      ]
    },
    {
      "cell_type": "markdown",
      "metadata": {
        "id": "8CPwpwvHcAOZ",
        "colab_type": "text"
      },
      "source": [
        "・画像をディレクトリに振り分けます。"
      ]
    },
    {
      "cell_type": "code",
      "metadata": {
        "colab_type": "code",
        "id": "06Htjh2XbM50",
        "colab": {}
      },
      "source": [
        "from os.path import join\n",
        "import random\n",
        "\n",
        "clsdir = \"./cluster\"\n",
        "base_dir = \"./CLS\"\n",
        "dirs = os.listdir(base_dir)\n",
        "weed_types = [\"sprout\",\"grown\"]\n",
        "weed_names = os.listdir(clsdir)\n",
        "# ファイル（クラスごとに分かれている）を順番に読み取り\n",
        "# train, validationデータを作成\n",
        "for weed_name in weed_names:\n",
        "  for weed_type in weed_types: \n",
        "    print(weed_name, \"/\",weed_type)\n",
        "    # 画像をランダムに抽出\n",
        "    file_names = os.listdir(os.path.join(clsdir, weed_name, weed_type))\n",
        "    files100 = random.sample(file_names, int(100))\n",
        "    num1 = 0\n",
        "    num2 = 0\n",
        "    for file_name in file_names:\n",
        "      if  file_name in files100:\n",
        "        if num1 >= 90:\n",
        "          continue\n",
        "        # 移動元のファイル\n",
        "        path1 = os.path.join(clsdir, weed_name, weed_type, file_name)\n",
        "        # 移動先のファイル\n",
        "        path2= os.path.join(base_dir, \"train\", weed_name, file_name)\n",
        "        # ファイルを移動\n",
        "        new_path = shutil.move(path1, path2)\n",
        "        # ファイルの存在確認\n",
        "        print(os.path.exists(path2))\n",
        "        num1 = num1 + 1\n",
        "      else:\n",
        "        if num2 >= 90:\n",
        "          continue \n",
        "        # 移動元のファイル\n",
        "        path1 = os.path.join(clsdir, weed_name, weed_type, file_name)\n",
        "        # 移動先のファイル\n",
        "        path2= os.path.join(base_dir, \"validation\", weed_name, file_name)\n",
        "        # ファイルを移動\n",
        "        new_path = shutil.move(path1, path2)\n",
        "        # ファイルの存在確認\n",
        "        print(os.path.exists(path2))\n",
        "        num2 = num2 + 1\n",
        "\n",
        "# predictionデータを作成\n",
        "for weed_name in weed_names:\n",
        "  for weed_type in weed_types:\n",
        "    print(weed_name, \"/\",weed_type)\n",
        "    file_names = os.listdir(os.path.join(clsdir, weed_name, weed_type))\n",
        "    for file_name in file_names:      \n",
        "      # 移動元のファイル\n",
        "      path1 = os.path.join(clsdir, weed_name, weed_type, file_name)\n",
        "      # 移動先のファイル\n",
        "      path2= os.path.join(base_dir, \"prediction\", weed_name, file_name)\n",
        "      # ファイルを移動\n",
        "      new_path = shutil.move(path1, path2)\n",
        "      # ファイルの存在確認\n",
        "      print(os.path.exists(path2))\n"
      ],
      "execution_count": 0,
      "outputs": []
    },
    {
      "cell_type": "markdown",
      "metadata": {
        "id": "89zSPJPufnsz",
        "colab_type": "text"
      },
      "source": [
        "・trainデータ、validationデータ、predictionデータのgeneratorを作成します"
      ]
    },
    {
      "cell_type": "code",
      "metadata": {
        "colab_type": "code",
        "outputId": "be6202fa-0cb8-4f71-b2c9-759110abbcfb",
        "id": "ork4z7VlHv5T",
        "colab": {
          "base_uri": "https://localhost:8080/",
          "height": 85
        }
      },
      "source": [
        "import os \n",
        "import numpy as np\n",
        "from keras.preprocessing.image import ImageDataGenerator\n",
        "import keras.preprocessing.image as Image\n",
        "\n",
        "input_size = 224\n",
        "\n",
        "train_dir = \"./CLS/train\"\n",
        "validation_dir = \"./CLS/validation\"\n",
        "prediction_dir = \"./CLS/prediction\"\n",
        "\n",
        "\n",
        "train_datagen = Image.ImageDataGenerator(\n",
        "            featurewise_center = False,\n",
        "            samplewise_center = False,\n",
        "            featurewise_std_normalization = False,\n",
        "            samplewise_std_normalization = False,\n",
        "            zca_whitening = False,\n",
        "            rotation_range = 90,\n",
        "            width_shift_range = 0.3,\n",
        "            height_shift_range = 0.3,\n",
        "            horizontal_flip = True,\n",
        "            vertical_flip = False,\n",
        "            rescale=1./255\n",
        "        )\n",
        "\n",
        "val_datagen = Image.ImageDataGenerator(rescale=1./255)\n",
        "\n",
        "\n",
        "\n",
        "train_generator = train_datagen.flow_from_directory(\n",
        "            train_dir,\n",
        "            target_size=(input_size,input_size),\n",
        "            batch_size=10,\n",
        "            class_mode='categorical'\n",
        "        )\n",
        "\n",
        "validation_generator = val_datagen.flow_from_directory(\n",
        "            validation_dir,\n",
        "            target_size=(input_size,input_size),\n",
        "            batch_size=10,\n",
        "            class_mode='categorical'\n",
        "        )\n",
        "print(\"データセット作成完了！\")"
      ],
      "execution_count": 5,
      "outputs": [
        {
          "output_type": "stream",
          "text": [
            "Using TensorFlow backend.\n"
          ],
          "name": "stderr"
        },
        {
          "output_type": "stream",
          "text": [
            "Found 1800 images belonging to 10 classes.\n",
            "Found 1800 images belonging to 10 classes.\n",
            "データセット作成完了！\n"
          ],
          "name": "stdout"
        }
      ]
    },
    {
      "cell_type": "markdown",
      "metadata": {
        "id": "SnbD3y_Zh7Pg",
        "colab_type": "text"
      },
      "source": [
        "### ■トレーニングの実行"
      ]
    },
    {
      "cell_type": "markdown",
      "metadata": {
        "id": "cR5MXYEeWvGq",
        "colab_type": "text"
      },
      "source": [
        "・モデルのレイヤー構成を定義します"
      ]
    },
    {
      "cell_type": "code",
      "metadata": {
        "id": "5dq94WdxULw9",
        "colab_type": "code",
        "colab": {}
      },
      "source": [
        "\n",
        "#ファインチューニング+VGG+水増し。ここから実行してOK（VGG16をダウンロード）\n",
        "from keras import models\n",
        "from keras import layers\n",
        "from keras.optimizers import Adam\n",
        "from keras.layers import Dense, Dropout, Activation, Flatten\n",
        "from keras.applications import VGG16\n",
        "import tensorflow as tf\n",
        "import tensorflow.keras.backend as K\n",
        "from tensorflow.keras.callbacks import History, Callback\n",
        "from keras.objectives import categorical_crossentropy\n",
        "import numpy as np\n",
        "from sklearn.metrics import confusion_matrix, accuracy_score\n",
        "from keras.utils import to_categorical\n",
        "from scipy.stats import mode\n",
        "import os, pickle\n",
        "from sklearn.metrics import classification_report, confusion_matrix\n",
        "\n",
        "\n",
        "def create_cnn():\n",
        "  input_size=224\n",
        "  #input_sizeは224,224までOK。\n",
        "\n",
        "  vgg_conv = VGG16(weights='imagenet', include_top=False, input_shape=(input_size,input_size, 3))\n",
        "  last = vgg_conv.output\n",
        "\n",
        "  vgg_conv.trainable = True\n",
        "\n",
        "  set_trainable = False\n",
        "  for layer in vgg_conv.layers:\n",
        "    if layer.name == 'block5_conv1':\n",
        "      set_trainable = True\n",
        "    if set_trainable:\n",
        "      layer.trainable = True\n",
        "    else:\n",
        "      layer.trainable = False\n",
        "\n",
        "  mod = Flatten()(last)\n",
        "  mod = Dense(256, activation='relu')(mod)\n",
        "  #mod = Dropout(0.5)(mod)\n",
        "  preds = Dense(10, activation='softmax')(mod)\n",
        "\n",
        "  model = models.Model(vgg_conv.input, preds)\n",
        "\n",
        "  return model\n"
      ],
      "execution_count": 0,
      "outputs": []
    },
    {
      "cell_type": "markdown",
      "metadata": {
        "id": "vMCP246j39AB",
        "colab_type": "text"
      },
      "source": [
        "・チェックポイントを定義します(val lossが一番低い値の時にweightファイルを保存)"
      ]
    },
    {
      "cell_type": "code",
      "metadata": {
        "id": "Sa68Qz4p3_Ov",
        "colab_type": "code",
        "colab": {}
      },
      "source": [
        "class Checkpoint(Callback):\n",
        "    def __init__(self, model, filepath):\n",
        "        self.model = model\n",
        "        self.filepath = filepath\n",
        "        self.best_val_acc = 0.0\n",
        "        self.best_val_loss = 0.5\n",
        "\n",
        "    def on_epoch_end(self, epoch, logs):\n",
        "        # val_lossが最小の時ににweightを保存する\n",
        "        if self.best_val_loss > logs[\"val_loss\"]:\n",
        "            self.model.save_weights(self.filepath)\n",
        "            self.best_val_loss = logs[\"val_loss\"]\n",
        "            print(\"Weights saved.\", self.best_val_loss)"
      ],
      "execution_count": 0,
      "outputs": []
    },
    {
      "cell_type": "markdown",
      "metadata": {
        "id": "3-DwQxyRfdxG",
        "colab_type": "text"
      },
      "source": [
        "・学習の実行手順を定義します"
      ]
    },
    {
      "cell_type": "code",
      "metadata": {
        "id": "dLkWD57CZJEX",
        "colab_type": "code",
        "colab": {}
      },
      "source": [
        "def train():\n",
        "    print(\"学習を開始します\")\n",
        "    hist = History()\n",
        "    train_model = create_cnn()\n",
        "    train_model.compile(optimizer=Adam(lr=1e-5),loss='categorical_crossentropy',metrics=['accuracy'])\n",
        "    cp = Checkpoint(train_model, f\"weights.hdf5\")\n",
        "    train_model.fit_generator(train_generator,epochs=10,validation_data=validation_generator,callbacks=[hist, cp])      \n",
        "    print(\"学習が完了しました\")\n",
        "    return hist.history\n"
      ],
      "execution_count": 0,
      "outputs": []
    },
    {
      "cell_type": "markdown",
      "metadata": {
        "id": "MjCJKxdZXbbK",
        "colab_type": "text"
      },
      "source": [
        "・学習を開始します"
      ]
    },
    {
      "cell_type": "code",
      "metadata": {
        "id": "fqaVKLXZgiEZ",
        "colab_type": "code",
        "outputId": "d99b0d44-5e13-4511-fd80-b8df172d5ad5",
        "colab": {
          "base_uri": "https://localhost:8080/",
          "height": 494
        }
      },
      "source": [
        "K.clear_session()\n",
        "hist = train()"
      ],
      "execution_count": 9,
      "outputs": [
        {
          "output_type": "stream",
          "text": [
            "学習を開始します\n",
            "Downloading data from https://github.com/fchollet/deep-learning-models/releases/download/v0.1/vgg16_weights_tf_dim_ordering_tf_kernels_notop.h5\n",
            "58892288/58889256 [==============================] - 2s 0us/step\n",
            "Epoch 1/10\n",
            "180/180 [==============================] - 44s 244ms/step - loss: 1.8960 - accuracy: 0.3150 - val_loss: 1.3553 - val_accuracy: 0.5644\n",
            "Epoch 2/10\n",
            "180/180 [==============================] - 36s 198ms/step - loss: 1.2428 - accuracy: 0.5433 - val_loss: 0.4719 - val_accuracy: 0.6761\n",
            "Weights saved. 0.4719138741493225\n",
            "Epoch 3/10\n",
            "180/180 [==============================] - 36s 201ms/step - loss: 0.9683 - accuracy: 0.6539 - val_loss: 1.0652 - val_accuracy: 0.7283\n",
            "Epoch 4/10\n",
            "180/180 [==============================] - 36s 199ms/step - loss: 0.7921 - accuracy: 0.7200 - val_loss: 0.5009 - val_accuracy: 0.8011\n",
            "Epoch 5/10\n",
            "180/180 [==============================] - 36s 200ms/step - loss: 0.6573 - accuracy: 0.7772 - val_loss: 0.2948 - val_accuracy: 0.7961\n",
            "Weights saved. 0.2947883903980255\n",
            "Epoch 6/10\n",
            "180/180 [==============================] - 36s 199ms/step - loss: 0.5804 - accuracy: 0.7956 - val_loss: 0.2512 - val_accuracy: 0.8350\n",
            "Weights saved. 0.2512356638908386\n",
            "Epoch 7/10\n",
            "180/180 [==============================] - 36s 200ms/step - loss: 0.5265 - accuracy: 0.8122 - val_loss: 0.2585 - val_accuracy: 0.8167\n",
            "Epoch 8/10\n",
            "180/180 [==============================] - 36s 200ms/step - loss: 0.4621 - accuracy: 0.8256 - val_loss: 0.7864 - val_accuracy: 0.8283\n",
            "Epoch 9/10\n",
            "180/180 [==============================] - 36s 200ms/step - loss: 0.4270 - accuracy: 0.8522 - val_loss: 0.0917 - val_accuracy: 0.8633\n",
            "Weights saved. 0.09165773540735245\n",
            "Epoch 10/10\n",
            "180/180 [==============================] - 36s 199ms/step - loss: 0.3992 - accuracy: 0.8628 - val_loss: 0.2224 - val_accuracy: 0.8750\n",
            "学習が完了しました\n"
          ],
          "name": "stdout"
        }
      ]
    },
    {
      "cell_type": "markdown",
      "metadata": {
        "id": "HXMQMfNufvlL",
        "colab_type": "text"
      },
      "source": [
        "### ■正解率と損失率をグラフ化"
      ]
    },
    {
      "cell_type": "markdown",
      "metadata": {
        "id": "oP7_j_XPZY6m",
        "colab_type": "text"
      },
      "source": [
        "・trainの正解率と損失率、validationの正解率と損失率をグラフ化します"
      ]
    },
    {
      "cell_type": "code",
      "metadata": {
        "id": "Tik0x-QsZKtC",
        "colab_type": "code",
        "outputId": "607f68e8-4456-43fa-b002-6f22ab50441e",
        "colab": {
          "base_uri": "https://localhost:8080/",
          "height": 545
        }
      },
      "source": [
        "import matplotlib.pyplot as plt\n",
        "\n",
        "history = hist\n",
        "\n",
        "acc=history['accuracy']\n",
        "val_acc=history['val_accuracy']\n",
        "loss=history['loss']\n",
        "val_loss=history['val_loss']\n",
        "\n",
        "epochs=range(1,len(acc)+1)\n",
        "\n",
        "#正解率plot\n",
        "plt.plot(epochs,acc,'bo',label='Training acc')\n",
        "plt.plot(epochs,val_acc,'b',label='Validation acc')\n",
        "plt.title('Training and validation accuracy')\n",
        "plt.legend()\n",
        "\n",
        "plt.figure()\n",
        "\n",
        "\n",
        "#損失値をplot\n",
        "plt.plot(epochs,loss,'bo',label='Training loss')\n",
        "plt.plot(epochs,val_loss,'b',label='Validation loss')\n",
        "plt.title('Training and validation loss')\n",
        "plt.legend()\n",
        "\n",
        "plt.show()\n"
      ],
      "execution_count": 10,
      "outputs": [
        {
          "output_type": "display_data",
          "data": {
            "image/png": "[encoded data removed]",
            "text/plain": [
              "<Figure size 432x288 with 1 Axes>"
            ]
          },
          "metadata": {
            "tags": [],
            "needs_background": "light"
          }
        },
        {
          "output_type": "display_data",
          "data": {
            "image/png": "[encoded data removed]",
            "text/plain": [
              "<Figure size 432x288 with 1 Axes>"
            ]
          },
          "metadata": {
            "tags": [],
            "needs_background": "light"
          }
        }
      ]
    },
    {
      "cell_type": "markdown",
      "metadata": {
        "id": "8KRPYAVR_9Zn",
        "colab_type": "text"
      },
      "source": [
        "### ■推論"
      ]
    },
    {
      "cell_type": "markdown",
      "metadata": {
        "id": "ts0ZYstl6x4y",
        "colab_type": "text"
      },
      "source": [
        "・prediction用のデータセットを作成します"
      ]
    },
    {
      "cell_type": "code",
      "metadata": {
        "id": "VNZBgLlClER7",
        "colab_type": "code",
        "colab": {
          "base_uri": "https://localhost:8080/",
          "height": 395
        },
        "outputId": "87196189-e869-4710-8d20-cbf3be1fbf95"
      },
      "source": [
        "from PIL import Image\n",
        "import os, glob\n",
        "import numpy as np\n",
        "from PIL import ImageFile\n",
        "\n",
        "ImageFile.LOAD_TRUNCATED_IMAGES =True\n",
        "\n",
        "prediction_dir = \"./CLS/prediction\"\n",
        "prediction_classes = [\"hakidamegiku\",\"hosoaogeitou\",\"ichibi\",\"inubie\",\"kosendangusa\",\"mameasagao\",\"mehishiba\",\"ohishiba\",\"oinutade\",\"shiroza\"]\n",
        "\n",
        "# prediction_classes = os.listdir(prediction_dir)\n",
        "image_size = 224\n",
        "print(prediction_classes)\n",
        "X_test = []\n",
        "y_test = []\n",
        "for index, classlabel in enumerate(prediction_classes):\n",
        "    photos_dir = os.path.join(prediction_dir, classlabel)\n",
        "    files = glob.glob(photos_dir + \"/*.JPG\")\n",
        "    print(files)\n",
        "    for i, file in enumerate(files):\n",
        "        image = Image.open(file)\n",
        "        image = image.convert(\"RGB\")\n",
        "        image = image.resize((image_size, image_size))\n",
        "        data = np.asarray(image)\n",
        "        if i == 0:\n",
        "          print(data.shape)\n",
        "        X_test.append(data)\n",
        "        y_test.append(index)\n",
        "\n",
        "X_test1 = np.array(X_test)\n",
        "y_test1 = np.array(y_test)"
      ],
      "execution_count": 11,
      "outputs": [
        {
          "output_type": "stream",
          "text": [
            "['hakidamegiku', 'hosoaogeitou', 'ichibi', 'inubie', 'kosendangusa', 'mameasagao', 'mehishiba', 'ohishiba', 'oinutade', 'shiroza']\n",
            "['./CLS/prediction/hakidamegiku/hakidamegiku_IMG_1774_7.JPG', './CLS/prediction/hakidamegiku/hakidamegiku_IMG_1652_10.JPG', './CLS/prediction/hakidamegiku/hakidamegiku_IMG_1773_10.JPG', './CLS/prediction/hakidamegiku/hakidamegiku_IMG_1524_13.JPG', './CLS/prediction/hakidamegiku/hakidamegiku_IMG_1524_19.JPG', './CLS/prediction/hakidamegiku/hakidamegiku_IMG_1807_4.JPG', './CLS/prediction/hakidamegiku/hakidamegiku_IMG_1547_15.JPG', './CLS/prediction/hakidamegiku/hakidamegiku_IMG_4885_1.JPG', './CLS/prediction/hakidamegiku/hakidamegiku_IMG_4463_3.JPG', './CLS/prediction/hakidamegiku/hakidamegiku_IMG_1574_18.JPG', './CLS/prediction/hakidamegiku/hakidamegiku_IMG_1596_14.JPG', './CLS/prediction/hakidamegiku/hakidamegiku_IMG_4466_1.JPG', './CLS/prediction/hakidamegiku/hakidamegiku_IMG_1614_11.JPG', './CLS/prediction/hakidamegiku/hakidamegiku_IMG_1525_13.JPG', './CLS/prediction/hakidamegiku/hakidamegiku_IMG_1773_7.JPG', './CLS/prediction/hakidamegiku/hakidamegiku_IMG_1787_3.JPG', './CLS/prediction/hakidamegiku/hakidamegiku_IMG_1794_12.JPG', './CLS/prediction/hakidamegiku/hakidamegiku_IMG_1629_16.JPG', './CLS/prediction/hakidamegiku/hakidamegiku_IMG_1652_1.JPG', './CLS/prediction/hakidamegiku/hakidamegiku_IMG_1652_2.JPG', './CLS/prediction/hakidamegiku/hakidamegiku_IMG_1787_7.JPG', './CLS/prediction/hakidamegiku/hakidamegiku_IMG_1546_16.JPG', './CLS/prediction/hakidamegiku/hakidamegiku_IMG_1773_6.JPG', './CLS/prediction/hakidamegiku/hakidamegiku_IMG_1629_20.JPG', './CLS/prediction/hakidamegiku/hakidamegiku_IMG_4879_2.JPG', './CLS/prediction/hakidamegiku/hakidamegiku_IMG_1574_1.JPG', './CLS/prediction/hakidamegiku/hakidamegiku_IMG_1629_3.JPG', './CLS/prediction/hakidamegiku/hakidamegiku_IMG_1786_8.JPG', './CLS/prediction/hakidamegiku/hakidamegiku_IMG_1630_16.JPG', './CLS/prediction/hakidamegiku/hakidamegiku_IMG_1629_8.JPG', './CLS/prediction/hakidamegiku/hakidamegiku_IMG_1794_9.JPG', './CLS/prediction/hakidamegiku/hakidamegiku_IMG_1546_8.JPG', './CLS/prediction/hakidamegiku/hakidamegiku_IMG_4418_1.JPG', './CLS/prediction/hakidamegiku/hakidamegiku_IMG_1787_1.JPG', './CLS/prediction/hakidamegiku/hakidamegiku_IMG_1630_13.JPG', './CLS/prediction/hakidamegiku/hakidamegiku_IMG_1652_4.JPG', './CLS/prediction/hakidamegiku/hakidamegiku_IMG_1652_8.JPG', './CLS/prediction/hakidamegiku/hakidamegiku_IMG_1629_6.JPG', './CLS/prediction/hakidamegiku/hakidamegiku_IMG_1546_1.JPG', './CLS/prediction/hakidamegiku/hakidamegiku_IMG_1652_20.JPG']\n",
            "(224, 224, 3)\n",
            "['./CLS/prediction/hosoaogeitou/hosoaogeitou_IMG_1616_14.JPG', './CLS/prediction/hosoaogeitou/hosoaogeitou_IMG_1654_7.JPG', './CLS/prediction/hosoaogeitou/hosoaogeitou_IMG_1598_7.JPG', './CLS/prediction/hosoaogeitou/hosoaogeitou_IMG_1598_19.JPG', './CLS/prediction/hosoaogeitou/hosoaogeitou_IMG_1812_4.JPG', './CLS/prediction/hosoaogeitou/hosoaogeitou_IMG_1631_25.JPG', './CLS/prediction/hosoaogeitou/hosoaogeitou_IMG_1653_18.JPG', './CLS/prediction/hosoaogeitou/hosoaogeitou_IMG_1616_34.JPG', './CLS/prediction/hosoaogeitou/hosoaogeitou_IMG_1617_18.JPG', './CLS/prediction/hosoaogeitou/hosoaogeitou_IMG_1616_20.JPG', './CLS/prediction/hosoaogeitou/hosoaogeitou_IMG_1597_31.JPG', './CLS/prediction/hosoaogeitou/hosoaogeitou_IMG_1576_4.JPG', './CLS/prediction/hosoaogeitou/hosoaogeitou_IMG_1616_1.JPG', './CLS/prediction/hosoaogeitou/hosoaogeitou_IMG_1527_29.JPG', './CLS/prediction/hosoaogeitou/hosoaogeitou_IMG_1768_8.JPG', './CLS/prediction/hosoaogeitou/hosoaogeitou_IMG_1526_3.JPG', './CLS/prediction/hosoaogeitou/hosoaogeitou_IMG_1527_6.JPG', './CLS/prediction/hosoaogeitou/hosoaogeitou_IMG_1616_5.JPG', './CLS/prediction/hosoaogeitou/hosoaogeitou_IMG_1575_27.JPG', './CLS/prediction/hosoaogeitou/hosoaogeitou_IMG_1781_2.JPG', './CLS/prediction/hosoaogeitou/hosoaogeitou_IMG_1526_12.JPG', './CLS/prediction/hosoaogeitou/hosoaogeitou_IMG_1598_37.JPG', './CLS/prediction/hosoaogeitou/hosoaogeitou_IMG_1798_4.JPG', './CLS/prediction/hosoaogeitou/hosoaogeitou_IMG_1798_2.JPG', './CLS/prediction/hosoaogeitou/hosoaogeitou_IMG_1768_15.JPG', './CLS/prediction/hosoaogeitou/hosoaogeitou_IMG_1575_9.JPG', './CLS/prediction/hosoaogeitou/hosoaogeitou_IMG_1575_15.JPG', './CLS/prediction/hosoaogeitou/hosoaogeitou_IMG_1576_22.JPG', './CLS/prediction/hosoaogeitou/hosoaogeitou_IMG_1798_1.JPG', './CLS/prediction/hosoaogeitou/hosoaogeitou_IMG_1768_10.JPG', './CLS/prediction/hosoaogeitou/hosoaogeitou_IMG_1526_2.JPG', './CLS/prediction/hosoaogeitou/hosoaogeitou_IMG_1526_18.JPG', './CLS/prediction/hosoaogeitou/hosoaogeitou_IMG_1653_7.JPG', './CLS/prediction/hosoaogeitou/hosoaogeitou_IMG_1527_10.JPG', './CLS/prediction/hosoaogeitou/hosoaogeitou_IMG_1598_38.JPG', './CLS/prediction/hosoaogeitou/hosoaogeitou_IMG_1654_9.JPG', './CLS/prediction/hosoaogeitou/hosoaogeitou_IMG_1597_33.JPG', './CLS/prediction/hosoaogeitou/hosoaogeitou_IMG_1616_15.JPG', './CLS/prediction/hosoaogeitou/hosoaogeitou_IMG_1527_5.JPG', './CLS/prediction/hosoaogeitou/hosoaogeitou_IMG_1549_12.JPG']\n",
            "(224, 224, 3)\n",
            "['./CLS/prediction/ichibi/ichibi_IMG_4337_9.JPG', './CLS/prediction/ichibi/ichibi_IMG_4334_11.JPG', './CLS/prediction/ichibi/ichibi_IMG_4445_9.JPG', './CLS/prediction/ichibi/ichibi_IMG_4333_4.JPG', './CLS/prediction/ichibi/ichibi_IMG_4334_10.JPG', './CLS/prediction/ichibi/ichibi_IMG_4164_9.JPG', './CLS/prediction/ichibi/ichibi_IMG_4168_3.JPG', './CLS/prediction/ichibi/ichibi_IMG_4169_4.JPG', './CLS/prediction/ichibi/ichibi_IMG_4444_5.JPG', './CLS/prediction/ichibi/ichibi_IMG_4166_9.JPG', './CLS/prediction/ichibi/ichibi_IMG_4333_11.JPG', './CLS/prediction/ichibi/ichibi_IMG_4167_11.JPG', './CLS/prediction/ichibi/ichibi_IMG_4340_1.JPG', './CLS/prediction/ichibi/ichibi_IMG_4194_10.JPG', './CLS/prediction/ichibi/ichibi_IMG_4190_4.JPG', './CLS/prediction/ichibi/ichibi_IMG_4444_1.JPG', './CLS/prediction/ichibi/ichibi_IMG_4866_6.JPG', './CLS/prediction/ichibi/ichibi_IMG_4405_5.JPG', './CLS/prediction/ichibi/ichibi_IMG_4446_1.JPG', './CLS/prediction/ichibi/ichibi_IMG_4189_11.JPG', './CLS/prediction/ichibi/ichibi_IMG_4857_2.JPG', './CLS/prediction/ichibi/ichibi_IMG_4399_3.JPG', './CLS/prediction/ichibi/ichibi_IMG_4187_9.JPG', './CLS/prediction/ichibi/ichibi_IMG_4399_13.JPG', './CLS/prediction/ichibi/ichibi_IMG_4189_4.JPG', './CLS/prediction/ichibi/ichibi_IMG_4340_6.JPG', './CLS/prediction/ichibi/ichibi_IMG_4443_2.JPG', './CLS/prediction/ichibi/ichibi_IMG_4170_12.JPG', './CLS/prediction/ichibi/ichibi_IMG_4860_7.JPG', './CLS/prediction/ichibi/ichibi_IMG_4190_9.JPG', './CLS/prediction/ichibi/ichibi_IMG_4167_9.JPG', './CLS/prediction/ichibi/ichibi_IMG_4166_12.JPG', './CLS/prediction/ichibi/ichibi_IMG_4167_5.JPG', './CLS/prediction/ichibi/ichibi_IMG_4191_8.JPG', './CLS/prediction/ichibi/ichibi_IMG_4166_6.JPG', './CLS/prediction/ichibi/ichibi_IMG_4189_5.JPG', './CLS/prediction/ichibi/ichibi_IMG_4167_2.JPG', './CLS/prediction/ichibi/ichibi_IMG_4336_9.JPG', './CLS/prediction/ichibi/ichibi_IMG_4189_7.JPG', './CLS/prediction/ichibi/ichibi_IMG_4446_7.JPG']\n",
            "(224, 224, 3)\n",
            "['./CLS/prediction/inubie/inubie_IMG_1772_10.JPG', './CLS/prediction/inubie/inubie_IMG_1719_2.JPG', './CLS/prediction/inubie/inubie_IMG_1660_6.JPG', './CLS/prediction/inubie/inubie_IMG_1505_24.JPG', './CLS/prediction/inubie/inubie_IMG_1730_12.JPG', './CLS/prediction/inubie/inubie_IMG_1517_5.JPG', './CLS/prediction/inubie/inubie_IMG_1502_11.JPG', './CLS/prediction/inubie/inubie_IMG_1563_2.JPG', './CLS/prediction/inubie/inubie_IMG_1602_13.JPG', './CLS/prediction/inubie/inubie_IMG_1730_4.JPG', './CLS/prediction/inubie/inubie_IMG_1539_12.JPG', './CLS/prediction/inubie/inubie_IMG_1539_14.JPG', './CLS/prediction/inubie/inubie_IMG_1537_13.JPG', './CLS/prediction/inubie/inubie_IMG_1620_8.JPG', './CLS/prediction/inubie/inubie_IMG_1639_3.JPG', './CLS/prediction/inubie/inubie_IMG_1741_11.JPG', './CLS/prediction/inubie/inubie_IMG_1505_18.JPG', './CLS/prediction/inubie/inubie_IMG_1505_28.JPG', './CLS/prediction/inubie/inubie_IMG_1563_8.JPG', './CLS/prediction/inubie/inubie_IMG_1741_6.JPG', './CLS/prediction/inubie/inubie_IMG_1579_10.JPG', './CLS/prediction/inubie/inubie_IMG_1730_1.JPG', './CLS/prediction/inubie/inubie_IMG_1502_4.JPG', './CLS/prediction/inubie/inubie_IMG_1504_31.JPG', './CLS/prediction/inubie/inubie_IMG_1517_16.JPG', './CLS/prediction/inubie/inubie_IMG_1539_4.JPG', './CLS/prediction/inubie/inubie_IMG_1639_2.JPG', './CLS/prediction/inubie/inubie_IMG_1580_7.JPG', './CLS/prediction/inubie/inubie_IMG_1606_7.JPG', './CLS/prediction/inubie/inubie_IMG_1718_1.JPG', './CLS/prediction/inubie/inubie_IMG_1580_4.JPG', './CLS/prediction/inubie/inubie_IMG_1516_13.JPG', './CLS/prediction/inubie/inubie_IMG_1602_2.JPG', './CLS/prediction/inubie/inubie_IMG_1719_5.JPG', './CLS/prediction/inubie/inubie_IMG_1638_8.JPG', './CLS/prediction/inubie/inubie_IMG_1619_9.JPG', './CLS/prediction/inubie/inubie_IMG_1538_11.JPG', './CLS/prediction/inubie/inubie_IMG_1505_8.JPG', './CLS/prediction/inubie/inubie_IMG_1606_1.JPG', './CLS/prediction/inubie/inubie_IMG_1587_4.JPG']\n",
            "(224, 224, 3)\n",
            "['./CLS/prediction/kosendangusa/kosendangusa_IMG_4413_13.JPG', './CLS/prediction/kosendangusa/kosendangusa_IMG_4356_10.JPG', './CLS/prediction/kosendangusa/kosendangusa_IMG_4343_10.JPG', './CLS/prediction/kosendangusa/kosendangusa_IMG_4415_2.JPG', './CLS/prediction/kosendangusa/kosendangusa_IMG_4341_15.JPG', './CLS/prediction/kosendangusa/kosendangusa_IMG_4269_22.JPG', './CLS/prediction/kosendangusa/kosendangusa_IMG_4411_9.JPG', './CLS/prediction/kosendangusa/kosendangusa_IMG_4874_1.JPG', './CLS/prediction/kosendangusa/kosendangusa_IMG_1523_4.JPG', './CLS/prediction/kosendangusa/kosendangusa_IMG_4453_5.JPG', './CLS/prediction/kosendangusa/kosendangusa_IMG_4457_9.JPG', './CLS/prediction/kosendangusa/kosendangusa_IMG_4868_8.JPG', './CLS/prediction/kosendangusa/kosendangusa_IMG_1522_36.JPG', './CLS/prediction/kosendangusa/kosendangusa_IMG_4172_5.JPG', './CLS/prediction/kosendangusa/kosendangusa_IMG_1545_4.JPG', './CLS/prediction/kosendangusa/kosendangusa_IMG_4459_3.JPG', './CLS/prediction/kosendangusa/kosendangusa_IMG_4460_6.JPG', './CLS/prediction/kosendangusa/kosendangusa_kosendangusa_22.JPG', './CLS/prediction/kosendangusa/kosendangusa_IMG_4174_8.JPG', './CLS/prediction/kosendangusa/kosendangusa_IMG_4454_5.JPG', './CLS/prediction/kosendangusa/kosendangusa_IMG_4351_13.JPG', './CLS/prediction/kosendangusa/kosendangusa_IMG_4273_13.JPG', './CLS/prediction/kosendangusa/kosendangusa_IMG_4172_20.JPG', './CLS/prediction/kosendangusa/kosendangusa_IMG_4415_3.JPG', './CLS/prediction/kosendangusa/kosendangusa_IMG_4173_18.JPG', './CLS/prediction/kosendangusa/kosendangusa_IMG_1523_8.JPG', './CLS/prediction/kosendangusa/kosendangusa_IMG_4876_1.JPG', './CLS/prediction/kosendangusa/kosendangusa_IMG_4173_2.JPG', './CLS/prediction/kosendangusa/kosendangusa_IMG_4454_3.JPG', './CLS/prediction/kosendangusa/kosendangusa_kosendangusa_27.JPG', './CLS/prediction/kosendangusa/kosendangusa_IMG_1510_27.JPG', './CLS/prediction/kosendangusa/kosendangusa_IMG_4172_22.JPG', './CLS/prediction/kosendangusa/kosendangusa_IMG_4266_25.JPG', './CLS/prediction/kosendangusa/kosendangusa_IMG_1650_3.JPG', './CLS/prediction/kosendangusa/kosendangusa_kosendangusa_31.JPG', './CLS/prediction/kosendangusa/kosendangusa_IMG_4172_3.JPG', './CLS/prediction/kosendangusa/kosendangusa_IMG_4454_4.JPG', './CLS/prediction/kosendangusa/kosendangusa_IMG_4172_23.JPG', './CLS/prediction/kosendangusa/kosendangusa_IMG_4460_4.JPG', './CLS/prediction/kosendangusa/kosendangusa_IMG_4268_5.JPG']\n",
            "(224, 224, 3)\n",
            "['./CLS/prediction/mameasagao/mameasagao_IMG_9678_4.JPG', './CLS/prediction/mameasagao/mameasagao_IMG_4390_1.JPG', './CLS/prediction/mameasagao/mameasagao_IMG_4851_5.JPG', './CLS/prediction/mameasagao/mameasagao_IMG_9681_1.JPG', './CLS/prediction/mameasagao/mameasagao_IMG_0004_5.JPG', './CLS/prediction/mameasagao/mameasagao_IMG_9947_4.JPG', './CLS/prediction/mameasagao/mameasagao_IMG_0003_5.JPG', './CLS/prediction/mameasagao/mameasagao_IMG_9948_5.JPG', './CLS/prediction/mameasagao/mameasagao_IMG_4433_9.JPG', './CLS/prediction/mameasagao/mameasagao_IMG_0008_4.JPG', './CLS/prediction/mameasagao/mameasagao_IMG_4207_3.JPG', './CLS/prediction/mameasagao/mameasagao_IMG_4246_5.JPG', './CLS/prediction/mameasagao/mameasagao_IMG_4278_4.JPG', './CLS/prediction/mameasagao/mameasagao_IMG_4315_5.JPG', './CLS/prediction/mameasagao/mameasagao_IMG_4279_4.JPG', './CLS/prediction/mameasagao/mameasagao_IMG_4186_3.JPG', './CLS/prediction/mameasagao/mameasagao_IMG_4431_3.JPG', './CLS/prediction/mameasagao/mameasagao_IMG_9947_5.JPG', './CLS/prediction/mameasagao/mameasagao_IMG_9675_1.JPG', './CLS/prediction/mameasagao/mameasagao_IMG_8957_3.JPG', './CLS/prediction/mameasagao/mameasagao_IMG_4430_4.JPG', './CLS/prediction/mameasagao/mameasagao_IMG_4179_4.JPG', './CLS/prediction/mameasagao/mameasagao_IMG_4396_5.JPG', './CLS/prediction/mameasagao/mameasagao_IMG_9674_3.JPG', './CLS/prediction/mameasagao/mameasagao_IMG_4322_2.JPG', './CLS/prediction/mameasagao/mameasagao_IMG_9950_2.JPG', './CLS/prediction/mameasagao/mameasagao_IMG_9227_1.JPG', './CLS/prediction/mameasagao/mameasagao_IMG_9952_4.JPG', './CLS/prediction/mameasagao/mameasagao_IMG_4186_5.JPG', './CLS/prediction/mameasagao/mameasagao_IMG_4248_4.JPG', './CLS/prediction/mameasagao/mameasagao_IMG_4434_9.JPG', './CLS/prediction/mameasagao/mameasagao_IMG_4251_5.JPG', './CLS/prediction/mameasagao/mameasagao_IMG_4435_5.JPG', './CLS/prediction/mameasagao/mameasagao_IMG_4216_3.JPG', './CLS/prediction/mameasagao/mameasagao_IMG_4216_4.JPG', './CLS/prediction/mameasagao/mameasagao_IMG_9681_2.JPG', './CLS/prediction/mameasagao/mameasagao_IMG_4284_4.JPG', './CLS/prediction/mameasagao/mameasagao_IMG_4217_2.JPG', './CLS/prediction/mameasagao/mameasagao_IMG_0005_4.JPG', './CLS/prediction/mameasagao/mameasagao_IMG_0002_4.JPG']\n",
            "(224, 224, 3)\n",
            "['./CLS/prediction/mehishiba/mehishiba_IMG_1716_11.JPG', './CLS/prediction/mehishiba/mehishiba_IMG_1728_4.JPG', './CLS/prediction/mehishiba/mehishiba_IMG_4890_5.JPG', './CLS/prediction/mehishiba/mehishiba_IMG_1599_5.JPG', './CLS/prediction/mehishiba/mehishiba_IMG_1578_14.JPG', './CLS/prediction/mehishiba/mehishiba_IMG_1577_9.JPG', './CLS/prediction/mehishiba/mehishiba_IMG_4891_2.JPG', './CLS/prediction/mehishiba/mehishiba_IMG_1599_40.JPG', './CLS/prediction/mehishiba/mehishiba_IMG_1578_4.JPG', './CLS/prediction/mehishiba/mehishiba_IMG_1577_13.JPG', './CLS/prediction/mehishiba/mehishiba_IMG_4890_10.JPG', './CLS/prediction/mehishiba/mehishiba_IMG_1599_11.JPG', './CLS/prediction/mehishiba/mehishiba_IMG_4898_12.JPG', './CLS/prediction/mehishiba/mehishiba_IMG_1726_4.JPG', './CLS/prediction/mehishiba/mehishiba_IMG_4478_8.JPG', './CLS/prediction/mehishiba/mehishiba_IMG_1600_24.JPG', './CLS/prediction/mehishiba/mehishiba_IMG_4888_1.JPG', './CLS/prediction/mehishiba/mehishiba_IMG_4478_9.JPG', './CLS/prediction/mehishiba/mehishiba_IMG_1725_12.JPG', './CLS/prediction/mehishiba/mehishiba_IMG_4479_11.JPG', './CLS/prediction/mehishiba/mehishiba_IMG_1656_20.JPG', './CLS/prediction/mehishiba/mehishiba_IMG_1796_12.JPG', './CLS/prediction/mehishiba/mehishiba_IMG_1558_2.JPG', './CLS/prediction/mehishiba/mehishiba_IMG_1797_1.JPG', './CLS/prediction/mehishiba/mehishiba_IMG_1599_28.JPG', './CLS/prediction/mehishiba/mehishiba_IMG_1655_13.JPG', './CLS/prediction/mehishiba/mehishiba_IMG_1558_24.JPG', './CLS/prediction/mehishiba/mehishiba_IMG_1796_2.JPG', './CLS/prediction/mehishiba/mehishiba_IMG_1656_29.JPG', './CLS/prediction/mehishiba/mehishiba_IMG_1558_10.JPG', './CLS/prediction/mehishiba/mehishiba_IMG_1656_22.JPG', './CLS/prediction/mehishiba/mehishiba_IMG_1578_3.JPG', './CLS/prediction/mehishiba/mehishiba_IMG_1796_7.JPG', './CLS/prediction/mehishiba/mehishiba_IMG_4894_1.JPG', './CLS/prediction/mehishiba/mehishiba_IMG_1716_5.JPG', './CLS/prediction/mehishiba/mehishiba_IMG_1621_38.JPG', './CLS/prediction/mehishiba/mehishiba_IMG_4897_1.JPG', './CLS/prediction/mehishiba/mehishiba_IMG_1530_21.JPG', './CLS/prediction/mehishiba/mehishiba_IMG_4895_1.JPG', './CLS/prediction/mehishiba/mehishiba_IMG_1529_41.JPG']\n",
            "(224, 224, 3)\n",
            "['./CLS/prediction/ohishiba/ohishiba_IMG_1636_6.JPG', './CLS/prediction/ohishiba/ohishiba_IMG_1674_10.JPG', './CLS/prediction/ohishiba/ohishiba_IMG_1584_27.JPG', './CLS/prediction/ohishiba/ohishiba_IMG_1731_1.JPG', './CLS/prediction/ohishiba/ohishiba_IMG_1604_4.JPG', './CLS/prediction/ohishiba/ohishiba_IMG_1514_3.JPG', './CLS/prediction/ohishiba/ohishiba_IMG_1560_32.JPG', './CLS/prediction/ohishiba/ohishiba_IMG_1499_8.JPG', './CLS/prediction/ohishiba/ohishiba_IMG_1500_31.JPG', './CLS/prediction/ohishiba/ohishiba_IMG_1658_28.JPG', './CLS/prediction/ohishiba/ohishiba_IMG_1499_29.JPG', './CLS/prediction/ohishiba/ohishiba_IMG_1636_13.JPG', './CLS/prediction/ohishiba/ohishiba_IMG_1801_15.JPG', './CLS/prediction/ohishiba/ohishiba_IMG_1814_3.JPG', './CLS/prediction/ohishiba/ohishiba_IMG_1514_37.JPG', './CLS/prediction/ohishiba/ohishiba_IMG_1636_12.JPG', './CLS/prediction/ohishiba/ohishiba_IMG_1675_26.JPG', './CLS/prediction/ohishiba/ohishiba_IMG_1514_26.JPG', './CLS/prediction/ohishiba/ohishiba_IMG_1603_19.JPG', './CLS/prediction/ohishiba/ohishiba_IMG_1559_11.JPG', './CLS/prediction/ohishiba/ohishiba_IMG_1731_9.JPG', './CLS/prediction/ohishiba/ohishiba_IMG_1514_15.JPG', './CLS/prediction/ohishiba/ohishiba_IMG_1499_1.JPG', './CLS/prediction/ohishiba/ohishiba_IMG_1636_9.JPG', './CLS/prediction/ohishiba/ohishiba_IMG_1536_23.JPG', './CLS/prediction/ohishiba/ohishiba_IMG_1514_5.JPG', './CLS/prediction/ohishiba/ohishiba_IMG_1802_9.JPG', './CLS/prediction/ohishiba/ohishiba_IMG_1560_30.JPG', './CLS/prediction/ohishiba/ohishiba_IMG_1813_11.JPG', './CLS/prediction/ohishiba/ohishiba_IMG_1636_10.JPG', './CLS/prediction/ohishiba/ohishiba_IMG_1585_27.JPG', './CLS/prediction/ohishiba/ohishiba_IMG_1500_20.JPG', './CLS/prediction/ohishiba/ohishiba_IMG_1536_41.JPG', './CLS/prediction/ohishiba/ohishiba_IMG_1536_38.JPG', './CLS/prediction/ohishiba/ohishiba_IMG_1636_27.JPG', './CLS/prediction/ohishiba/ohishiba_IMG_1743_7.JPG', './CLS/prediction/ohishiba/ohishiba_IMG_1674_9.JPG', './CLS/prediction/ohishiba/ohishiba_IMG_1637_23.JPG', './CLS/prediction/ohishiba/ohishiba_IMG_1584_14.JPG', './CLS/prediction/ohishiba/ohishiba_IMG_1675_6.JPG']\n",
            "(224, 224, 3)\n",
            "['./CLS/prediction/oinutade/oinutade_IMG_1540_44.JPG', './CLS/prediction/oinutade/oinutade_IMG_1565_14.JPG', './CLS/prediction/oinutade/oinutade_IMG_1588_48.JPG', './CLS/prediction/oinutade/oinutade_IMG_1540_58.JPG', './CLS/prediction/oinutade/oinutade_IMG_1540_40.JPG', './CLS/prediction/oinutade/oinutade_IMG_1566_30.JPG', './CLS/prediction/oinutade/oinutade_IMG_1541_65.JPG', './CLS/prediction/oinutade/oinutade_IMG_1519_16.JPG', './CLS/prediction/oinutade/oinutade_IMG_1567_28.JPG', './CLS/prediction/oinutade/oinutade_IMG_1641_2.JPG', './CLS/prediction/oinutade/oinutade_IMG_1566_10.JPG', './CLS/prediction/oinutade/oinutade_IMG_1506_27.JPG', './CLS/prediction/oinutade/oinutade_IMG_1508_4.JPG', './CLS/prediction/oinutade/oinutade_IMG_1564_26.JPG', './CLS/prediction/oinutade/oinutade_IMG_1507_43.JPG', './CLS/prediction/oinutade/oinutade_IMG_1564_52.JPG', './CLS/prediction/oinutade/oinutade_IMG_1564_37.JPG', './CLS/prediction/oinutade/oinutade_IMG_1519_33.JPG', './CLS/prediction/oinutade/oinutade_IMG_1568_10.JPG', './CLS/prediction/oinutade/oinutade_IMG_1565_25.JPG', './CLS/prediction/oinutade/oinutade_IMG_1588_17.JPG', './CLS/prediction/oinutade/oinutade_IMG_1519_41.JPG', './CLS/prediction/oinutade/oinutade_IMG_1567_23.JPG', './CLS/prediction/oinutade/oinutade_IMG_1568_48.JPG', './CLS/prediction/oinutade/oinutade_IMG_1506_16.JPG', './CLS/prediction/oinutade/oinutade_IMG_1518_1.JPG', './CLS/prediction/oinutade/oinutade_IMG_1506_15.JPG', './CLS/prediction/oinutade/oinutade_IMG_1589_5.JPG', './CLS/prediction/oinutade/oinutade_IMG_1588_2.JPG', './CLS/prediction/oinutade/oinutade_IMG_1507_40.JPG', './CLS/prediction/oinutade/oinutade_IMG_1565_31.JPG', './CLS/prediction/oinutade/oinutade_IMG_1540_48.JPG', './CLS/prediction/oinutade/oinutade_IMG_1507_34.JPG', './CLS/prediction/oinutade/oinutade_IMG_1565_17.JPG', './CLS/prediction/oinutade/oinutade_IMG_1506_7.JPG', './CLS/prediction/oinutade/oinutade_IMG_1507_1.JPG', './CLS/prediction/oinutade/oinutade_IMG_1541_54.JPG', './CLS/prediction/oinutade/oinutade_IMG_1507_36.JPG', './CLS/prediction/oinutade/oinutade_IMG_1507_7.JPG', './CLS/prediction/oinutade/oinutade_IMG_1566_33.JPG']\n",
            "(224, 224, 3)\n",
            "['./CLS/prediction/shiroza/shiroza_IMG_1642_17.JPG', './CLS/prediction/shiroza/shiroza_IMG_1642_18.JPG', './CLS/prediction/shiroza/shiroza_IMG_1520_5.JPG', './CLS/prediction/shiroza/shiroza_IMG_1611_28.JPG', './CLS/prediction/shiroza/shiroza_IMG_1542_20.JPG', './CLS/prediction/shiroza/shiroza_IMG_1610_35.JPG', './CLS/prediction/shiroza/shiroza_IMG_1663_29.JPG', './CLS/prediction/shiroza/shiroza_IMG_1590_8.JPG', './CLS/prediction/shiroza/shiroza_IMG_1591_26.JPG', './CLS/prediction/shiroza/shiroza_IMG_1520_23.JPG', './CLS/prediction/shiroza/shiroza_IMG_1664_12.JPG', './CLS/prediction/shiroza/shiroza_IMG_1590_34.JPG', './CLS/prediction/shiroza/shiroza_IMG_1663_15.JPG', './CLS/prediction/shiroza/shiroza_IMG_1663_13.JPG', './CLS/prediction/shiroza/shiroza_IMG_1520_17.JPG', './CLS/prediction/shiroza/shiroza_IMG_1521_1.JPG', './CLS/prediction/shiroza/shiroza_IMG_1569_18.JPG', './CLS/prediction/shiroza/shiroza_IMG_1663_23.JPG', './CLS/prediction/shiroza/shiroza_IMG_1542_2.JPG', './CLS/prediction/shiroza/shiroza_IMG_1520_2.JPG', './CLS/prediction/shiroza/shiroza_IMG_1611_8.JPG', './CLS/prediction/shiroza/shiroza_IMG_1570_29.JPG', './CLS/prediction/shiroza/shiroza_IMG_1591_18.JPG', './CLS/prediction/shiroza/shiroza_IMG_1521_24.JPG', './CLS/prediction/shiroza/shiroza_IMG_1520_39.JPG', './CLS/prediction/shiroza/shiroza_IMG_1569_8.JPG', './CLS/prediction/shiroza/shiroza_IMG_1520_25.JPG', './CLS/prediction/shiroza/shiroza_IMG_1591_36.JPG', './CLS/prediction/shiroza/shiroza_IMG_1542_4.JPG', './CLS/prediction/shiroza/shiroza_IMG_1591_3.JPG', './CLS/prediction/shiroza/shiroza_IMG_1521_12.JPG', './CLS/prediction/shiroza/shiroza_IMG_1543_6.JPG', './CLS/prediction/shiroza/shiroza_IMG_1643_20.JPG', './CLS/prediction/shiroza/shiroza_IMG_1670_8.JPG', './CLS/prediction/shiroza/shiroza_IMG_1663_9.JPG', './CLS/prediction/shiroza/shiroza_IMG_1591_24.JPG', './CLS/prediction/shiroza/shiroza_IMG_1611_22.JPG', './CLS/prediction/shiroza/shiroza_IMG_1520_11.JPG', './CLS/prediction/shiroza/shiroza_IMG_1543_18.JPG', './CLS/prediction/shiroza/shiroza_IMG_1610_19.JPG']\n",
            "(224, 224, 3)\n"
          ],
          "name": "stdout"
        }
      ]
    },
    {
      "cell_type": "code",
      "metadata": {
        "id": "SGZMSUefz-C5",
        "colab_type": "code",
        "colab": {}
      },
      "source": [
        "from sklearn.metrics import confusion_matrix\n",
        "import itertools\n",
        "\n",
        "def plot_confusion_matrix(cm, classes,\n",
        "                          normalize=False,\n",
        "                          title='Confusion matrix',\n",
        "                          cmap=plt.cm.Blues):\n",
        "    \"\"\"\n",
        "    This function prints and plots the confusion matrix.\n",
        "    Normalization can be applied by setting `normalize=True`.\n",
        "    \"\"\"\n",
        "    if normalize:\n",
        "        cm = cm.astype('float') / cm.sum(axis=1)[:, np.newaxis]\n",
        "        print(\"Normalized confusion matrix\")\n",
        "    else:\n",
        "        print('Confusion matrix, without normalization')\n",
        "\n",
        "    # print(cm)\n",
        "\n",
        "    plt.imshow(cm, interpolation='nearest', cmap=cmap)\n",
        "    plt.title(title)\n",
        "    plt.colorbar()\n",
        "    tick_marks = np.arange(len(classes))\n",
        "    plt.xticks(tick_marks, classes, rotation=-90)\n",
        "    plt.yticks(tick_marks, classes)\n",
        "\n",
        "    fmt = '.2f' if normalize else 'd'\n",
        "    thresh = cm.max() / 2.\n",
        "    for i, j in itertools.product(range(cm.shape[0]), range(cm.shape[1])):\n",
        "        plt.text(j, i, format(cm[i, j], fmt),\n",
        "                 horizontalalignment=\"center\",\n",
        "                 color=\"white\" if cm[i, j] > thresh else \"black\")\n",
        "\n",
        "    plt.tight_layout()\n",
        "    plt.ylabel('True label')\n",
        "    plt.xlabel('Predicted label')\n",
        "\n"
      ],
      "execution_count": 0,
      "outputs": []
    },
    {
      "cell_type": "markdown",
      "metadata": {
        "id": "HVEpU5mMEEOi",
        "colab_type": "text"
      },
      "source": [
        "・保存したweightファイルをロードしてpredictionを行います"
      ]
    },
    {
      "cell_type": "code",
      "metadata": {
        "id": "-Ry5e6uAo9Hw",
        "colab_type": "code",
        "colab": {}
      },
      "source": [
        "def sin_predict():\n",
        "    \n",
        "    X_test, y_test = X_test1, y_test1\n",
        "    X_test = X_test / 255.0\n",
        "    y_test_label = np.ravel(y_test)\n",
        "    y_test = to_categorical(y_test)\n",
        "\n",
        "    train_model = create_cnn()\n",
        "    train_model.compile(optimizer=Adam(lr=1e-5),loss='categorical_crossentropy',metrics=['accuracy'])\n",
        "\n",
        "    # 最良のモデルの読み込み\n",
        "    train_model.load_weights(f\"weights.hdf5\")\n",
        "    for layer in train_model.layers:\n",
        "        layer.trainable = False\n",
        "\n",
        "    # 単体の推論\n",
        "    single_preds = np.argmax(train_model.predict(X_test), axis=-1)\n",
        "\n",
        "    # 推論のスコア\n",
        "    test_acc = accuracy_score(y_test, to_categorical(single_preds))\n",
        "    \n",
        "\n",
        "    print(\"推論の結果は\", test_acc, \"です\")\n",
        "    \n",
        "    target_names = [\"hakidamegiku\",\"hosoaogeitou\",\"ichibi\",\"inubie\",\"kosendangusa\",\"mameasagao\",\"mehishiba\",\"ohishiba\",\"oinutade\",\"shiroza\"]\n",
        "    cm = confusion_matrix(y_test_label, single_preds)\n",
        "    plot_confusion_matrix(cm, classes = target_names) \n",
        "    # print('Classification Report')\n",
        "    # print(classification_report(y_test_label, single_preds, target_names=target_names))\n"
      ],
      "execution_count": 0,
      "outputs": []
    },
    {
      "cell_type": "markdown",
      "metadata": {
        "id": "PkJ-M4D1ZJ4a",
        "colab_type": "text"
      },
      "source": [
        "・推論を実行します"
      ]
    },
    {
      "cell_type": "code",
      "metadata": {
        "id": "5pMpwvF7qMTt",
        "colab_type": "code",
        "outputId": "99d742b2-5f4c-4671-a62d-c8c980469d8a",
        "colab": {
          "base_uri": "https://localhost:8080/",
          "height": 345
        }
      },
      "source": [
        "# 推論\n",
        "sin_predict()"
      ],
      "execution_count": 36,
      "outputs": [
        {
          "output_type": "stream",
          "text": [
            "推論の結果は 0.8575 です\n",
            "Confusion matrix, without normalization\n"
          ],
          "name": "stdout"
        },
        {
          "output_type": "display_data",
          "data": {
            "image/png": "[encoded data removed]",
            "text/plain": [
              "<Figure size 432x288 with 2 Axes>"
            ]
          },
          "metadata": {
            "tags": [],
            "needs_background": "light"
          }
        }
      ]
    },
    {
      "cell_type": "markdown",
      "metadata": {
        "id": "b340YPV35B--",
        "colab_type": "text"
      },
      "source": [
        "### ■任意の写真を推論します"
      ]
    },
    {
      "cell_type": "markdown",
      "metadata": {
        "id": "343MbhcH5lUv",
        "colab_type": "text"
      },
      "source": [
        "・1枚の画像を推論する関数を定義します"
      ]
    },
    {
      "cell_type": "code",
      "metadata": {
        "colab_type": "code",
        "id": "YTKPufr6xSGa",
        "colab": {}
      },
      "source": [
        "def result_predict(path):\n",
        "    prediction_classes = [\"hakidamegiku\",\"hosoaogeitou\",\"ichibi\",\"inubie\",\"kosendangusa\",\"mameasagao\",\"mehishiba\",\"ohishiba\",\"oinutade\",\"shiroza\"]\n",
        "\n",
        "    train_model = create_cnn()\n",
        "    train_model.compile(optimizer=Adam(lr=1e-5),loss='categorical_crossentropy',metrics=['accuracy'])\n",
        "\n",
        "    # 最良のモデルの読み込み\n",
        "    train_model.load_weights(f\"weights.hdf5\")\n",
        "    for layer in train_model.layers:\n",
        "        layer.trainable = False  \n",
        "    \n",
        "    X_test = []\n",
        "    image_size = 224\n",
        "    image = Image.open(path)\n",
        "    image = image.convert(\"RGB\")\n",
        "    image = image.resize((image_size, image_size))\n",
        "    data = np.asarray(image)\n",
        "    X_test.append(data)\n",
        "    X_test = np.array(X_test)\n",
        "    result = np.argmax(train_model.predict(X_test), axis=-1)\n",
        "    print(\"雑草の種類は\", prediction_classes[result[0]], \"です\")\n"
      ],
      "execution_count": 0,
      "outputs": []
    },
    {
      "cell_type": "markdown",
      "metadata": {
        "id": "4gLtWRQr5Z_m",
        "colab_type": "text"
      },
      "source": [
        "任意の写真のpathを設定します"
      ]
    },
    {
      "cell_type": "code",
      "metadata": {
        "id": "xMTohBSJyDMc",
        "colab_type": "code",
        "outputId": "9d1a9fd6-f53b-4a8b-f16e-6200bdcb1e59",
        "colab": {
          "base_uri": "https://localhost:8080/",
          "height": 34
        }
      },
      "source": [
        "image_dir = \"./CLS/prediction/ichibi/ichibi_IMG_4164_1.JPG\"\n",
        "result_predict(image_dir)"
      ],
      "execution_count": 0,
      "outputs": [
        {
          "output_type": "stream",
          "text": [
            "雑草の種類は ichibi です\n"
          ],
          "name": "stdout"
        }
      ]
    },
    {
      "cell_type": "code",
      "metadata": {
        "id": "mS1SRlaQtvNW",
        "colab_type": "code",
        "colab": {}
      },
      "source": [
        "from sklearn.metrics import classification_report, confusion_matrix\n",
        "\n",
        "print(confusion_matrix(validation_generator.classes, y_pred))"
      ],
      "execution_count": 0,
      "outputs": []
    }
  ]
}
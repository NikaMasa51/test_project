{
  "nbformat": 4,
  "nbformat_minor": 0,
  "metadata": {
    "colab": {
      "name": "weed_training_01",
      "provenance": [],
      "collapsed_sections": []
    },
    "kernelspec": {
      "name": "python3",
      "display_name": "Python 3"
    },
    "accelerator": "GPU"
  },
  "cells": [
    {
      "cell_type": "markdown",
      "metadata": {
        "id": "op_4dXNe5oEV",
        "colab_type": "text"
      },
      "source": [
        "# 雑草の生育期間を区別せずに分類器を作る（10種類）\n",
        "　雑草の生育期間（芽生え・生育済み）を区別せずに分類器を作成します。 育成した雑草の種類はハキダメギク、ホソアオゲイトウ、イチビ、イヌビエ、コセンダングサ、マメアサガオ、メヒシバ、オヒシバ、オイヌタデ、シロザの10種類です"
      ]
    },
    {
      "cell_type": "markdown",
      "metadata": {
        "id": "NCQh_T0zLntu",
        "colab_type": "text"
      },
      "source": [
        "### ■データのダウンロード"
      ]
    },
    {
      "cell_type": "markdown",
      "metadata": {
        "id": "0jdbMuOmSpjy",
        "colab_type": "text"
      },
      "source": [
        "・cluster.zipをダウンロードします。"
      ]
    },
    {
      "cell_type": "code",
      "metadata": {
        "id": "dkXy31etIQpT",
        "colab_type": "code",
        "colab": {}
      },
      "source": [
        "#グーグルドライブからファイルをダウンロードする方法\n",
        "#ファイル限定\n",
        "\n",
        "import requests\n",
        "\n",
        "def download_file_from_google_drive(id, destination):\n",
        "\n",
        "    URL = \"https://docs.google.com/uc?export=download\"\n",
        "\n",
        "    session = requests.Session()\n",
        "\n",
        "    response = session.get(URL, params = { 'id' : id }, stream = True)\n",
        "\n",
        "    token = get_confirm_token(response)\n",
        "\n",
        "    if token:\n",
        "\n",
        "        params = { 'id' : id, 'confirm' : token }\n",
        "\n",
        "        response = session.get(URL, params = params, stream = True)\n",
        "\n",
        "    save_response_content(response, destination)    \n",
        "\n",
        "def get_confirm_token(response):\n",
        "\n",
        "    for key, value in response.cookies.items():\n",
        "\n",
        "        if key.startswith('download_warning'):\n",
        "\n",
        "            return value\n",
        "\n",
        "    return None\n",
        "\n",
        "def save_response_content(response, destination):\n",
        "\n",
        "    CHUNK_SIZE = 32768\n",
        "\n",
        "    with open(destination, \"wb\") as f:\n",
        "\n",
        "        for chunk in response.iter_content(CHUNK_SIZE):\n",
        "\n",
        "            if chunk: # filter out keep-alive new chunks\n",
        "\n",
        "                f.write(chunk)\n",
        "\n",
        "#取得されるトークン\n",
        "file_id = '1XillhpofzGUFJwQ_CvXpsWDuWT0lp2-w'\n",
        "\n",
        "#欲しいフォルダ名\n",
        "destination = 'cluster.zip'\n",
        "\n",
        "download_file_from_google_drive(file_id, destination)\n",
        "\n"
      ],
      "execution_count": 0,
      "outputs": []
    },
    {
      "cell_type": "markdown",
      "metadata": {
        "id": "fKmeWPABPKpp",
        "colab_type": "text"
      },
      "source": [
        "・cluster.zipを解凍します。"
      ]
    },
    {
      "cell_type": "code",
      "metadata": {
        "id": "CAC7SLKpJqEl",
        "colab_type": "code",
        "colab": {}
      },
      "source": [
        "!unzip cluster\n",
        "print(\"clusterファイルの解凍が完了しました。\")"
      ],
      "execution_count": 0,
      "outputs": []
    },
    {
      "cell_type": "markdown",
      "metadata": {
        "id": "PzF0mQNICl6x",
        "colab_type": "text"
      },
      "source": [
        "### ■データセットの作成"
      ]
    },
    {
      "cell_type": "markdown",
      "metadata": {
        "id": "13kgHJHOTLy9",
        "colab_type": "text"
      },
      "source": [
        "・train、validation、prediction用のディレクトリを作成し、class用のディレクトリを追加します"
      ]
    },
    {
      "cell_type": "code",
      "metadata": {
        "id": "3zsW_yV4blgv",
        "colab_type": "code",
        "colab": {
          "base_uri": "https://localhost:8080/",
          "height": 34
        },
        "outputId": "8b4c2d69-82e7-407a-b09d-a5041506acda"
      },
      "source": [
        "import os, shutil\n",
        "\n",
        "# CLSディレクトリを作成します\n",
        "base_dir = \"./CLS\"\n",
        "if \"CLS\" not in os.listdir(\"./\"):\n",
        "  os.mkdir(base_dir)\n",
        "else:\n",
        "  print(base_dir, \"は既に存在します\")\n",
        "\n",
        "# train用ディレクトリを作成します\n",
        "train_index = \"train\"\n",
        "train_dir = os.path.join(base_dir, train_index)\n",
        "if train_index not in os.listdir(base_dir):\n",
        "  os.mkdir(train_dir)\n",
        "else:\n",
        "  print(train_dir + \"は既に存在します\")\n",
        "\n",
        "# validation用ディレクトリを作成します\n",
        "validation_index = \"validation\"\n",
        "validation_dir = os.path.join(base_dir, validation_index)\n",
        "if validation_index not in os.listdir(base_dir):\n",
        "  os.mkdir(validation_dir)\n",
        "else:\n",
        "  print(validation_dir + \"は既に存在します\")\n",
        "\n",
        "# prediction用ディレクトリを作成します\n",
        "prediction_index = \"prediction\"\n",
        "prediction_dir = os.path.join(base_dir, prediction_index)\n",
        "if prediction_index not in os.listdir(base_dir):\n",
        "  os.mkdir(prediction_dir)\n",
        "else:\n",
        "  print(prediction_dir + \"は既に存在します\")\n",
        "\n",
        "#class用ディレクトリを作成します\n",
        "classes=[\"hakidamegiku\",\"hosoaogeitou\",\"ichibi\",\n",
        "         \"inubie\",\"kosendangusa\",\"mameasagao\",\n",
        "         \"mehishiba\",\"ohishiba\",\"oinutade\",\"shiroza\",]\n",
        "dirs = os.listdir(base_dir)\n",
        "for dir in dirs:\n",
        "  for cls in classes:\n",
        "    # Directory with our training pictures\n",
        "    class_dir = os.path.join(base_dir, dir, cls)\n",
        "    if cls not in os.listdir(base_dir + \"/\" + dir):\n",
        "      os.mkdir(class_dir)\n",
        "    else:\n",
        "      print(class_dir, \"は既に存在します\")\n",
        "\n",
        "print(\"作成完了！\")"
      ],
      "execution_count": 3,
      "outputs": [
        {
          "output_type": "stream",
          "text": [
            "作成完了！\n"
          ],
          "name": "stdout"
        }
      ]
    },
    {
      "cell_type": "markdown",
      "metadata": {
        "id": "8CPwpwvHcAOZ",
        "colab_type": "text"
      },
      "source": [
        "・画像をディレクトリに振り分けます。"
      ]
    },
    {
      "cell_type": "code",
      "metadata": {
        "colab_type": "code",
        "id": "06Htjh2XbM50",
        "colab": {}
      },
      "source": [
        "from os.path import join\n",
        "import random\n",
        "\n",
        "clsdir = \"./cluster\"\n",
        "base_dir = \"./CLS\"\n",
        "dirs = os.listdir(base_dir)\n",
        "weed_types = [\"sprout\",\"grown\"]\n",
        "weed_names = os.listdir(clsdir)\n",
        "# ファイル（クラスごとに分かれている）を順番に読み取り\n",
        "# train, validationデータを作成\n",
        "for weed_name in weed_names:\n",
        "  for weed_type in weed_types: \n",
        "    print(weed_name, \"/\",weed_type)\n",
        "    # 画像をランダムに抽出\n",
        "    file_names = os.listdir(os.path.join(clsdir, weed_name, weed_type))\n",
        "    files100 = random.sample(file_names, int(100))\n",
        "    num1 = 0\n",
        "    num2 = 0\n",
        "    for file_name in file_names:\n",
        "      if  file_name in files100:\n",
        "        if num1 >= 90:\n",
        "          continue\n",
        "        # 移動元のファイル\n",
        "        path1 = os.path.join(clsdir, weed_name, weed_type, file_name)\n",
        "        # 移動先のファイル\n",
        "        path2= os.path.join(base_dir, \"train\", weed_name, file_name)\n",
        "        # ファイルを移動\n",
        "        new_path = shutil.move(path1, path2)\n",
        "        # ファイルの存在確認\n",
        "        print(os.path.exists(path2))\n",
        "        num1 = num1 + 1\n",
        "      else:\n",
        "        if num2 >= 90:\n",
        "          continue \n",
        "        # 移動元のファイル\n",
        "        path1 = os.path.join(clsdir, weed_name, weed_type, file_name)\n",
        "        # 移動先のファイル\n",
        "        path2= os.path.join(base_dir, \"validation\", weed_name, file_name)\n",
        "        # ファイルを移動\n",
        "        new_path = shutil.move(path1, path2)\n",
        "        # ファイルの存在確認\n",
        "        print(os.path.exists(path2))\n",
        "        num2 = num2 + 1\n",
        "\n",
        "# predictionデータを作成\n",
        "for weed_name in weed_names:\n",
        "  for weed_type in weed_types:\n",
        "    print(weed_name, \"/\",weed_type)\n",
        "    file_names = os.listdir(os.path.join(clsdir, weed_name, weed_type))\n",
        "    for file_name in file_names:      \n",
        "      # 移動元のファイル\n",
        "      path1 = os.path.join(clsdir, weed_name, weed_type, file_name)\n",
        "      # 移動先のファイル\n",
        "      path2= os.path.join(base_dir, \"prediction\", weed_name, file_name)\n",
        "      # ファイルを移動\n",
        "      new_path = shutil.move(path1, path2)\n",
        "      # ファイルの存在確認\n",
        "      print(os.path.exists(path2))\n"
      ],
      "execution_count": 0,
      "outputs": []
    },
    {
      "cell_type": "markdown",
      "metadata": {
        "id": "89zSPJPufnsz",
        "colab_type": "text"
      },
      "source": [
        "・trainデータ、validationデータ、predictionデータのgeneratorを作成します"
      ]
    },
    {
      "cell_type": "code",
      "metadata": {
        "colab_type": "code",
        "outputId": "65a372f7-ede3-4ff6-ae29-7023b8511f19",
        "id": "ork4z7VlHv5T",
        "colab": {
          "base_uri": "https://localhost:8080/",
          "height": 102
        }
      },
      "source": [
        "import os \n",
        "import numpy as np\n",
        "from keras.preprocessing.image import ImageDataGenerator\n",
        "import keras.preprocessing.image as Image\n",
        "\n",
        "input_size = 224\n",
        "\n",
        "train_dir = \"./CLS/train\"\n",
        "validation_dir = \"./CLS/validation\"\n",
        "prediction_dir = \"./CLS/prediction\"\n",
        "\n",
        "\n",
        "train_datagen = Image.ImageDataGenerator(\n",
        "            featurewise_center = False,\n",
        "            samplewise_center = False,\n",
        "            featurewise_std_normalization = False,\n",
        "            samplewise_std_normalization = False,\n",
        "            zca_whitening = False,\n",
        "            rotation_range = 90,\n",
        "            width_shift_range = 0.3,\n",
        "            height_shift_range = 0.3,\n",
        "            horizontal_flip = True,\n",
        "            vertical_flip = False,\n",
        "            rescale=1./255\n",
        "        )\n",
        "\n",
        "val_datagen = Image.ImageDataGenerator(rescale=1./255)\n",
        "\n",
        "\n",
        "\n",
        "train_generator = train_datagen.flow_from_directory(\n",
        "            train_dir,\n",
        "            target_size=(input_size,input_size),\n",
        "            batch_size=10,\n",
        "            class_mode='categorical'\n",
        "        )\n",
        "\n",
        "validation_generator = val_datagen.flow_from_directory(\n",
        "            validation_dir,\n",
        "            target_size=(input_size,input_size),\n",
        "            batch_size=10,\n",
        "            class_mode='categorical'\n",
        "        )\n",
        "\n",
        "\n",
        "prediction_generator = val_datagen.flow_from_directory(\n",
        "            prediction_dir,\n",
        "            target_size=(input_size,input_size),\n",
        "            batch_size=10,\n",
        "            class_mode='categorical'\n",
        "        )\n",
        "print(\"データセット作成が完了しました\")"
      ],
      "execution_count": 5,
      "outputs": [
        {
          "output_type": "stream",
          "text": [
            "Using TensorFlow backend.\n"
          ],
          "name": "stderr"
        },
        {
          "output_type": "stream",
          "text": [
            "Found 1800 images belonging to 10 classes.\n",
            "Found 1800 images belonging to 10 classes.\n",
            "Found 400 images belonging to 10 classes.\n",
            "データセット作成が完了しました\n"
          ],
          "name": "stdout"
        }
      ]
    },
    {
      "cell_type": "markdown",
      "metadata": {
        "id": "SnbD3y_Zh7Pg",
        "colab_type": "text"
      },
      "source": [
        "### ■トレーニングの実行"
      ]
    },
    {
      "cell_type": "markdown",
      "metadata": {
        "id": "cR5MXYEeWvGq",
        "colab_type": "text"
      },
      "source": [
        "・モデルのレイヤー構成を定義します"
      ]
    },
    {
      "cell_type": "code",
      "metadata": {
        "id": "5dq94WdxULw9",
        "colab_type": "code",
        "colab": {}
      },
      "source": [
        "\n",
        "#ファインチューニング+VGG+水増し。ここから実行してOK（VGG16をダウンロード）\n",
        "from keras import models\n",
        "from keras import layers\n",
        "from keras.optimizers import Adam\n",
        "from keras.layers import Dense, Dropout, Activation, Flatten\n",
        "from keras.applications import VGG16\n",
        "import tensorflow as tf\n",
        "import tensorflow.keras.backend as K\n",
        "from tensorflow.keras.callbacks import History, Callback\n",
        "from keras.objectives import categorical_crossentropy\n",
        "import numpy as np\n",
        "from sklearn.metrics import confusion_matrix, accuracy_score\n",
        "from keras.utils import to_categorical\n",
        "from scipy.stats import mode\n",
        "import os, pickle\n",
        "\n",
        "\n",
        "def create_cnn():\n",
        "  input_size=224\n",
        "  #input_sizeは224,224までOK。\n",
        "\n",
        "  vgg_conv = VGG16(weights='imagenet', include_top=False, input_shape=(input_size,input_size, 3))\n",
        "  last = vgg_conv.output\n",
        "\n",
        "  vgg_conv.trainable = True\n",
        "\n",
        "  set_trainable = False\n",
        "  for layer in vgg_conv.layers:\n",
        "    if layer.name == 'block5_conv1':\n",
        "      set_trainable = True\n",
        "    if set_trainable:\n",
        "      layer.trainable = True\n",
        "    else:\n",
        "      layer.trainable = False\n",
        "\n",
        "  mod = Flatten()(last)\n",
        "  mod = Dense(256, activation='relu')(mod)\n",
        "  #mod = Dropout(0.5)(mod)\n",
        "  preds = Dense(10, activation='softmax')(mod)\n",
        "\n",
        "  model = models.Model(vgg_conv.input, preds)\n",
        "\n",
        "  return model\n"
      ],
      "execution_count": 0,
      "outputs": []
    },
    {
      "cell_type": "markdown",
      "metadata": {
        "id": "vMCP246j39AB",
        "colab_type": "text"
      },
      "source": [
        "・チェックポイントを定義します(val lossが一番低い値の時にweightファイルを保存)"
      ]
    },
    {
      "cell_type": "code",
      "metadata": {
        "id": "Sa68Qz4p3_Ov",
        "colab_type": "code",
        "colab": {}
      },
      "source": [
        "class Checkpoint(Callback):\n",
        "    def __init__(self, model, filepath):\n",
        "        self.model = model\n",
        "        self.filepath = filepath\n",
        "        self.best_val_acc = 0.0\n",
        "        self.best_val_loss = 0.5\n",
        "\n",
        "    def on_epoch_end(self, epoch, logs):\n",
        "        # val_lossが最小の時ににweightを保存する\n",
        "        if self.best_val_loss > logs[\"val_loss\"]:\n",
        "            self.model.save_weights(self.filepath)\n",
        "            self.best_val_loss = logs[\"val_loss\"]\n",
        "            print(\"Weights saved.\", self.best_val_loss)"
      ],
      "execution_count": 0,
      "outputs": []
    },
    {
      "cell_type": "markdown",
      "metadata": {
        "id": "3-DwQxyRfdxG",
        "colab_type": "text"
      },
      "source": [
        "・学習の実行手順を定義します"
      ]
    },
    {
      "cell_type": "code",
      "metadata": {
        "id": "dLkWD57CZJEX",
        "colab_type": "code",
        "colab": {}
      },
      "source": [
        "def train():\n",
        "    print(\"学習を開始します\")\n",
        "    hist = History()\n",
        "    train_model = create_cnn()\n",
        "    train_model.compile(optimizer=Adam(lr=1e-5),loss='categorical_crossentropy',metrics=['accuracy'])\n",
        "    cp = Checkpoint(train_model, f\"weights.hdf5\")\n",
        "    train_model.fit_generator(train_generator,epochs=10,validation_data=validation_generator,callbacks=[hist, cp])      \n",
        "    print(\"学習が完了しました\")\n",
        "    return hist.history\n"
      ],
      "execution_count": 0,
      "outputs": []
    },
    {
      "cell_type": "markdown",
      "metadata": {
        "id": "MjCJKxdZXbbK",
        "colab_type": "text"
      },
      "source": [
        "・学習を開始します"
      ]
    },
    {
      "cell_type": "code",
      "metadata": {
        "id": "fqaVKLXZgiEZ",
        "colab_type": "code",
        "outputId": "86fc637b-ded9-4886-a6b8-cd442bc9db82",
        "colab": {
          "base_uri": "https://localhost:8080/",
          "height": 476
        }
      },
      "source": [
        "K.clear_session()\n",
        "hist = train()"
      ],
      "execution_count": 9,
      "outputs": [
        {
          "output_type": "stream",
          "text": [
            "学習を開始します\n",
            "Downloading data from https://github.com/fchollet/deep-learning-models/releases/download/v0.1/vgg16_weights_tf_dim_ordering_tf_kernels_notop.h5\n",
            "58892288/58889256 [==============================] - 2s 0us/step\n",
            "Epoch 1/10\n",
            "180/180 [==============================] - 37s 206ms/step - loss: 1.9205 - accuracy: 0.3094 - val_loss: 1.8403 - val_accuracy: 0.5128\n",
            "Epoch 2/10\n",
            "180/180 [==============================] - 30s 167ms/step - loss: 1.2311 - accuracy: 0.5517 - val_loss: 0.7492 - val_accuracy: 0.6539\n",
            "Epoch 3/10\n",
            "180/180 [==============================] - 30s 166ms/step - loss: 0.9394 - accuracy: 0.6511 - val_loss: 0.1976 - val_accuracy: 0.7117\n",
            "Weights saved. 0.19764374196529388\n",
            "Epoch 4/10\n",
            "180/180 [==============================] - 30s 167ms/step - loss: 0.7641 - accuracy: 0.7228 - val_loss: 0.3448 - val_accuracy: 0.7767\n",
            "Epoch 5/10\n",
            "180/180 [==============================] - 30s 165ms/step - loss: 0.6493 - accuracy: 0.7772 - val_loss: 0.6829 - val_accuracy: 0.8122\n",
            "Epoch 6/10\n",
            "180/180 [==============================] - 30s 166ms/step - loss: 0.5428 - accuracy: 0.8006 - val_loss: 0.4218 - val_accuracy: 0.8267\n",
            "Epoch 7/10\n",
            "180/180 [==============================] - 30s 168ms/step - loss: 0.5212 - accuracy: 0.8217 - val_loss: 0.2943 - val_accuracy: 0.8478\n",
            "Epoch 8/10\n",
            "180/180 [==============================] - 30s 167ms/step - loss: 0.4629 - accuracy: 0.8383 - val_loss: 0.1965 - val_accuracy: 0.8500\n",
            "Weights saved. 0.19646339118480682\n",
            "Epoch 9/10\n",
            "180/180 [==============================] - 30s 169ms/step - loss: 0.4286 - accuracy: 0.8472 - val_loss: 0.1178 - val_accuracy: 0.8522\n",
            "Weights saved. 0.11780053377151489\n",
            "Epoch 10/10\n",
            "180/180 [==============================] - 30s 168ms/step - loss: 0.4231 - accuracy: 0.8528 - val_loss: 0.9816 - val_accuracy: 0.8539\n",
            "学習が完了しました\n"
          ],
          "name": "stdout"
        }
      ]
    },
    {
      "cell_type": "markdown",
      "metadata": {
        "id": "HXMQMfNufvlL",
        "colab_type": "text"
      },
      "source": [
        "### ■正解率と損失率をグラフ化"
      ]
    },
    {
      "cell_type": "markdown",
      "metadata": {
        "id": "oP7_j_XPZY6m",
        "colab_type": "text"
      },
      "source": [
        "・trainの正解率と損失率、validationの正解率と損失率をグラフ化します"
      ]
    },
    {
      "cell_type": "code",
      "metadata": {
        "id": "Tik0x-QsZKtC",
        "colab_type": "code",
        "outputId": "2e2ee530-8c4d-4853-bf37-38306397dd3a",
        "colab": {
          "base_uri": "https://localhost:8080/",
          "height": 545
        }
      },
      "source": [
        "import matplotlib.pyplot as plt\n",
        "\n",
        "history = hist\n",
        "\n",
        "acc=history['accuracy']\n",
        "val_acc=history['val_accuracy']\n",
        "loss=history['loss']\n",
        "val_loss=history['val_loss']\n",
        "\n",
        "epochs=range(1,len(acc)+1)\n",
        "\n",
        "#正解率plot\n",
        "plt.plot(epochs,acc,'bo',label='Training acc')\n",
        "plt.plot(epochs,val_acc,'b',label='Validation acc')\n",
        "plt.title('Training and validation accuracy')\n",
        "plt.legend()\n",
        "\n",
        "plt.figure()\n",
        "\n",
        "\n",
        "#損失値をplot\n",
        "plt.plot(epochs,loss,'bo',label='Training loss')\n",
        "plt.plot(epochs,val_loss,'b',label='Validation loss')\n",
        "plt.title('Training and validation loss')\n",
        "plt.legend()\n",
        "\n",
        "plt.show()\n"
      ],
      "execution_count": 10,
      "outputs": [
        {
          "output_type": "display_data",
          "data": {
            "image/png": "[encoded data removed]",
            "text/plain": [
              "<Figure size 432x288 with 1 Axes>"
            ]
          },
          "metadata": {
            "tags": [],
            "needs_background": "light"
          }
        },
        {
          "output_type": "display_data",
          "data": {
            "image/png": "[encoded data removed]",
            "text/plain": [
              "<Figure size 432x288 with 1 Axes>"
            ]
          },
          "metadata": {
            "tags": [],
            "needs_background": "light"
          }
        }
      ]
    },
    {
      "cell_type": "markdown",
      "metadata": {
        "id": "8KRPYAVR_9Zn",
        "colab_type": "text"
      },
      "source": [
        "### ■推論"
      ]
    },
    {
      "cell_type": "markdown",
      "metadata": {
        "id": "HVEpU5mMEEOi",
        "colab_type": "text"
      },
      "source": [
        "・保存したweightファイルをロードしてpredictionを行います"
      ]
    },
    {
      "cell_type": "code",
      "metadata": {
        "id": "CQnGMJZWvtLn",
        "colab_type": "code",
        "colab": {
          "base_uri": "https://localhost:8080/",
          "height": 51
        },
        "outputId": "6c43a102-33b7-4b46-99a6-fdb7aae9a405"
      },
      "source": [
        "import numpy as np\n",
        "\n",
        "print(len(prediction_generator[0][0][9][0][0]))\n",
        "print(prediction_generator[0][0][9][0][0])"
      ],
      "execution_count": 71,
      "outputs": [
        {
          "output_type": "stream",
          "text": [
            "3\n",
            "[0.5058824  0.39607847 0.24313727]\n"
          ],
          "name": "stdout"
        }
      ]
    },
    {
      "cell_type": "code",
      "metadata": {
        "id": "VNZBgLlClER7",
        "colab_type": "code",
        "colab": {
          "base_uri": "https://localhost:8080/",
          "height": 207
        },
        "outputId": "4dd65546-15b3-4069-e9be-c99d5cabaa24"
      },
      "source": [
        "from PIL import Image\n",
        "import os, glob\n",
        "import numpy as np\n",
        "from PIL import ImageFile\n",
        "\n",
        "ImageFile.LOAD_TRUNCATED_IMAGES =True\n",
        "\n",
        "prediction_dir = \"./CLS/prediction\"\n",
        "prediction_classes = os.listdir(prediction_dir)\n",
        "image_size = 224\n",
        "num_testdata = 100\n",
        "\n",
        "X_test = []\n",
        "y_test = []\n",
        "for index, classlabel in enumerate(prediction_classes):\n",
        "    photos_dir = os.path.join(prediction_dir, classlabel)\n",
        "    files = glob.glob(photos_dir + \"/*.JPG\")\n",
        "    print(files)\n",
        "    for i, file in enumerate(files):\n",
        "        image = Image.open(file)\n",
        "        image = image.convert(\"RGB\")\n",
        "        image = image.resize((image_size, image_size))\n",
        "        data = np.asarray(image)\n",
        "        X_test.append(data)\n",
        "        y_test.append(index)\n",
        "\n",
        "X_test1 = np.array(X_test)\n",
        "y_test1 = np.array(y_test)"
      ],
      "execution_count": 103,
      "outputs": [
        {
          "output_type": "stream",
          "text": [
            "['./CLS/prediction/ichibi/ichibi_IMG_4194_3.JPG', './CLS/prediction/ichibi/ichibi_IMG_4334_4.JPG', './CLS/prediction/ichibi/ichibi_IMG_4866_7.JPG', './CLS/prediction/ichibi/ichibi_IMG_4188_4.JPG', './CLS/prediction/ichibi/ichibi_IMG_4194_2.JPG', './CLS/prediction/ichibi/ichibi_IMG_4337_3.JPG', './CLS/prediction/ichibi/ichibi_IMG_4449_8.JPG', './CLS/prediction/ichibi/ichibi_IMG_4170_7.JPG', './CLS/prediction/ichibi/ichibi_IMG_4164_1.JPG', './CLS/prediction/ichibi/ichibi_IMG_4446_1.JPG', './CLS/prediction/ichibi/ichibi_IMG_4451_6.JPG', './CLS/prediction/ichibi/ichibi_IMG_4194_11.JPG', './CLS/prediction/ichibi/ichibi_IMG_4333_3.JPG', './CLS/prediction/ichibi/ichibi_IMG_4188_5.JPG', './CLS/prediction/ichibi/ichibi_IMG_4196_12.JPG', './CLS/prediction/ichibi/ichibi_IMG_4451_1.JPG', './CLS/prediction/ichibi/ichibi_IMG_4169_7.JPG', './CLS/prediction/ichibi/ichibi_IMG_4191_4.JPG', './CLS/prediction/ichibi/ichibi_IMG_4859_9.JPG', './CLS/prediction/ichibi/ichibi_IMG_4206_6.JPG', './CLS/prediction/ichibi/ichibi_IMG_4169_1.JPG', './CLS/prediction/ichibi/ichibi_IMG_4331_6.JPG', './CLS/prediction/ichibi/ichibi_IMG_4334_6.JPG', './CLS/prediction/ichibi/ichibi_IMG_4446_6.JPG', './CLS/prediction/ichibi/ichibi_IMG_4189_5.JPG', './CLS/prediction/ichibi/ichibi_IMG_4194_10.JPG', './CLS/prediction/ichibi/ichibi_IMG_4168_5.JPG', './CLS/prediction/ichibi/ichibi_IMG_4206_2.JPG', './CLS/prediction/ichibi/ichibi_IMG_4445_2.JPG', './CLS/prediction/ichibi/ichibi_IMG_4401_6.JPG', './CLS/prediction/ichibi/ichibi_IMG_4189_8.JPG', './CLS/prediction/ichibi/ichibi_IMG_4196_10.JPG', './CLS/prediction/ichibi/ichibi_IMG_4861_1.JPG', './CLS/prediction/ichibi/ichibi_IMG_4336_9.JPG', './CLS/prediction/ichibi/ichibi_IMG_4193_2.JPG', './CLS/prediction/ichibi/ichibi_IMG_4335_1.JPG', './CLS/prediction/ichibi/ichibi_IMG_4449_3.JPG', './CLS/prediction/ichibi/ichibi_IMG_4860_5.JPG', './CLS/prediction/ichibi/ichibi_IMG_4193_5.JPG', './CLS/prediction/ichibi/ichibi_IMG_4405_8.JPG']\n",
            "['./CLS/prediction/ohishiba/ohishiba_IMG_1561_22.JPG', './CLS/prediction/ohishiba/ohishiba_IMG_1658_8.JPG', './CLS/prediction/ohishiba/ohishiba_IMG_1499_17.JPG', './CLS/prediction/ohishiba/ohishiba_IMG_1675_27.JPG', './CLS/prediction/ohishiba/ohishiba_IMG_1514_30.JPG', './CLS/prediction/ohishiba/ohishiba_IMG_1603_19.JPG', './CLS/prediction/ohishiba/ohishiba_IMG_1499_23.JPG', './CLS/prediction/ohishiba/ohishiba_IMG_1584_18.JPG', './CLS/prediction/ohishiba/ohishiba_IMG_1560_16.JPG', './CLS/prediction/ohishiba/ohishiba_IMG_1743_1.JPG', './CLS/prediction/ohishiba/ohishiba_IMG_1732_7.JPG', './CLS/prediction/ohishiba/ohishiba_IMG_1560_32.JPG', './CLS/prediction/ohishiba/ohishiba_IMG_1585_22.JPG', './CLS/prediction/ohishiba/ohishiba_IMG_1731_12.JPG', './CLS/prediction/ohishiba/ohishiba_IMG_1776_15.JPG', './CLS/prediction/ohishiba/ohishiba_IMG_1559_7.JPG', './CLS/prediction/ohishiba/ohishiba_IMG_1515_42.JPG', './CLS/prediction/ohishiba/ohishiba_IMG_1603_11.JPG', './CLS/prediction/ohishiba/ohishiba_IMG_1514_14.JPG', './CLS/prediction/ohishiba/ohishiba_IMG_1499_30.JPG', './CLS/prediction/ohishiba/ohishiba_IMG_1559_18.JPG', './CLS/prediction/ohishiba/ohishiba_IMG_1515_12.JPG', './CLS/prediction/ohishiba/ohishiba_IMG_1788_11.JPG', './CLS/prediction/ohishiba/ohishiba_IMG_1515_15.JPG', './CLS/prediction/ohishiba/ohishiba_IMG_1536_43.JPG', './CLS/prediction/ohishiba/ohishiba_IMG_1637_1.JPG', './CLS/prediction/ohishiba/ohishiba_IMG_1514_13.JPG', './CLS/prediction/ohishiba/ohishiba_IMG_1584_29.JPG', './CLS/prediction/ohishiba/ohishiba_IMG_1743_3.JPG', './CLS/prediction/ohishiba/ohishiba_IMG_1675_6.JPG', './CLS/prediction/ohishiba/ohishiba_IMG_1636_10.JPG', './CLS/prediction/ohishiba/ohishiba_IMG_1584_13.JPG', './CLS/prediction/ohishiba/ohishiba_IMG_1603_13.JPG', './CLS/prediction/ohishiba/ohishiba_IMG_1514_31.JPG', './CLS/prediction/ohishiba/ohishiba_IMG_1536_17.JPG', './CLS/prediction/ohishiba/ohishiba_IMG_1636_21.JPG', './CLS/prediction/ohishiba/ohishiba_IMG_1604_13.JPG', './CLS/prediction/ohishiba/ohishiba_IMG_1802_7.JPG', './CLS/prediction/ohishiba/ohishiba_IMG_1584_12.JPG', './CLS/prediction/ohishiba/ohishiba_IMG_1499_4.JPG']\n",
            "['./CLS/prediction/hakidamegiku/hakidamegiku_IMG_1652_5.JPG', './CLS/prediction/hakidamegiku/hakidamegiku_IMG_4466_5.JPG', './CLS/prediction/hakidamegiku/hakidamegiku_IMG_4886_4.JPG', './CLS/prediction/hakidamegiku/hakidamegiku_IMG_1629_15.JPG', './CLS/prediction/hakidamegiku/hakidamegiku_IMG_4364_1.JPG', './CLS/prediction/hakidamegiku/hakidamegiku_IMG_4465_4.JPG', './CLS/prediction/hakidamegiku/hakidamegiku_IMG_1524_9.JPG', './CLS/prediction/hakidamegiku/hakidamegiku_IMG_1630_10.JPG', './CLS/prediction/hakidamegiku/hakidamegiku_IMG_4881_4.JPG', './CLS/prediction/hakidamegiku/hakidamegiku_IMG_1630_2.JPG', './CLS/prediction/hakidamegiku/hakidamegiku_IMG_1652_1.JPG', './CLS/prediction/hakidamegiku/hakidamegiku_IMG_1630_8.JPG', './CLS/prediction/hakidamegiku/hakidamegiku_IMG_1652_12.JPG', './CLS/prediction/hakidamegiku/hakidamegiku_IMG_4471_4.JPG', './CLS/prediction/hakidamegiku/hakidamegiku_IMG_4882_4.JPG', './CLS/prediction/hakidamegiku/hakidamegiku_IMG_1525_18.JPG', './CLS/prediction/hakidamegiku/hakidamegiku_IMG_1630_4.JPG', './CLS/prediction/hakidamegiku/hakidamegiku_IMG_1808_4.JPG', './CLS/prediction/hakidamegiku/hakidamegiku_IMG_1794_12.JPG', './CLS/prediction/hakidamegiku/hakidamegiku_IMG_1524_12.JPG', './CLS/prediction/hakidamegiku/hakidamegiku_IMG_4886_5.JPG', './CLS/prediction/hakidamegiku/hakidamegiku_IMG_1573_9.JPG', './CLS/prediction/hakidamegiku/hakidamegiku_IMG_1546_7.JPG', './CLS/prediction/hakidamegiku/hakidamegiku_IMG_1573_13.JPG', './CLS/prediction/hakidamegiku/hakidamegiku_IMG_1546_13.JPG', './CLS/prediction/hakidamegiku/hakidamegiku_IMG_1546_16.JPG', './CLS/prediction/hakidamegiku/hakidamegiku_IMG_1524_13.JPG', './CLS/prediction/hakidamegiku/hakidamegiku_IMG_1786_11.JPG', './CLS/prediction/hakidamegiku/hakidamegiku_IMG_1524_2.JPG', './CLS/prediction/hakidamegiku/hakidamegiku_IMG_1546_15.JPG', './CLS/prediction/hakidamegiku/hakidamegiku_IMG_1596_3.JPG', './CLS/prediction/hakidamegiku/hakidamegiku_IMG_1652_2.JPG', './CLS/prediction/hakidamegiku/hakidamegiku_IMG_1596_1.JPG', './CLS/prediction/hakidamegiku/hakidamegiku_IMG_4887_5.JPG', './CLS/prediction/hakidamegiku/hakidamegiku_IMG_4464_3.JPG', './CLS/prediction/hakidamegiku/hakidamegiku_IMG_4464_4.JPG', './CLS/prediction/hakidamegiku/hakidamegiku_IMG_4465_3.JPG', './CLS/prediction/hakidamegiku/hakidamegiku_IMG_1524_16.JPG', './CLS/prediction/hakidamegiku/hakidamegiku_IMG_1573_3.JPG', './CLS/prediction/hakidamegiku/hakidamegiku_IMG_1794_1.JPG']\n",
            "['./CLS/prediction/hosoaogeitou/hosoaogeitou_IMG_1632_9.JPG', './CLS/prediction/hosoaogeitou/hosoaogeitou_IMG_1653_19.JPG', './CLS/prediction/hosoaogeitou/hosoaogeitou_IMG_1781_8.JPG', './CLS/prediction/hosoaogeitou/hosoaogeitou_IMG_1653_7.JPG', './CLS/prediction/hosoaogeitou/hosoaogeitou_IMG_1800_3.JPG', './CLS/prediction/hosoaogeitou/hosoaogeitou_IMG_1526_10.JPG', './CLS/prediction/hosoaogeitou/hosoaogeitou_IMG_1548_33.JPG', './CLS/prediction/hosoaogeitou/hosoaogeitou_IMG_1654_14.JPG', './CLS/prediction/hosoaogeitou/hosoaogeitou_IMG_1799_12.JPG', './CLS/prediction/hosoaogeitou/hosoaogeitou_IMG_1800_6.JPG', './CLS/prediction/hosoaogeitou/hosoaogeitou_IMG_1597_35.JPG', './CLS/prediction/hosoaogeitou/hosoaogeitou_IMG_1799_1.JPG', './CLS/prediction/hosoaogeitou/hosoaogeitou_IMG_1781_12.JPG', './CLS/prediction/hosoaogeitou/hosoaogeitou_IMG_1812_12.JPG', './CLS/prediction/hosoaogeitou/hosoaogeitou_IMG_1526_2.JPG', './CLS/prediction/hosoaogeitou/hosoaogeitou_IMG_1616_19.JPG', './CLS/prediction/hosoaogeitou/hosoaogeitou_IMG_1654_6.JPG', './CLS/prediction/hosoaogeitou/hosoaogeitou_IMG_1616_15.JPG', './CLS/prediction/hosoaogeitou/hosoaogeitou_IMG_1653_3.JPG', './CLS/prediction/hosoaogeitou/hosoaogeitou_IMG_1527_23.JPG', './CLS/prediction/hosoaogeitou/hosoaogeitou_IMG_1768_3.JPG', './CLS/prediction/hosoaogeitou/hosoaogeitou_IMG_1632_22.JPG', './CLS/prediction/hosoaogeitou/hosoaogeitou_IMG_1799_3.JPG', './CLS/prediction/hosoaogeitou/hosoaogeitou_IMG_1616_23.JPG', './CLS/prediction/hosoaogeitou/hosoaogeitou_IMG_1549_7.JPG', './CLS/prediction/hosoaogeitou/hosoaogeitou_IMG_1575_1.JPG', './CLS/prediction/hosoaogeitou/hosoaogeitou_IMG_1631_7.JPG', './CLS/prediction/hosoaogeitou/hosoaogeitou_IMG_1632_10.JPG', './CLS/prediction/hosoaogeitou/hosoaogeitou_IMG_1616_16.JPG', './CLS/prediction/hosoaogeitou/hosoaogeitou_IMG_1548_6.JPG', './CLS/prediction/hosoaogeitou/hosoaogeitou_IMG_1800_13.JPG', './CLS/prediction/hosoaogeitou/hosoaogeitou_IMG_1632_27.JPG', './CLS/prediction/hosoaogeitou/hosoaogeitou_IMG_1575_39.JPG', './CLS/prediction/hosoaogeitou/hosoaogeitou_IMG_1616_22.JPG', './CLS/prediction/hosoaogeitou/hosoaogeitou_IMG_1576_22.JPG', './CLS/prediction/hosoaogeitou/hosoaogeitou_IMG_1526_28.JPG', './CLS/prediction/hosoaogeitou/hosoaogeitou_IMG_1576_2.JPG', './CLS/prediction/hosoaogeitou/hosoaogeitou_IMG_1798_2.JPG', './CLS/prediction/hosoaogeitou/hosoaogeitou_IMG_1616_7.JPG', './CLS/prediction/hosoaogeitou/hosoaogeitou_IMG_1597_3.JPG']\n",
            "['./CLS/prediction/inubie/inubie_IMG_1719_8.JPG', './CLS/prediction/inubie/inubie_IMG_1729_5.JPG', './CLS/prediction/inubie/inubie_IMG_1741_2.JPG', './CLS/prediction/inubie/inubie_IMG_1605_7.JPG', './CLS/prediction/inubie/inubie_IMG_1516_2.JPG', './CLS/prediction/inubie/inubie_IMG_1718_5.JPG', './CLS/prediction/inubie/inubie_IMG_1537_2.JPG', './CLS/prediction/inubie/inubie_IMG_1539_9.JPG', './CLS/prediction/inubie/inubie_IMG_1502_13.JPG', './CLS/prediction/inubie/inubie_IMG_1730_7.JPG', './CLS/prediction/inubie/inubie_IMG_1580_6.JPG', './CLS/prediction/inubie/inubie_IMG_1740_1.JPG', './CLS/prediction/inubie/inubie_inubie_20.JPG', './CLS/prediction/inubie/inubie_IMG_1516_15.JPG', './CLS/prediction/inubie/inubie_IMG_1504_21.JPG', './CLS/prediction/inubie/inubie_IMG_1580_12.JPG', './CLS/prediction/inubie/inubie_IMG_1740_11.JPG', './CLS/prediction/inubie/inubie_IMG_1579_12.JPG', './CLS/prediction/inubie/inubie_IMG_1505_24.JPG', './CLS/prediction/inubie/inubie_IMG_1505_9.JPG', './CLS/prediction/inubie/inubie_IMG_1718_8.JPG', './CLS/prediction/inubie/inubie_IMG_1539_16.JPG', './CLS/prediction/inubie/inubie_IMG_1602_5.JPG', './CLS/prediction/inubie/inubie_IMG_1730_12.JPG', './CLS/prediction/inubie/inubie_IMG_1601_11.JPG', './CLS/prediction/inubie/inubie_IMG_1502_18.JPG', './CLS/prediction/inubie/inubie_IMG_1504_18.JPG', './CLS/prediction/inubie/inubie_IMG_1741_7.JPG', './CLS/prediction/inubie/inubie_IMG_1562_9.JPG', './CLS/prediction/inubie/inubie_IMG_1563_2.JPG', './CLS/prediction/inubie/inubie_IMG_1730_8.JPG', './CLS/prediction/inubie/inubie_IMG_1505_32.JPG', './CLS/prediction/inubie/inubie_IMG_1562_10.JPG', './CLS/prediction/inubie/inubie_IMG_1605_3.JPG', './CLS/prediction/inubie/inubie_IMG_1539_4.JPG', './CLS/prediction/inubie/inubie_IMG_1517_12.JPG', './CLS/prediction/inubie/inubie_IMG_1502_24.JPG', './CLS/prediction/inubie/inubie_IMG_1771_6.JPG', './CLS/prediction/inubie/inubie_inubie_13.JPG', './CLS/prediction/inubie/inubie_IMG_1602_10.JPG']\n",
            "['./CLS/prediction/kosendangusa/kosendangusa_IMG_4868_2.JPG', './CLS/prediction/kosendangusa/kosendangusa_kosendangusa_10.JPG', './CLS/prediction/kosendangusa/kosendangusa_IMG_4461_1.JPG', './CLS/prediction/kosendangusa/kosendangusa_IMG_4457_6.JPG', './CLS/prediction/kosendangusa/kosendangusa_IMG_4268_14.JPG', './CLS/prediction/kosendangusa/kosendangusa_IMG_1572_24.JPG', './CLS/prediction/kosendangusa/kosendangusa_IMG_4267_28.JPG', './CLS/prediction/kosendangusa/kosendangusa_IMG_4348_2.JPG', './CLS/prediction/kosendangusa/kosendangusa_IMG_4271_13.JPG', './CLS/prediction/kosendangusa/kosendangusa_IMG_4173_20.JPG', './CLS/prediction/kosendangusa/kosendangusa_IMG_1522_8.JPG', './CLS/prediction/kosendangusa/kosendangusa_IMG_4352_13.JPG', './CLS/prediction/kosendangusa/kosendangusa_IMG_1545_13.JPG', './CLS/prediction/kosendangusa/kosendangusa_IMG_1510_40.JPG', './CLS/prediction/kosendangusa/kosendangusa_IMG_4456_10.JPG', './CLS/prediction/kosendangusa/kosendangusa_IMG_4360_17.JPG', './CLS/prediction/kosendangusa/kosendangusa_IMG_4414_1.JPG', './CLS/prediction/kosendangusa/kosendangusa_IMG_4173_19.JPG', './CLS/prediction/kosendangusa/kosendangusa_IMG_1510_29.JPG', './CLS/prediction/kosendangusa/kosendangusa_IMG_4172_17.JPG', './CLS/prediction/kosendangusa/kosendangusa_IMG_4460_3.JPG', './CLS/prediction/kosendangusa/kosendangusa_IMG_1523_15.JPG', './CLS/prediction/kosendangusa/kosendangusa_IMG_1650_8.JPG', './CLS/prediction/kosendangusa/kosendangusa_IMG_4874_1.JPG', './CLS/prediction/kosendangusa/kosendangusa_IMG_4453_7.JPG', './CLS/prediction/kosendangusa/kosendangusa_IMG_4174_8.JPG', './CLS/prediction/kosendangusa/kosendangusa_IMG_4348_15.JPG', './CLS/prediction/kosendangusa/kosendangusa_IMG_4414_6.JPG', './CLS/prediction/kosendangusa/kosendangusa_IMG_1522_18.JPG', './CLS/prediction/kosendangusa/kosendangusa_IMG_1522_32.JPG', './CLS/prediction/kosendangusa/kosendangusa_IMG_4410_5.JPG', './CLS/prediction/kosendangusa/kosendangusa_IMG_4349_5.JPG', './CLS/prediction/kosendangusa/kosendangusa_IMG_4456_3.JPG', './CLS/prediction/kosendangusa/kosendangusa_IMG_4358_13.JPG', './CLS/prediction/kosendangusa/kosendangusa_IMG_1572_22.JPG', './CLS/prediction/kosendangusa/kosendangusa_IMG_4345_18.JPG', './CLS/prediction/kosendangusa/kosendangusa_IMG_1523_11.JPG', './CLS/prediction/kosendangusa/kosendangusa_kosendangusa_37.JPG', './CLS/prediction/kosendangusa/kosendangusa_IMG_1626_8.JPG', './CLS/prediction/kosendangusa/kosendangusa_IMG_4269_15.JPG']\n",
            "['./CLS/prediction/shiroza/shiroza_IMG_1520_19.JPG', './CLS/prediction/shiroza/shiroza_IMG_1542_37.JPG', './CLS/prediction/shiroza/shiroza_IMG_1542_39.JPG', './CLS/prediction/shiroza/shiroza_IMG_1610_29.JPG', './CLS/prediction/shiroza/shiroza_IMG_1611_24.JPG', './CLS/prediction/shiroza/shiroza_IMG_1521_1.JPG', './CLS/prediction/shiroza/shiroza_IMG_1663_15.JPG', './CLS/prediction/shiroza/shiroza_IMG_1664_18.JPG', './CLS/prediction/shiroza/shiroza_IMG_1642_17.JPG', './CLS/prediction/shiroza/shiroza_IMG_1670_6.JPG', './CLS/prediction/shiroza/shiroza_IMG_1610_3.JPG', './CLS/prediction/shiroza/shiroza_IMG_1570_36.JPG', './CLS/prediction/shiroza/shiroza_IMG_1520_25.JPG', './CLS/prediction/shiroza/shiroza_IMG_1663_24.JPG', './CLS/prediction/shiroza/shiroza_IMG_1542_8.JPG', './CLS/prediction/shiroza/shiroza_IMG_1590_5.JPG', './CLS/prediction/shiroza/shiroza_IMG_1671_29.JPG', './CLS/prediction/shiroza/shiroza_IMG_1643_21.JPG', './CLS/prediction/shiroza/shiroza_IMG_1643_4.JPG', './CLS/prediction/shiroza/shiroza_IMG_1521_26.JPG', './CLS/prediction/shiroza/shiroza_IMG_1643_24.JPG', './CLS/prediction/shiroza/shiroza_IMG_1521_38.JPG', './CLS/prediction/shiroza/shiroza_IMG_1610_25.JPG', './CLS/prediction/shiroza/shiroza_IMG_1611_17.JPG', './CLS/prediction/shiroza/shiroza_IMG_1591_12.JPG', './CLS/prediction/shiroza/shiroza_IMG_1590_32.JPG', './CLS/prediction/shiroza/shiroza_IMG_1520_34.JPG', './CLS/prediction/shiroza/shiroza_IMG_1520_37.JPG', './CLS/prediction/shiroza/shiroza_IMG_1610_21.JPG', './CLS/prediction/shiroza/shiroza_IMG_1642_3.JPG', './CLS/prediction/shiroza/shiroza_IMG_1663_29.JPG', './CLS/prediction/shiroza/shiroza_IMG_1610_26.JPG', './CLS/prediction/shiroza/shiroza_IMG_1569_35.JPG', './CLS/prediction/shiroza/shiroza_IMG_1590_30.JPG', './CLS/prediction/shiroza/shiroza_IMG_1611_26.JPG', './CLS/prediction/shiroza/shiroza_IMG_1664_28.JPG', './CLS/prediction/shiroza/shiroza_IMG_1670_16.JPG', './CLS/prediction/shiroza/shiroza_IMG_1610_32.JPG', './CLS/prediction/shiroza/shiroza_IMG_1542_31.JPG', './CLS/prediction/shiroza/shiroza_IMG_1642_30.JPG']\n",
            "['./CLS/prediction/oinutade/oinutade_IMG_1566_29.JPG', './CLS/prediction/oinutade/oinutade_IMG_1541_3.JPG', './CLS/prediction/oinutade/oinutade_IMG_1567_40.JPG', './CLS/prediction/oinutade/oinutade_IMG_1506_35.JPG', './CLS/prediction/oinutade/oinutade_IMG_1565_2.JPG', './CLS/prediction/oinutade/oinutade_IMG_1565_10.JPG', './CLS/prediction/oinutade/oinutade_IMG_1568_54.JPG', './CLS/prediction/oinutade/oinutade_IMG_1588_9.JPG', './CLS/prediction/oinutade/oinutade_IMG_1540_57.JPG', './CLS/prediction/oinutade/oinutade_IMG_1566_24.JPG', './CLS/prediction/oinutade/oinutade_IMG_1541_9.JPG', './CLS/prediction/oinutade/oinutade_IMG_1519_34.JPG', './CLS/prediction/oinutade/oinutade_IMG_1507_27.JPG', './CLS/prediction/oinutade/oinutade_IMG_1518_6.JPG', './CLS/prediction/oinutade/oinutade_IMG_1567_50.JPG', './CLS/prediction/oinutade/oinutade_IMG_1508_20.JPG', './CLS/prediction/oinutade/oinutade_IMG_1506_37.JPG', './CLS/prediction/oinutade/oinutade_IMG_1507_29.JPG', './CLS/prediction/oinutade/oinutade_IMG_1540_16.JPG', './CLS/prediction/oinutade/oinutade_IMG_1564_36.JPG', './CLS/prediction/oinutade/oinutade_IMG_1507_5.JPG', './CLS/prediction/oinutade/oinutade_IMG_1588_43.JPG', './CLS/prediction/oinutade/oinutade_IMG_1565_23.JPG', './CLS/prediction/oinutade/oinutade_IMG_1508_43.JPG', './CLS/prediction/oinutade/oinutade_IMG_1566_45.JPG', './CLS/prediction/oinutade/oinutade_IMG_1506_18.JPG', './CLS/prediction/oinutade/oinutade_IMG_1567_42.JPG', './CLS/prediction/oinutade/oinutade_IMG_1541_55.JPG', './CLS/prediction/oinutade/oinutade_IMG_1566_33.JPG', './CLS/prediction/oinutade/oinutade_IMG_1567_18.JPG', './CLS/prediction/oinutade/oinutade_IMG_1508_38.JPG', './CLS/prediction/oinutade/oinutade_IMG_1568_9.JPG', './CLS/prediction/oinutade/oinutade_IMG_1540_54.JPG', './CLS/prediction/oinutade/oinutade_IMG_1508_12.JPG', './CLS/prediction/oinutade/oinutade_IMG_1519_41.JPG', './CLS/prediction/oinutade/oinutade_IMG_1564_27.JPG', './CLS/prediction/oinutade/oinutade_IMG_1518_47.JPG', './CLS/prediction/oinutade/oinutade_IMG_1519_38.JPG', './CLS/prediction/oinutade/oinutade_IMG_1506_4.JPG', './CLS/prediction/oinutade/oinutade_IMG_1506_16.JPG']\n",
            "['./CLS/prediction/mameasagao/mameasagao_IMG_4432_5.JPG', './CLS/prediction/mameasagao/mameasagao_IMG_4250_3.JPG', './CLS/prediction/mameasagao/mameasagao_IMG_4183_1.JPG', './CLS/prediction/mameasagao/mameasagao_IMG_4210_2.JPG', './CLS/prediction/mameasagao/mameasagao_IMG_4436_4.JPG', './CLS/prediction/mameasagao/mameasagao_IMG_0001_4.JPG', './CLS/prediction/mameasagao/mameasagao_IMG_4276_5.JPG', './CLS/prediction/mameasagao/mameasagao_IMG_4389_11.JPG', './CLS/prediction/mameasagao/mameasagao_IMG_4185_2.JPG', './CLS/prediction/mameasagao/mameasagao_IMG_4251_3.JPG', './CLS/prediction/mameasagao/mameasagao_IMG_4439_13.JPG', './CLS/prediction/mameasagao/mameasagao_IMG_4433_3.JPG', './CLS/prediction/mameasagao/mameasagao_IMG_4394_8.JPG', './CLS/prediction/mameasagao/mameasagao_IMG_4852_6.JPG', './CLS/prediction/mameasagao/mameasagao_IMG_4433_4.JPG', './CLS/prediction/mameasagao/mameasagao_IMG_9224_1.JPG', './CLS/prediction/mameasagao/mameasagao_IMG_9679_1.JPG', './CLS/prediction/mameasagao/mameasagao_IMG_8960_3.JPG', './CLS/prediction/mameasagao/mameasagao_IMG_4386_10.JPG', './CLS/prediction/mameasagao/mameasagao_IMG_9222_1.JPG', './CLS/prediction/mameasagao/mameasagao_IMG_4433_9.JPG', './CLS/prediction/mameasagao/mameasagao_IMG_9947_5.JPG', './CLS/prediction/mameasagao/mameasagao_IMG_4397_11.JPG', './CLS/prediction/mameasagao/mameasagao_IMG_4855_1.JPG', './CLS/prediction/mameasagao/mameasagao_IMG_4214_2.JPG', './CLS/prediction/mameasagao/mameasagao_IMG_0001_3.JPG', './CLS/prediction/mameasagao/mameasagao_IMG_4216_2.JPG', './CLS/prediction/mameasagao/mameasagao_IMG_4435_6.JPG', './CLS/prediction/mameasagao/mameasagao_IMG_0002_5.JPG', './CLS/prediction/mameasagao/mameasagao_IMG_4396_5.JPG', './CLS/prediction/mameasagao/mameasagao_IMG_4437_3.JPG', './CLS/prediction/mameasagao/mameasagao_IMG_9947_4.JPG', './CLS/prediction/mameasagao/mameasagao_IMG_4435_5.JPG', './CLS/prediction/mameasagao/mameasagao_IMG_4321_6.JPG', './CLS/prediction/mameasagao/mameasagao_IMG_4388_5.JPG', './CLS/prediction/mameasagao/mameasagao_IMG_9221_1.JPG', './CLS/prediction/mameasagao/mameasagao_IMG_4179_2.JPG', './CLS/prediction/mameasagao/mameasagao_IMG_9950_2.JPG', './CLS/prediction/mameasagao/mameasagao_IMG_9675_1.JPG', './CLS/prediction/mameasagao/mameasagao_IMG_4250_4.JPG']\n",
            "['./CLS/prediction/mehishiba/mehishiba_IMG_4897_9.JPG', './CLS/prediction/mehishiba/mehishiba_IMG_1599_30.JPG', './CLS/prediction/mehishiba/mehishiba_IMG_1557_2.JPG', './CLS/prediction/mehishiba/mehishiba_IMG_1600_11.JPG', './CLS/prediction/mehishiba/mehishiba_IMG_1716_10.JPG', './CLS/prediction/mehishiba/mehishiba_IMG_1599_41.JPG', './CLS/prediction/mehishiba/mehishiba_IMG_1634_34.JPG', './CLS/prediction/mehishiba/mehishiba_IMG_1529_35.JPG', './CLS/prediction/mehishiba/mehishiba_IMG_4891_1.JPG', './CLS/prediction/mehishiba/mehishiba_IMG_4894_4.JPG', './CLS/prediction/mehishiba/mehishiba_IMG_4888_1.JPG', './CLS/prediction/mehishiba/mehishiba_IMG_4890_5.JPG', './CLS/prediction/mehishiba/mehishiba_IMG_1717_6.JPG', './CLS/prediction/mehishiba/mehishiba_IMG_1577_29.JPG', './CLS/prediction/mehishiba/mehishiba_IMG_1529_15.JPG', './CLS/prediction/mehishiba/mehishiba_IMG_1600_4.JPG', './CLS/prediction/mehishiba/mehishiba_IMG_1599_24.JPG', './CLS/prediction/mehishiba/mehishiba_IMG_1578_25.JPG', './CLS/prediction/mehishiba/mehishiba_IMG_1621_46.JPG', './CLS/prediction/mehishiba/mehishiba_IMG_4895_7.JPG', './CLS/prediction/mehishiba/mehishiba_IMG_1529_14.JPG', './CLS/prediction/mehishiba/mehishiba_IMG_1717_2.JPG', './CLS/prediction/mehishiba/mehishiba_IMG_1621_34.JPG', './CLS/prediction/mehishiba/mehishiba_IMG_1796_8.JPG', './CLS/prediction/mehishiba/mehishiba_IMG_1577_23.JPG', './CLS/prediction/mehishiba/mehishiba_IMG_1558_27.JPG', './CLS/prediction/mehishiba/mehishiba_IMG_1655_13.JPG', './CLS/prediction/mehishiba/mehishiba_IMG_1578_2.JPG', './CLS/prediction/mehishiba/mehishiba_IMG_1600_5.JPG', './CLS/prediction/mehishiba/mehishiba_IMG_1578_26.JPG', './CLS/prediction/mehishiba/mehishiba_IMG_1797_5.JPG', './CLS/prediction/mehishiba/mehishiba_IMG_1600_2.JPG', './CLS/prediction/mehishiba/mehishiba_IMG_4891_13.JPG', './CLS/prediction/mehishiba/mehishiba_IMG_4890_2.JPG', './CLS/prediction/mehishiba/mehishiba_IMG_4478_6.JPG', './CLS/prediction/mehishiba/mehishiba_IMG_1634_38.JPG', './CLS/prediction/mehishiba/mehishiba_IMG_1558_15.JPG', './CLS/prediction/mehishiba/mehishiba_IMG_1599_23.JPG', './CLS/prediction/mehishiba/mehishiba_IMG_1578_29.JPG', './CLS/prediction/mehishiba/mehishiba_IMG_4895_2.JPG']\n"
          ],
          "name": "stdout"
        }
      ]
    },
    {
      "cell_type": "code",
      "metadata": {
        "id": "1pmu1GFcImwJ",
        "colab_type": "code",
        "colab": {
          "base_uri": "https://localhost:8080/",
          "height": 34
        },
        "outputId": "8df3f365-c2f2-4f15-ec9b-19f20caa6f15"
      },
      "source": [
        "print(len(X_test1))"
      ],
      "execution_count": 45,
      "outputs": [
        {
          "output_type": "stream",
          "text": [
            "400\n"
          ],
          "name": "stdout"
        }
      ]
    },
    {
      "cell_type": "code",
      "metadata": {
        "id": "cUTG-6hMB-lp",
        "colab_type": "code",
        "colab": {
          "base_uri": "https://localhost:8080/",
          "height": 333
        },
        "outputId": "dd7d3d8e-34af-4997-c084-4c79e86103de"
      },
      "source": [
        "\n",
        "\n",
        "prediction_dir = \"./CLS/prediction\"\n",
        "datagen = ImageDataGenerator(rescale=1./255)\n",
        "\n",
        "def extract_features(directory, sample_count):\n",
        "    features = np.zeros(shape=(sample_count, 224, 224, 3))\n",
        "    labels = np.zeros(shape=(sample_count))\n",
        "    generator = datagen.flow_from_directory(\n",
        "            directory,\n",
        "            target_size=(224,224),\n",
        "            batch_size=10,\n",
        "            class_mode='categorical')\n",
        "\n",
        "    train_model = create_cnn()\n",
        "    train_model.compile(optimizer=Adam(lr=1e-5),loss='categorical_crossentropy',metrics=['accuracy'])\n",
        "    # 最良のモデルの読み込み\n",
        "    train_model.load_weights(f\"weights.hdf5\")\n",
        "    for layer in train_model.layers:\n",
        "        layer.trainable = False\n",
        "    \n",
        "    \n",
        "    i = 0\n",
        "    for inputs_batch, labels_batch in generator:\n",
        "        # features_batch = train_model.predict(inputs_batch)\n",
        "        features[i * batch_size : (i + 1) * batch_size] = inputs_batch\n",
        "        labels[i * batch_size : (i + 1) * batch_size] = labels_batch\n",
        "        i += 1\n",
        "        if i * batch_size >= sample_count:\n",
        "            break\n",
        "    return features, labels\n",
        "\n",
        "X_test2, y_test2 = extract_features(prediction_dir, 400)"
      ],
      "execution_count": 101,
      "outputs": [
        {
          "output_type": "stream",
          "text": [
            "Found 400 images belonging to 10 classes.\n"
          ],
          "name": "stdout"
        },
        {
          "output_type": "error",
          "ename": "ValueError",
          "evalue": "ignored",
          "traceback": [
            "\u001b[0;31m---------------------------------------------------------------------------\u001b[0m",
            "\u001b[0;31mValueError\u001b[0m                                Traceback (most recent call last)",
            "\u001b[0;32m<ipython-input-101-329cf2795dcb>\u001b[0m in \u001b[0;36m<module>\u001b[0;34m()\u001b[0m\n\u001b[1;32m     31\u001b[0m     \u001b[0;32mreturn\u001b[0m \u001b[0mfeatures\u001b[0m\u001b[0;34m,\u001b[0m \u001b[0mlabels\u001b[0m\u001b[0;34m\u001b[0m\u001b[0;34m\u001b[0m\u001b[0m\n\u001b[1;32m     32\u001b[0m \u001b[0;34m\u001b[0m\u001b[0m\n\u001b[0;32m---> 33\u001b[0;31m \u001b[0mX_test2\u001b[0m\u001b[0;34m,\u001b[0m \u001b[0my_test2\u001b[0m \u001b[0;34m=\u001b[0m \u001b[0mextract_features\u001b[0m\u001b[0;34m(\u001b[0m\u001b[0mprediction_dir\u001b[0m\u001b[0;34m,\u001b[0m \u001b[0;36m400\u001b[0m\u001b[0;34m)\u001b[0m\u001b[0;34m\u001b[0m\u001b[0;34m\u001b[0m\u001b[0m\n\u001b[0m",
            "\u001b[0;32m<ipython-input-101-329cf2795dcb>\u001b[0m in \u001b[0;36mextract_features\u001b[0;34m(directory, sample_count)\u001b[0m\n\u001b[1;32m     24\u001b[0m     \u001b[0;32mfor\u001b[0m \u001b[0minputs_batch\u001b[0m\u001b[0;34m,\u001b[0m \u001b[0mlabels_batch\u001b[0m \u001b[0;32min\u001b[0m \u001b[0mgenerator\u001b[0m\u001b[0;34m:\u001b[0m\u001b[0;34m\u001b[0m\u001b[0;34m\u001b[0m\u001b[0m\n\u001b[1;32m     25\u001b[0m         \u001b[0;31m# features_batch = train_model.predict(inputs_batch)\u001b[0m\u001b[0;34m\u001b[0m\u001b[0;34m\u001b[0m\u001b[0;34m\u001b[0m\u001b[0m\n\u001b[0;32m---> 26\u001b[0;31m         \u001b[0mfeatures\u001b[0m\u001b[0;34m[\u001b[0m\u001b[0mi\u001b[0m \u001b[0;34m*\u001b[0m \u001b[0mbatch_size\u001b[0m \u001b[0;34m:\u001b[0m \u001b[0;34m(\u001b[0m\u001b[0mi\u001b[0m \u001b[0;34m+\u001b[0m \u001b[0;36m1\u001b[0m\u001b[0;34m)\u001b[0m \u001b[0;34m*\u001b[0m \u001b[0mbatch_size\u001b[0m\u001b[0;34m]\u001b[0m \u001b[0;34m=\u001b[0m \u001b[0minputs_batch\u001b[0m\u001b[0;34m\u001b[0m\u001b[0;34m\u001b[0m\u001b[0m\n\u001b[0m\u001b[1;32m     27\u001b[0m         \u001b[0mlabels\u001b[0m\u001b[0;34m[\u001b[0m\u001b[0mi\u001b[0m \u001b[0;34m*\u001b[0m \u001b[0mbatch_size\u001b[0m \u001b[0;34m:\u001b[0m \u001b[0;34m(\u001b[0m\u001b[0mi\u001b[0m \u001b[0;34m+\u001b[0m \u001b[0;36m1\u001b[0m\u001b[0;34m)\u001b[0m \u001b[0;34m*\u001b[0m \u001b[0mbatch_size\u001b[0m\u001b[0;34m]\u001b[0m \u001b[0;34m=\u001b[0m \u001b[0mlabels_batch\u001b[0m\u001b[0;34m\u001b[0m\u001b[0;34m\u001b[0m\u001b[0m\n\u001b[1;32m     28\u001b[0m         \u001b[0mi\u001b[0m \u001b[0;34m+=\u001b[0m \u001b[0;36m1\u001b[0m\u001b[0;34m\u001b[0m\u001b[0;34m\u001b[0m\u001b[0m\n",
            "\u001b[0;31mValueError\u001b[0m: could not broadcast input array from shape (10,224,224,3) into shape (20,224,224,3)"
          ]
        }
      ]
    },
    {
      "cell_type": "code",
      "metadata": {
        "colab_type": "code",
        "outputId": "17606490-be1e-4b6a-bc87-6a8362a41b97",
        "id": "pCrCqoumLtUu",
        "colab": {
          "base_uri": "https://localhost:8080/",
          "height": 163
        }
      },
      "source": [
        "print(len(y_test2))"
      ],
      "execution_count": 99,
      "outputs": [
        {
          "output_type": "error",
          "ename": "NameError",
          "evalue": "ignored",
          "traceback": [
            "\u001b[0;31m---------------------------------------------------------------------------\u001b[0m",
            "\u001b[0;31mNameError\u001b[0m                                 Traceback (most recent call last)",
            "\u001b[0;32m<ipython-input-99-e82f64d4e432>\u001b[0m in \u001b[0;36m<module>\u001b[0;34m()\u001b[0m\n\u001b[0;32m----> 1\u001b[0;31m \u001b[0mprint\u001b[0m\u001b[0;34m(\u001b[0m\u001b[0mlen\u001b[0m\u001b[0;34m(\u001b[0m\u001b[0my_test2\u001b[0m\u001b[0;34m)\u001b[0m\u001b[0;34m)\u001b[0m\u001b[0;34m\u001b[0m\u001b[0;34m\u001b[0m\u001b[0m\n\u001b[0m",
            "\u001b[0;31mNameError\u001b[0m: name 'y_test2' is not defined"
          ]
        }
      ]
    },
    {
      "cell_type": "code",
      "metadata": {
        "id": "Ee7gfBFZQ1Ud",
        "colab_type": "code",
        "colab": {}
      },
      "source": [
        "from keras.datasets import cifar10\n",
        "from keras.utils import to_categorical\n",
        "\n",
        "(X_train, y_train), (X_test, y_test) = cifar10.load_data()"
      ],
      "execution_count": 0,
      "outputs": []
    },
    {
      "cell_type": "code",
      "metadata": {
        "id": "fwdxAmGiRG2G",
        "colab_type": "code",
        "colab": {
          "base_uri": "https://localhost:8080/",
          "height": 207
        },
        "outputId": "6c2bc56b-4adb-4051-dcb0-9df16fac39f0"
      },
      "source": [
        "# print(to_categorical(X_test[0]/255.0)[0][0][0])\n",
        "print((X_test[0]/255.0).shape)\n",
        "\n",
        "# print(to_categorical(y_test[0])[0][0][0])\n",
        "print(y_test)\n",
        "print(len(y_test))\n",
        "print(to_categorical(np.ravel(y_test)))"
      ],
      "execution_count": 102,
      "outputs": [
        {
          "output_type": "stream",
          "text": [
            "(224, 224, 3)\n",
            "[0, 0, 0, 0, 0, 0, 0, 0, 0, 0, 0, 0, 0, 0, 0, 0, 0, 0, 0, 0, 0, 0, 0, 0, 0, 0, 0, 0, 0, 0, 0, 0, 0, 0, 0, 0, 0, 0, 0, 0, 1, 1, 1, 1, 1, 1, 1, 1, 1, 1, 1, 1, 1, 1, 1, 1, 1, 1, 1, 1, 1, 1, 1, 1, 1, 1, 1, 1, 1, 1, 1, 1, 1, 1, 1, 1, 1, 1, 1, 1, 2, 2, 2, 2, 2, 2, 2, 2, 2, 2, 2, 2, 2, 2, 2, 2, 2, 2, 2, 2, 2, 2, 2, 2, 2, 2, 2, 2, 2, 2, 2, 2, 2, 2, 2, 2, 2, 2, 2, 2, 3, 3, 3, 3, 3, 3, 3, 3, 3, 3, 3, 3, 3, 3, 3, 3, 3, 3, 3, 3, 3, 3, 3, 3, 3, 3, 3, 3, 3, 3, 3, 3, 3, 3, 3, 3, 3, 3, 3, 3, 4, 4, 4, 4, 4, 4, 4, 4, 4, 4, 4, 4, 4, 4, 4, 4, 4, 4, 4, 4, 4, 4, 4, 4, 4, 4, 4, 4, 4, 4, 4, 4, 4, 4, 4, 4, 4, 4, 4, 4, 5, 5, 5, 5, 5, 5, 5, 5, 5, 5, 5, 5, 5, 5, 5, 5, 5, 5, 5, 5, 5, 5, 5, 5, 5, 5, 5, 5, 5, 5, 5, 5, 5, 5, 5, 5, 5, 5, 5, 5, 6, 6, 6, 6, 6, 6, 6, 6, 6, 6, 6, 6, 6, 6, 6, 6, 6, 6, 6, 6, 6, 6, 6, 6, 6, 6, 6, 6, 6, 6, 6, 6, 6, 6, 6, 6, 6, 6, 6, 6, 7, 7, 7, 7, 7, 7, 7, 7, 7, 7, 7, 7, 7, 7, 7, 7, 7, 7, 7, 7, 7, 7, 7, 7, 7, 7, 7, 7, 7, 7, 7, 7, 7, 7, 7, 7, 7, 7, 7, 7, 8, 8, 8, 8, 8, 8, 8, 8, 8, 8, 8, 8, 8, 8, 8, 8, 8, 8, 8, 8, 8, 8, 8, 8, 8, 8, 8, 8, 8, 8, 8, 8, 8, 8, 8, 8, 8, 8, 8, 8, 9, 9, 9, 9, 9, 9, 9, 9, 9, 9, 9, 9, 9, 9, 9, 9, 9, 9, 9, 9, 9, 9, 9, 9, 9, 9, 9, 9, 9, 9, 9, 9, 9, 9, 9, 9, 9, 9, 9, 9]\n",
            "400\n",
            "[[1. 0. 0. ... 0. 0. 0.]\n",
            " [1. 0. 0. ... 0. 0. 0.]\n",
            " [1. 0. 0. ... 0. 0. 0.]\n",
            " ...\n",
            " [0. 0. 0. ... 0. 0. 1.]\n",
            " [0. 0. 0. ... 0. 0. 1.]\n",
            " [0. 0. 0. ... 0. 0. 1.]]\n"
          ],
          "name": "stdout"
        }
      ]
    },
    {
      "cell_type": "code",
      "metadata": {
        "id": "-Ry5e6uAo9Hw",
        "colab_type": "code",
        "colab": {}
      },
      "source": [
        "def sin_predict():\n",
        "    \n",
        "    X_test, y_test = X_test1, y_test1\n",
        "    X_test = X_test / 255.0\n",
        "    y_test_label = np.ravel(y_test)\n",
        "    y_test = to_categorical(y_test)\n",
        "\n",
        "    train_model = create_cnn()\n",
        "    train_model.compile(optimizer=Adam(lr=1e-5),loss='categorical_crossentropy',metrics=['accuracy'])\n",
        "\n",
        "    # 最良のモデルの読み込み\n",
        "    train_model.load_weights(f\"weights.hdf5\")\n",
        "    for layer in train_model.layers:\n",
        "        layer.trainable = False\n",
        "\n",
        "    # 単体の推論\n",
        "    single_preds = np.argmax(train_model.predict(X_test), axis=-1)\n",
        "    print(\"推論の結果は\", test_acc, \"です\")\n",
        "    # 推論のスコア\n",
        "    test_acc = accuracy_score(y_test_label, single_preds)\n",
        "\n",
        "    print(\"推論の結果は\", test_acc, \"です\")\n"
      ],
      "execution_count": 0,
      "outputs": []
    },
    {
      "cell_type": "markdown",
      "metadata": {
        "id": "PkJ-M4D1ZJ4a",
        "colab_type": "text"
      },
      "source": [
        "・推論を実行します"
      ]
    },
    {
      "cell_type": "code",
      "metadata": {
        "id": "5pMpwvF7qMTt",
        "colab_type": "code",
        "outputId": "19bb90e4-a993-4bfc-932c-1e536df081e6",
        "colab": {
          "base_uri": "https://localhost:8080/",
          "height": 323
        }
      },
      "source": [
        "# 推論\n",
        "sin_predict()"
      ],
      "execution_count": 108,
      "outputs": [
        {
          "output_type": "error",
          "ename": "ValueError",
          "evalue": "ignored",
          "traceback": [
            "\u001b[0;31m---------------------------------------------------------------------------\u001b[0m",
            "\u001b[0;31mValueError\u001b[0m                                Traceback (most recent call last)",
            "\u001b[0;32m<ipython-input-108-f7ed870affab>\u001b[0m in \u001b[0;36m<module>\u001b[0;34m()\u001b[0m\n\u001b[1;32m      1\u001b[0m \u001b[0;31m# 推論\u001b[0m\u001b[0;34m\u001b[0m\u001b[0;34m\u001b[0m\u001b[0;34m\u001b[0m\u001b[0m\n\u001b[0;32m----> 2\u001b[0;31m \u001b[0msin_predict\u001b[0m\u001b[0;34m(\u001b[0m\u001b[0;34m)\u001b[0m\u001b[0;34m\u001b[0m\u001b[0;34m\u001b[0m\u001b[0m\n\u001b[0m",
            "\u001b[0;32m<ipython-input-107-202e49a0e5cf>\u001b[0m in \u001b[0;36msin_predict\u001b[0;34m()\u001b[0m\n\u001b[1;32m     18\u001b[0m \u001b[0;34m\u001b[0m\u001b[0m\n\u001b[1;32m     19\u001b[0m     \u001b[0;31m# 推論のスコア\u001b[0m\u001b[0;34m\u001b[0m\u001b[0;34m\u001b[0m\u001b[0;34m\u001b[0m\u001b[0m\n\u001b[0;32m---> 20\u001b[0;31m     \u001b[0mtest_acc\u001b[0m \u001b[0;34m=\u001b[0m \u001b[0maccuracy_score\u001b[0m\u001b[0;34m(\u001b[0m\u001b[0my_test\u001b[0m\u001b[0;34m,\u001b[0m \u001b[0msingle_preds\u001b[0m\u001b[0;34m)\u001b[0m\u001b[0;34m\u001b[0m\u001b[0;34m\u001b[0m\u001b[0m\n\u001b[0m\u001b[1;32m     21\u001b[0m \u001b[0;34m\u001b[0m\u001b[0m\n\u001b[1;32m     22\u001b[0m     \u001b[0mprint\u001b[0m\u001b[0;34m(\u001b[0m\u001b[0;34m\"推論の結果は\"\u001b[0m\u001b[0;34m,\u001b[0m \u001b[0mtest_acc\u001b[0m\u001b[0;34m,\u001b[0m \u001b[0;34m\"です\"\u001b[0m\u001b[0;34m)\u001b[0m\u001b[0;34m\u001b[0m\u001b[0;34m\u001b[0m\u001b[0m\n",
            "\u001b[0;32m/usr/local/lib/python3.6/dist-packages/sklearn/metrics/_classification.py\u001b[0m in \u001b[0;36maccuracy_score\u001b[0;34m(y_true, y_pred, normalize, sample_weight)\u001b[0m\n\u001b[1;32m    183\u001b[0m \u001b[0;34m\u001b[0m\u001b[0m\n\u001b[1;32m    184\u001b[0m     \u001b[0;31m# Compute accuracy for each possible representation\u001b[0m\u001b[0;34m\u001b[0m\u001b[0;34m\u001b[0m\u001b[0;34m\u001b[0m\u001b[0m\n\u001b[0;32m--> 185\u001b[0;31m     \u001b[0my_type\u001b[0m\u001b[0;34m,\u001b[0m \u001b[0my_true\u001b[0m\u001b[0;34m,\u001b[0m \u001b[0my_pred\u001b[0m \u001b[0;34m=\u001b[0m \u001b[0m_check_targets\u001b[0m\u001b[0;34m(\u001b[0m\u001b[0my_true\u001b[0m\u001b[0;34m,\u001b[0m \u001b[0my_pred\u001b[0m\u001b[0;34m)\u001b[0m\u001b[0;34m\u001b[0m\u001b[0;34m\u001b[0m\u001b[0m\n\u001b[0m\u001b[1;32m    186\u001b[0m     \u001b[0mcheck_consistent_length\u001b[0m\u001b[0;34m(\u001b[0m\u001b[0my_true\u001b[0m\u001b[0;34m,\u001b[0m \u001b[0my_pred\u001b[0m\u001b[0;34m,\u001b[0m \u001b[0msample_weight\u001b[0m\u001b[0;34m)\u001b[0m\u001b[0;34m\u001b[0m\u001b[0;34m\u001b[0m\u001b[0m\n\u001b[1;32m    187\u001b[0m     \u001b[0;32mif\u001b[0m \u001b[0my_type\u001b[0m\u001b[0;34m.\u001b[0m\u001b[0mstartswith\u001b[0m\u001b[0;34m(\u001b[0m\u001b[0;34m'multilabel'\u001b[0m\u001b[0;34m)\u001b[0m\u001b[0;34m:\u001b[0m\u001b[0;34m\u001b[0m\u001b[0;34m\u001b[0m\u001b[0m\n",
            "\u001b[0;32m/usr/local/lib/python3.6/dist-packages/sklearn/metrics/_classification.py\u001b[0m in \u001b[0;36m_check_targets\u001b[0;34m(y_true, y_pred)\u001b[0m\n\u001b[1;32m     88\u001b[0m     \u001b[0;32mif\u001b[0m \u001b[0mlen\u001b[0m\u001b[0;34m(\u001b[0m\u001b[0my_type\u001b[0m\u001b[0;34m)\u001b[0m \u001b[0;34m>\u001b[0m \u001b[0;36m1\u001b[0m\u001b[0;34m:\u001b[0m\u001b[0;34m\u001b[0m\u001b[0;34m\u001b[0m\u001b[0m\n\u001b[1;32m     89\u001b[0m         raise ValueError(\"Classification metrics can't handle a mix of {0} \"\n\u001b[0;32m---> 90\u001b[0;31m                          \"and {1} targets\".format(type_true, type_pred))\n\u001b[0m\u001b[1;32m     91\u001b[0m \u001b[0;34m\u001b[0m\u001b[0m\n\u001b[1;32m     92\u001b[0m     \u001b[0;31m# We can't have more than one value on y_type => The set is no more needed\u001b[0m\u001b[0;34m\u001b[0m\u001b[0;34m\u001b[0m\u001b[0;34m\u001b[0m\u001b[0m\n",
            "\u001b[0;31mValueError\u001b[0m: Classification metrics can't handle a mix of multilabel-indicator and multiclass targets"
          ]
        }
      ]
    }
  ]
}